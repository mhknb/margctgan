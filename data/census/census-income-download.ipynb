{
 "cells": [
  {
   "cell_type": "code",
   "execution_count": 1,
   "id": "presidential-filing",
   "metadata": {},
   "outputs": [],
   "source": [
    "%load_ext autoreload\n",
    "%autoreload 2"
   ]
  },
  {
   "cell_type": "code",
   "execution_count": 2,
   "id": "hawaiian-nurse",
   "metadata": {},
   "outputs": [],
   "source": [
    "import pandas as pd"
   ]
  },
  {
   "cell_type": "code",
   "execution_count": 3,
   "id": "excessive-judgment",
   "metadata": {},
   "outputs": [
    {
     "name": "stdout",
     "output_type": "stream",
     "text": [
      "--2023-05-18 07:39:13--  https://archive.ics.uci.edu/ml/machine-learning-databases/census-income-mld/census.tar.gz\n",
      "Resolving archive.ics.uci.edu (archive.ics.uci.edu)... 128.195.10.252\n",
      "Connecting to archive.ics.uci.edu (archive.ics.uci.edu)|128.195.10.252|:443... connected.\n",
      "HTTP request sent, awaiting response... 200 OK\n",
      "Length: 9789310 (9.3M) [application/x-httpd-php]\n",
      "Saving to: ‘census.tar.gz’\n",
      "\n",
      "census.tar.gz       100%[===================>]   9.33M   854KB/s    in 19s     \n",
      "\n",
      "2023-05-18 07:39:35 (493 KB/s) - ‘census.tar.gz’ saved [9789310/9789310]\n",
      "\n"
     ]
    }
   ],
   "source": [
    "# This link is currently broken -- https://archive.ics.uci.edu/dataset/117/census+income+kdd\n",
    "!wget https://archive.ics.uci.edu/ml/machine-learning-databases/census-income-mld/census.tar.gz"
   ]
  },
  {
   "cell_type": "code",
   "execution_count": 4,
   "id": "annual-mailing",
   "metadata": {},
   "outputs": [
    {
     "name": "stdout",
     "output_type": "stream",
     "text": [
      "census-income-download.ipynb     census-income.names\r\n",
      "census-income-exploration.ipynb  census.tar.gz\r\n"
     ]
    }
   ],
   "source": [
    "ls"
   ]
  },
  {
   "cell_type": "code",
   "execution_count": 5,
   "id": "transparent-jackson",
   "metadata": {},
   "outputs": [
    {
     "name": "stdout",
     "output_type": "stream",
     "text": [
      "census-income-download.ipynb    census-income.names\r\n",
      "census-income-exploration.ipynb census.tar\r\n"
     ]
    }
   ],
   "source": [
    "! gunzip census.tar.gz\n",
    "!ls"
   ]
  },
  {
   "cell_type": "code",
   "execution_count": 6,
   "id": "national-gather",
   "metadata": {},
   "outputs": [
    {
     "name": "stdout",
     "output_type": "stream",
     "text": [
      "x census-income.data\n",
      "x census-income.names\n",
      "x census-income.test\n"
     ]
    }
   ],
   "source": [
    "! tar -xvf census.tar --directory ."
   ]
  },
  {
   "cell_type": "code",
   "execution_count": 7,
   "id": "unknown-boards",
   "metadata": {},
   "outputs": [
    {
     "name": "stdout",
     "output_type": "stream",
     "text": [
      "census-income-download.ipynb    census-income.names\r\n",
      "census-income-exploration.ipynb census-income.test\r\n",
      "census-income.data              census.tar\r\n"
     ]
    }
   ],
   "source": [
    "! ls"
   ]
  },
  {
   "cell_type": "code",
   "execution_count": 8,
   "id": "overall-commission",
   "metadata": {},
   "outputs": [
    {
     "name": "stdout",
     "output_type": "stream",
     "text": [
      "census-income-download.ipynb    census-income.names\r\n",
      "census-income-exploration.ipynb census-income.test\r\n",
      "census-income.data\r\n"
     ]
    }
   ],
   "source": [
    "! rm census.tar\n",
    "! ls"
   ]
  },
  {
   "cell_type": "code",
   "execution_count": 3,
   "id": "round-function",
   "metadata": {},
   "outputs": [],
   "source": [
    "with open(\"census-income.names\", \"r\") as f:\n",
    "    names = f.read().strip().split('\\n')"
   ]
  },
  {
   "cell_type": "code",
   "execution_count": 4,
   "id": "beautiful-coordinator",
   "metadata": {},
   "outputs": [
    {
     "data": {
      "text/plain": [
       "['| age\\t\\t\\t\\t\\t\\tAAGE',\n",
       " '| class of worker\\t\\t\\t\\tACLSWKR',\n",
       " '| industry code\\t\\t\\t\\t\\tADTIND',\n",
       " '| occupation code\\t\\t\\t\\tADTOCC',\n",
       " '| adjusted gross income\\t\\t\\t\\tAGI',\n",
       " '| education\\t\\t\\t\\t\\tAHGA',\n",
       " '| wage per hour\\t\\t\\t\\t\\tAHRSPAY',\n",
       " '| enrolled in edu inst last wk\\t\\t\\tAHSCOL',\n",
       " '| marital status\\t\\t\\t\\tAMARITL',\n",
       " '| major industry code\\t\\t\\t\\tAMJIND',\n",
       " '| major occupation code\\t\\t\\t\\tAMJOCC',\n",
       " '| mace\\t\\t\\t\\t\\t\\tARACE',\n",
       " '| hispanic Origin\\t\\t\\t\\tAREORGN',\n",
       " '| sex\\t\\t\\t\\t\\t\\tASEX',\n",
       " '| member of a labor union\\t\\t\\tAUNMEM',\n",
       " '| reason for unemployment\\t\\t\\tAUNTYPE',\n",
       " '| full or part time employment stat\\t\\tAWKSTAT',\n",
       " '| capital gains\\t\\t\\t\\t\\tCAPGAIN',\n",
       " '| capital losses\\t\\t\\t\\tCAPLOSS',\n",
       " '| divdends from stocks\\t\\t\\t\\tDIVVAL',\n",
       " '| federal income tax liability\\t\\t\\tFEDTAX',\n",
       " '| tax filer status\\t\\t\\t\\tFILESTAT',\n",
       " '| region of previous residence\\t\\t\\tGRINREG',\n",
       " '| state of previous residence\\t\\t\\tGRINST',\n",
       " '| detailed household and family stat\\t\\tHHDFMX',\n",
       " '| detailed household summary in household\\tHHDREL',\n",
       " '| instance weight\\t\\t\\t\\tMARSUPWT',\n",
       " '| migration code-change in msa\\t\\t\\tMIGMTR1',\n",
       " '| migration code-change in reg\\t\\t\\tMIGMTR3',\n",
       " '| migration code-move within reg\\t\\tMIGMTR4',\n",
       " '| live in this house 1 year ago\\t\\t\\tMIGSAME',\n",
       " '| migration prev res in sunbelt\\t\\t\\tMIGSUN',\n",
       " '| num persons worked for employer\\t\\tNOEMP',\n",
       " '| family members under 18\\t\\t\\tPARENT',\n",
       " '| total person earnings\\t\\t\\t\\tPEARNVAL',\n",
       " '| country of birth father\\t\\t\\tPEFNTVTY',\n",
       " '| country of birth mother\\t\\t\\tPEMNTVTY',\n",
       " '| country of birth self\\t\\t\\t\\tPENATVTY',\n",
       " '| citizenship\\t\\t\\t\\t\\tPRCITSHP',\n",
       " '| total person income\\t\\t\\t\\tPTOTVAL',\n",
       " '| own business or self employed\\t\\t\\tSEOTR',\n",
       " '| taxable income amount\\t\\t\\t\\tTAXINC',\n",
       " \"| fill inc questionnaire for veteran's admin\\tVETQVA\",\n",
       " '| veterans benefits\\t\\t\\t\\tVETYN',\n",
       " '| weeks worked in year\\t\\t\\t\\tWKSWORK']"
      ]
     },
     "execution_count": 4,
     "metadata": {},
     "output_type": "execute_result"
    }
   ],
   "source": [
    "col_names = names[23:68]\n",
    "col_names"
   ]
  },
  {
   "cell_type": "code",
   "execution_count": 5,
   "id": "viral-progress",
   "metadata": {},
   "outputs": [
    {
     "data": {
      "text/plain": [
       "['age',\n",
       " 'class_of_worker',\n",
       " 'industry_code',\n",
       " 'occupation_code',\n",
       " 'adjusted_gross_income',\n",
       " 'education',\n",
       " 'wage_per_hour',\n",
       " 'enrolled_in_edu_inst_last_wk',\n",
       " 'marital_status',\n",
       " 'major_industry_code',\n",
       " 'major_occupation_code',\n",
       " 'mace',\n",
       " 'hispanic_Origin',\n",
       " 'sex',\n",
       " 'member_of_a_labor_union',\n",
       " 'reason_for_unemployment',\n",
       " 'full_or_part_time_employment_stat',\n",
       " 'capital_gains',\n",
       " 'capital_losses',\n",
       " 'divdends_from_stocks',\n",
       " 'federal_income_tax_liability',\n",
       " 'tax_filer_status',\n",
       " 'region_of_previous_residence',\n",
       " 'state_of_previous_residence',\n",
       " 'detailed_household_and_family_stat',\n",
       " 'detailed_household_summary_in_household',\n",
       " 'instance_weight',\n",
       " 'migration_code-change_in_msa',\n",
       " 'migration_code-change_in_reg',\n",
       " 'migration_code-move_within_reg',\n",
       " 'live_in_this_house_1_year_ago',\n",
       " 'migration_prev_res_in_sunbelt',\n",
       " 'num_persons_worked_for_employer',\n",
       " 'family_members_under_18',\n",
       " 'total_person_earnings',\n",
       " 'country_of_birth_father',\n",
       " 'country_of_birth_mother',\n",
       " 'country_of_birth_self',\n",
       " 'citizenship',\n",
       " 'total_person_income',\n",
       " 'own_business_or_self_employed',\n",
       " 'taxable_income_amount',\n",
       " \"fill_inc_questionnaire_for_veteran's_admin\",\n",
       " 'veterans_benefits',\n",
       " 'weeks_worked_in_year']"
      ]
     },
     "execution_count": 5,
     "metadata": {},
     "output_type": "execute_result"
    }
   ],
   "source": [
    "census_columns = ['_'.join(i.lstrip(\"| \").split(\"\\t\")[0].split(\" \")) for i in col_names]\n",
    "census_columns"
   ]
  },
  {
   "cell_type": "code",
   "execution_count": 6,
   "id": "funny-solid",
   "metadata": {},
   "outputs": [
    {
     "data": {
      "text/plain": [
       "45"
      ]
     },
     "execution_count": 6,
     "metadata": {},
     "output_type": "execute_result"
    }
   ],
   "source": [
    "len(census_columns)"
   ]
  },
  {
   "cell_type": "code",
   "execution_count": 7,
   "id": "mechanical-register",
   "metadata": {},
   "outputs": [
    {
     "data": {
      "text/plain": [
       "['|   91 distinct values for attribute #0 (age) continuous',\n",
       " '|    9 distinct values for attribute #1 (class of worker) nominal',\n",
       " '|   52 distinct values for attribute #2 (detailed industry recode) nominal',\n",
       " '|   47 distinct values for attribute #3 (detailed occupation recode) nominal',\n",
       " '|   17 distinct values for attribute #4 (education) nominal',\n",
       " '| 1240 distinct values for attribute #5 (wage per hour) continuous',\n",
       " '|    3 distinct values for attribute #6 (enroll in edu inst last wk) nominal',\n",
       " '|    7 distinct values for attribute #7 (marital stat) nominal',\n",
       " '|   24 distinct values for attribute #8 (major industry code) nominal',\n",
       " '|   15 distinct values for attribute #9 (major occupation code) nominal',\n",
       " '|    5 distinct values for attribute #10 (race) nominal',\n",
       " '|   10 distinct values for attribute #11 (hispanic origin) nominal',\n",
       " '|    2 distinct values for attribute #12 (sex) nominal',\n",
       " '|    3 distinct values for attribute #13 (member of a labor union) nominal',\n",
       " '|    6 distinct values for attribute #14 (reason for unemployment) nominal',\n",
       " '|    8 distinct values for attribute #15 (full or part time employment stat) nominal',\n",
       " '|  132 distinct values for attribute #16 (capital gains) continuous',\n",
       " '|  113 distinct values for attribute #17 (capital losses) continuous',\n",
       " '| 1478 distinct values for attribute #18 (dividends from stocks) continuous',\n",
       " '|    6 distinct values for attribute #19 (tax filer stat) nominal',\n",
       " '|    6 distinct values for attribute #20 (region of previous residence) nominal',\n",
       " '|   51 distinct values for attribute #21 (state of previous residence) nominal',\n",
       " '|   38 distinct values for attribute #22 (detailed household and family stat) nominal',\n",
       " '|    8 distinct values for attribute #23 (detailed household summary in household) nominal',\n",
       " '|   10 distinct values for attribute #24 (migration code-change in msa) nominal',\n",
       " '|    9 distinct values for attribute #25 (migration code-change in reg) nominal',\n",
       " '|   10 distinct values for attribute #26 (migration code-move within reg) nominal',\n",
       " '|    3 distinct values for attribute #27 (live in this house 1 year ago) nominal',\n",
       " '|    4 distinct values for attribute #28 (migration prev res in sunbelt) nominal',\n",
       " '|    7 distinct values for attribute #29 (num persons worked for employer) continuous',\n",
       " '|    5 distinct values for attribute #30 (family members under 18) nominal',\n",
       " '|   43 distinct values for attribute #31 (country of birth father) nominal',\n",
       " '|   43 distinct values for attribute #32 (country of birth mother) nominal',\n",
       " '|   43 distinct values for attribute #33 (country of birth self) nominal',\n",
       " '|    5 distinct values for attribute #34 (citizenship) nominal',\n",
       " '|    3 distinct values for attribute #35 (own business or self employed) nominal',\n",
       " \"|    3 distinct values for attribute #36 (fill inc questionnaire for veteran's admin) nominal\",\n",
       " '|    3 distinct values for attribute #37 (veterans benefits) nominal',\n",
       " '|   53 distinct values for attribute #38 (weeks worked in year) continuous',\n",
       " '|    2 distinct values for attribute #39 (year) nominal']"
      ]
     },
     "execution_count": 7,
     "metadata": {},
     "output_type": "execute_result"
    }
   ],
   "source": [
    "col_names_ = names[81:121]\n",
    "col_names_"
   ]
  },
  {
   "cell_type": "code",
   "execution_count": 8,
   "id": "fossil-thing",
   "metadata": {},
   "outputs": [
    {
     "data": {
      "text/plain": [
       "['age', 'class_of_worker', 'detailed_industry_recode']"
      ]
     },
     "execution_count": 8,
     "metadata": {},
     "output_type": "execute_result"
    }
   ],
   "source": [
    "import re\n",
    "pattern = r'\\((?P<col>.*?)\\)'\n",
    "prog = re.compile(pattern)\n",
    "census_columns_ = [\"_\".join(prog.search(i).group('col').split(\" \")) for i in col_names_]\n",
    "census_columns_[:3]\n"
   ]
  },
  {
   "cell_type": "code",
   "execution_count": 9,
   "id": "neither-signal",
   "metadata": {},
   "outputs": [
    {
     "data": {
      "text/plain": [
       "40"
      ]
     },
     "execution_count": 9,
     "metadata": {},
     "output_type": "execute_result"
    }
   ],
   "source": [
    "len(census_columns_)"
   ]
  },
  {
   "cell_type": "code",
   "execution_count": 10,
   "id": "painted-schema",
   "metadata": {},
   "outputs": [
    {
     "data": {
      "text/plain": [
       "['age',\n",
       " 'class_of_worker',\n",
       " 'industry_code',\n",
       " 'occupation_code',\n",
       " 'adjusted_gross_income',\n",
       " 'education',\n",
       " 'wage_per_hour',\n",
       " 'enrolled_in_edu_inst_last_wk',\n",
       " 'marital_status',\n",
       " 'major_industry_code',\n",
       " 'major_occupation_code',\n",
       " 'mace',\n",
       " 'hispanic_Origin',\n",
       " 'sex',\n",
       " 'member_of_a_labor_union',\n",
       " 'reason_for_unemployment',\n",
       " 'full_or_part_time_employment_stat',\n",
       " 'capital_gains',\n",
       " 'capital_losses',\n",
       " 'divdends_from_stocks',\n",
       " 'federal_income_tax_liability',\n",
       " 'tax_filer_status',\n",
       " 'region_of_previous_residence',\n",
       " 'state_of_previous_residence',\n",
       " 'detailed_household_and_family_stat',\n",
       " 'detailed_household_summary_in_household',\n",
       " 'instance_weight',\n",
       " 'migration_code-change_in_msa',\n",
       " 'migration_code-change_in_reg',\n",
       " 'migration_code-move_within_reg',\n",
       " 'live_in_this_house_1_year_ago',\n",
       " 'migration_prev_res_in_sunbelt',\n",
       " 'num_persons_worked_for_employer',\n",
       " 'family_members_under_18',\n",
       " 'total_person_earnings',\n",
       " 'country_of_birth_father',\n",
       " 'country_of_birth_mother',\n",
       " 'country_of_birth_self',\n",
       " 'citizenship',\n",
       " 'total_person_income',\n",
       " 'own_business_or_self_employed',\n",
       " 'taxable_income_amount',\n",
       " \"fill_inc_questionnaire_for_veteran's_admin\",\n",
       " 'veterans_benefits',\n",
       " 'weeks_worked_in_year']"
      ]
     },
     "execution_count": 10,
     "metadata": {},
     "output_type": "execute_result"
    }
   ],
   "source": [
    "census_columns"
   ]
  },
  {
   "cell_type": "code",
   "execution_count": 11,
   "id": "flexible-startup",
   "metadata": {},
   "outputs": [
    {
     "data": {
      "text/plain": [
       "['age',\n",
       " 'class_of_worker',\n",
       " 'detailed_industry_recode',\n",
       " 'detailed_occupation_recode',\n",
       " 'education',\n",
       " 'wage_per_hour',\n",
       " 'enroll_in_edu_inst_last_wk',\n",
       " 'marital_stat',\n",
       " 'major_industry_code',\n",
       " 'major_occupation_code',\n",
       " 'race',\n",
       " 'hispanic_origin',\n",
       " 'sex',\n",
       " 'member_of_a_labor_union',\n",
       " 'reason_for_unemployment',\n",
       " 'full_or_part_time_employment_stat',\n",
       " 'capital_gains',\n",
       " 'capital_losses',\n",
       " 'dividends_from_stocks',\n",
       " 'tax_filer_stat',\n",
       " 'region_of_previous_residence',\n",
       " 'state_of_previous_residence',\n",
       " 'detailed_household_and_family_stat',\n",
       " 'detailed_household_summary_in_household',\n",
       " 'migration_code-change_in_msa',\n",
       " 'migration_code-change_in_reg',\n",
       " 'migration_code-move_within_reg',\n",
       " 'live_in_this_house_1_year_ago',\n",
       " 'migration_prev_res_in_sunbelt',\n",
       " 'num_persons_worked_for_employer',\n",
       " 'family_members_under_18',\n",
       " 'country_of_birth_father',\n",
       " 'country_of_birth_mother',\n",
       " 'country_of_birth_self',\n",
       " 'citizenship',\n",
       " 'own_business_or_self_employed',\n",
       " \"fill_inc_questionnaire_for_veteran's_admin\",\n",
       " 'veterans_benefits',\n",
       " 'weeks_worked_in_year',\n",
       " 'year']"
      ]
     },
     "execution_count": 11,
     "metadata": {},
     "output_type": "execute_result"
    }
   ],
   "source": [
    "census_columns_"
   ]
  },
  {
   "cell_type": "code",
   "execution_count": 12,
   "id": "informational-chase",
   "metadata": {},
   "outputs": [
    {
     "data": {
      "text/plain": [
       "['age: continuous.',\n",
       " 'class of worker: Not in universe, Federal government, Local government, Never worked, Private, Self-employed-incorporated, Self-employed-not incorporated, State government, Without pay.',\n",
       " 'detailed industry recode: 0, 40, 44, 2, 43, 47, 48, 1, 11, 19, 24, 25, 32, 33, 34, 35, 36, 37, 38, 39, 4, 42, 45, 5, 15, 16, 22, 29, 31, 50, 14, 17, 18, 28, 3, 30, 41, 46, 51, 12, 13, 21, 23, 26, 6, 7, 9, 49, 27, 8, 10, 20.',\n",
       " 'detailed occupation recode: 0, 12, 31, 44, 19, 32, 10, 23, 26, 28, 29, 42, 40, 34, 14, 36, 38, 2, 20, 25, 37, 41, 27, 24, 30, 43, 33, 16, 45, 17, 35, 22, 18, 39, 3, 15, 13, 46, 8, 21, 9, 4, 6, 5, 1, 11, 7.',\n",
       " 'education: Children, 7th and 8th grade, 9th grade, 10th grade, High school graduate, 11th grade, 12th grade no diploma, 5th or 6th grade, Less than 1st grade, Bachelors degree(BA AB BS), 1st 2nd 3rd or 4th grade, Some college but no degree, Masters degree(MA MS MEng MEd MSW MBA), Associates degree-occup /vocational, Associates degree-academic program, Doctorate degree(PhD EdD), Prof school degree (MD DDS DVM LLB JD).',\n",
       " 'wage per hour: continuous.',\n",
       " 'enroll in edu inst last wk: Not in universe, High school, College or university.',\n",
       " 'marital stat: Never married, Married-civilian spouse present, Married-spouse absent, Separated, Divorced, Widowed, Married-A F spouse present.',\n",
       " 'major industry code: Not in universe or children, Entertainment, Social services, Agriculture, Education, Public administration, Manufacturing-durable goods, Manufacturing-nondurable goods, Wholesale trade, Retail trade, Finance insurance and real estate, Private household services, Business and repair services, Personal services except private HH, Construction, Medical except hospital, Other professional services, Transportation, Utilities and sanitary services, Mining, Communications, Hospital services, Forestry and fisheries, Armed Forces.',\n",
       " 'major occupation code: Not in universe, Professional specialty, Other service, Farming forestry and fishing, Sales, Adm support including clerical, Protective services, Handlers equip cleaners etc , Precision production craft & repair, Technicians and related support, Machine operators assmblrs & inspctrs, Transportation and material moving, Executive admin and managerial, Private household services, Armed Forces.',\n",
       " 'race: White, Black, Other, Amer Indian Aleut or Eskimo, Asian or Pacific Islander.',\n",
       " 'hispanic origin: Mexican (Mexicano), Mexican-American, Puerto Rican, Central or South American, All other, Other Spanish, Chicano, Cuban, Do not know, NA.',\n",
       " 'sex: Female, Male.',\n",
       " 'member of a labor union: Not in universe, No, Yes.',\n",
       " 'reason for unemployment: Not in universe, Re-entrant, Job loser - on layoff, New entrant, Job leaver, Other job loser.',\n",
       " 'full or part time employment stat: Children or Armed Forces, Full-time schedules, Unemployed part- time, Not in labor force, Unemployed full-time, PT for non-econ reasons usually FT, PT for econ reasons usually PT, PT for econ reasons usually FT.',\n",
       " 'capital gains: continuous.',\n",
       " 'capital losses: continuous.',\n",
       " 'dividends from stocks: continuous.',\n",
       " 'tax filer stat: Nonfiler, Joint one under 65 & one 65+, Joint both under 65, Single, Head of household, Joint both 65+.',\n",
       " 'region of previous residence: Not in universe, South, Northeast, West, Midwest, Abroad.',\n",
       " 'state of previous residence: Not in universe, Utah, Michigan, North Carolina, North Dakota, Virginia, Vermont, Wyoming, West Virginia, Pennsylvania, Abroad, Oregon, California, Iowa, Florida, Arkansas, Texas, South Carolina, Arizona, Indiana, Tennessee, Maine, Alaska, Ohio, Montana, Nebraska, Mississippi, District of Columbia, Minnesota, Illinois, Kentucky, Delaware, Colorado, Maryland, Wisconsin, New Hampshire, Nevada, New York, Georgia, Oklahoma, New Mexico, South Dakota, Missouri, Kansas, Connecticut, Louisiana, Alabama, Massachusetts, Idaho, New Jersey.',\n",
       " 'detailed household and family stat: Child <18 never marr not in subfamily, Other Rel <18 never marr child of subfamily RP, Other Rel <18 never marr not in subfamily, Grandchild <18 never marr child of subfamily RP, Grandchild <18 never marr not in subfamily, Secondary individual, In group quarters, Child under 18 of RP of unrel subfamily, RP of unrelated subfamily, Spouse of householder, Householder, Other Rel <18 never married RP of subfamily, Grandchild <18 never marr RP of subfamily, Child <18 never marr RP of subfamily, Child <18 ever marr not in subfamily, Other Rel <18 ever marr RP of subfamily, Child <18 ever marr RP of subfamily, Nonfamily householder, Child <18 spouse of subfamily RP, Other Rel <18 spouse of subfamily RP, Other Rel <18 ever marr not in subfamily, Grandchild <18 ever marr not in subfamily, Child 18+ never marr Not in a subfamily, Grandchild 18+ never marr not in subfamily, Child 18+ ever marr RP of subfamily, Other Rel 18+ never marr not in subfamily, Child 18+ never marr RP of subfamily, Other Rel 18+ ever marr RP of subfamily, Other Rel 18+ never marr RP of subfamily, Other Rel 18+ spouse of subfamily RP, Other Rel 18+ ever marr not in subfamily, Child 18+ ever marr Not in a subfamily, Grandchild 18+ ever marr not in subfamily, Child 18+ spouse of subfamily RP, Spouse of RP of unrelated subfamily, Grandchild 18+ ever marr RP of subfamily, Grandchild 18+ never marr RP of subfamily, Grandchild 18+ spouse of subfamily RP.',\n",
       " 'detailed household summary in household: Child under 18 never married, Other relative of householder, Nonrelative of householder, Spouse of householder, Householder, Child under 18 ever married, Group Quarters- Secondary individual, Child 18 or older.',\n",
       " '| instance weight: ignore.',\n",
       " 'instance weight: continuous.',\n",
       " 'migration code-change in msa: Not in universe, Nonmover, MSA to MSA, NonMSA to nonMSA, MSA to nonMSA, NonMSA to MSA, Abroad to MSA, Not identifiable, Abroad to nonMSA.',\n",
       " 'migration code-change in reg: Not in universe, Nonmover, Same county, Different county same state, Different state same division, Abroad, Different region, Different division same region.',\n",
       " 'migration code-move within reg: Not in universe, Nonmover, Same county, Different county same state, Different state in West, Abroad, Different state in Midwest, Different state in South, Different state in Northeast.',\n",
       " 'live in this house 1 year ago: Not in universe under 1 year old, Yes, No.',\n",
       " 'migration prev res in sunbelt: Not in universe, Yes, No.',\n",
       " 'num persons worked for employer: continuous.',\n",
       " 'family members under 18: Both parents present, Neither parent present, Mother only present, Father only present, Not in universe.',\n",
       " 'country of birth father: Mexico, United-States, Puerto-Rico, Dominican-Republic, Jamaica, Cuba, Portugal, Nicaragua, Peru, Ecuador, Guatemala, Philippines, Canada, Columbia, El-Salvador, Japan, England, Trinadad&Tobago, Honduras, Germany, Taiwan, Outlying-U S (Guam USVI etc), India, Vietnam, China, Hong Kong, Cambodia, France, Laos, Haiti, South Korea, Iran, Greece, Italy, Poland, Thailand, Yugoslavia, Holand-Netherlands, Ireland, Scotland, Hungary, Panama.',\n",
       " 'country of birth mother: India, Mexico, United-States, Puerto-Rico, Dominican-Republic, England, Honduras, Peru, Guatemala, Columbia, El-Salvador, Philippines, France, Ecuador, Nicaragua, Cuba, Outlying-U S (Guam USVI etc), Jamaica, South Korea, China, Germany, Yugoslavia, Canada, Vietnam, Japan, Cambodia, Ireland, Laos, Haiti, Portugal, Taiwan, Holand-Netherlands, Greece, Italy, Poland, Thailand, Trinadad&Tobago, Hungary, Panama, Hong Kong, Scotland, Iran.',\n",
       " 'country of birth self: United-States, Mexico, Puerto-Rico, Peru, Canada, South Korea, India, Japan, Haiti, El-Salvador, Dominican-Republic, Portugal, Columbia, England, Thailand, Cuba, Laos, Panama, China, Germany, Vietnam, Italy, Honduras, Outlying-U S (Guam USVI etc), Hungary, Philippines, Poland, Ecuador, Iran, Guatemala, Holand-Netherlands, Taiwan, Nicaragua, France, Jamaica, Scotland, Yugoslavia, Hong Kong, Trinadad&Tobago, Greece, Cambodia, Ireland.',\n",
       " 'citizenship: Native- Born in the United States, Foreign born- Not a citizen of U S , Native- Born in Puerto Rico or U S Outlying, Native- Born abroad of American Parent(s), Foreign born- U S citizen by naturalization.',\n",
       " 'own business or self employed: 0, 2, 1.',\n",
       " \"fill inc questionnaire for veteran's admin: Not in universe, Yes, No.\",\n",
       " 'veterans benefits: 0, 2, 1.',\n",
       " 'weeks worked in year: continuous.',\n",
       " 'year: 94, 95.']"
      ]
     },
     "execution_count": 12,
     "metadata": {},
     "output_type": "execute_result"
    }
   ],
   "source": [
    "col_names__ = names[142:]\n",
    "col_names__"
   ]
  },
  {
   "cell_type": "code",
   "execution_count": 13,
   "id": "unusual-holmes",
   "metadata": {},
   "outputs": [
    {
     "name": "stdout",
     "output_type": "stream",
     "text": [
      "42\n"
     ]
    }
   ],
   "source": [
    "census_columns__ = [\"_\".join(i.split(':')[0].split(\" \")) for i in col_names__ if \"|\" not in i]\n",
    "census_columns__.append(\"income\")\n",
    "print(len(census_columns__))"
   ]
  },
  {
   "cell_type": "code",
   "execution_count": 14,
   "id": "split-adams",
   "metadata": {
    "scrolled": true
   },
   "outputs": [
    {
     "name": "stdout",
     "output_type": "stream",
     "text": [
      "(199523, 42)\n"
     ]
    },
    {
     "data": {
      "text/html": [
       "<div>\n",
       "<style scoped>\n",
       "    .dataframe tbody tr th:only-of-type {\n",
       "        vertical-align: middle;\n",
       "    }\n",
       "\n",
       "    .dataframe tbody tr th {\n",
       "        vertical-align: top;\n",
       "    }\n",
       "\n",
       "    .dataframe thead th {\n",
       "        text-align: right;\n",
       "    }\n",
       "</style>\n",
       "<table border=\"1\" class=\"dataframe\">\n",
       "  <thead>\n",
       "    <tr style=\"text-align: right;\">\n",
       "      <th></th>\n",
       "      <th>age</th>\n",
       "      <th>class_of_worker</th>\n",
       "      <th>detailed_industry_recode</th>\n",
       "      <th>detailed_occupation_recode</th>\n",
       "      <th>education</th>\n",
       "      <th>wage_per_hour</th>\n",
       "      <th>enroll_in_edu_inst_last_wk</th>\n",
       "      <th>marital_stat</th>\n",
       "      <th>major_industry_code</th>\n",
       "      <th>major_occupation_code</th>\n",
       "      <th>...</th>\n",
       "      <th>country_of_birth_father</th>\n",
       "      <th>country_of_birth_mother</th>\n",
       "      <th>country_of_birth_self</th>\n",
       "      <th>citizenship</th>\n",
       "      <th>own_business_or_self_employed</th>\n",
       "      <th>fill_inc_questionnaire_for_veteran's_admin</th>\n",
       "      <th>veterans_benefits</th>\n",
       "      <th>weeks_worked_in_year</th>\n",
       "      <th>year</th>\n",
       "      <th>income</th>\n",
       "    </tr>\n",
       "  </thead>\n",
       "  <tbody>\n",
       "    <tr>\n",
       "      <th>0</th>\n",
       "      <td>73</td>\n",
       "      <td>Not in universe</td>\n",
       "      <td>0</td>\n",
       "      <td>0</td>\n",
       "      <td>High school graduate</td>\n",
       "      <td>0</td>\n",
       "      <td>Not in universe</td>\n",
       "      <td>Widowed</td>\n",
       "      <td>Not in universe or children</td>\n",
       "      <td>Not in universe</td>\n",
       "      <td>...</td>\n",
       "      <td>United-States</td>\n",
       "      <td>United-States</td>\n",
       "      <td>United-States</td>\n",
       "      <td>Native- Born in the United States</td>\n",
       "      <td>0</td>\n",
       "      <td>Not in universe</td>\n",
       "      <td>2</td>\n",
       "      <td>0</td>\n",
       "      <td>95</td>\n",
       "      <td>- 50000.</td>\n",
       "    </tr>\n",
       "    <tr>\n",
       "      <th>1</th>\n",
       "      <td>58</td>\n",
       "      <td>Self-employed-not incorporated</td>\n",
       "      <td>4</td>\n",
       "      <td>34</td>\n",
       "      <td>Some college but no degree</td>\n",
       "      <td>0</td>\n",
       "      <td>Not in universe</td>\n",
       "      <td>Divorced</td>\n",
       "      <td>Construction</td>\n",
       "      <td>Precision production craft &amp; repair</td>\n",
       "      <td>...</td>\n",
       "      <td>United-States</td>\n",
       "      <td>United-States</td>\n",
       "      <td>United-States</td>\n",
       "      <td>Native- Born in the United States</td>\n",
       "      <td>0</td>\n",
       "      <td>Not in universe</td>\n",
       "      <td>2</td>\n",
       "      <td>52</td>\n",
       "      <td>94</td>\n",
       "      <td>- 50000.</td>\n",
       "    </tr>\n",
       "    <tr>\n",
       "      <th>2</th>\n",
       "      <td>18</td>\n",
       "      <td>Not in universe</td>\n",
       "      <td>0</td>\n",
       "      <td>0</td>\n",
       "      <td>10th grade</td>\n",
       "      <td>0</td>\n",
       "      <td>High school</td>\n",
       "      <td>Never married</td>\n",
       "      <td>Not in universe or children</td>\n",
       "      <td>Not in universe</td>\n",
       "      <td>...</td>\n",
       "      <td>Vietnam</td>\n",
       "      <td>Vietnam</td>\n",
       "      <td>Vietnam</td>\n",
       "      <td>Foreign born- Not a citizen of U S</td>\n",
       "      <td>0</td>\n",
       "      <td>Not in universe</td>\n",
       "      <td>2</td>\n",
       "      <td>0</td>\n",
       "      <td>95</td>\n",
       "      <td>- 50000.</td>\n",
       "    </tr>\n",
       "    <tr>\n",
       "      <th>3</th>\n",
       "      <td>9</td>\n",
       "      <td>Not in universe</td>\n",
       "      <td>0</td>\n",
       "      <td>0</td>\n",
       "      <td>Children</td>\n",
       "      <td>0</td>\n",
       "      <td>Not in universe</td>\n",
       "      <td>Never married</td>\n",
       "      <td>Not in universe or children</td>\n",
       "      <td>Not in universe</td>\n",
       "      <td>...</td>\n",
       "      <td>United-States</td>\n",
       "      <td>United-States</td>\n",
       "      <td>United-States</td>\n",
       "      <td>Native- Born in the United States</td>\n",
       "      <td>0</td>\n",
       "      <td>Not in universe</td>\n",
       "      <td>0</td>\n",
       "      <td>0</td>\n",
       "      <td>94</td>\n",
       "      <td>- 50000.</td>\n",
       "    </tr>\n",
       "    <tr>\n",
       "      <th>4</th>\n",
       "      <td>10</td>\n",
       "      <td>Not in universe</td>\n",
       "      <td>0</td>\n",
       "      <td>0</td>\n",
       "      <td>Children</td>\n",
       "      <td>0</td>\n",
       "      <td>Not in universe</td>\n",
       "      <td>Never married</td>\n",
       "      <td>Not in universe or children</td>\n",
       "      <td>Not in universe</td>\n",
       "      <td>...</td>\n",
       "      <td>United-States</td>\n",
       "      <td>United-States</td>\n",
       "      <td>United-States</td>\n",
       "      <td>Native- Born in the United States</td>\n",
       "      <td>0</td>\n",
       "      <td>Not in universe</td>\n",
       "      <td>0</td>\n",
       "      <td>0</td>\n",
       "      <td>94</td>\n",
       "      <td>- 50000.</td>\n",
       "    </tr>\n",
       "  </tbody>\n",
       "</table>\n",
       "<p>5 rows × 42 columns</p>\n",
       "</div>"
      ],
      "text/plain": [
       "   age                  class_of_worker  detailed_industry_recode  \\\n",
       "0   73                  Not in universe                         0   \n",
       "1   58   Self-employed-not incorporated                         4   \n",
       "2   18                  Not in universe                         0   \n",
       "3    9                  Not in universe                         0   \n",
       "4   10                  Not in universe                         0   \n",
       "\n",
       "   detailed_occupation_recode                    education  wage_per_hour  \\\n",
       "0                           0         High school graduate              0   \n",
       "1                          34   Some college but no degree              0   \n",
       "2                           0                   10th grade              0   \n",
       "3                           0                     Children              0   \n",
       "4                           0                     Children              0   \n",
       "\n",
       "  enroll_in_edu_inst_last_wk    marital_stat           major_industry_code  \\\n",
       "0            Not in universe         Widowed   Not in universe or children   \n",
       "1            Not in universe        Divorced                  Construction   \n",
       "2                High school   Never married   Not in universe or children   \n",
       "3            Not in universe   Never married   Not in universe or children   \n",
       "4            Not in universe   Never married   Not in universe or children   \n",
       "\n",
       "                  major_occupation_code  ... country_of_birth_father  \\\n",
       "0                       Not in universe  ...           United-States   \n",
       "1   Precision production craft & repair  ...           United-States   \n",
       "2                       Not in universe  ...                 Vietnam   \n",
       "3                       Not in universe  ...           United-States   \n",
       "4                       Not in universe  ...           United-States   \n",
       "\n",
       "  country_of_birth_mother country_of_birth_self  \\\n",
       "0           United-States         United-States   \n",
       "1           United-States         United-States   \n",
       "2                 Vietnam               Vietnam   \n",
       "3           United-States         United-States   \n",
       "4           United-States         United-States   \n",
       "\n",
       "                            citizenship own_business_or_self_employed  \\\n",
       "0     Native- Born in the United States                             0   \n",
       "1     Native- Born in the United States                             0   \n",
       "2   Foreign born- Not a citizen of U S                              0   \n",
       "3     Native- Born in the United States                             0   \n",
       "4     Native- Born in the United States                             0   \n",
       "\n",
       "  fill_inc_questionnaire_for_veteran's_admin  veterans_benefits  \\\n",
       "0                            Not in universe                  2   \n",
       "1                            Not in universe                  2   \n",
       "2                            Not in universe                  2   \n",
       "3                            Not in universe                  0   \n",
       "4                            Not in universe                  0   \n",
       "\n",
       "   weeks_worked_in_year  year     income  \n",
       "0                     0    95   - 50000.  \n",
       "1                    52    94   - 50000.  \n",
       "2                     0    95   - 50000.  \n",
       "3                     0    94   - 50000.  \n",
       "4                     0    94   - 50000.  \n",
       "\n",
       "[5 rows x 42 columns]"
      ]
     },
     "execution_count": 14,
     "metadata": {},
     "output_type": "execute_result"
    }
   ],
   "source": [
    "census_train = pd.read_csv(\"census-income.data\", names=census_columns__)\n",
    "print(census_train.shape)\n",
    "census_train.head()"
   ]
  },
  {
   "cell_type": "code",
   "execution_count": 15,
   "id": "suffering-encounter",
   "metadata": {},
   "outputs": [],
   "source": [
    "def preprocess(df, drop_col=\"instance_weight\"):\n",
    "    census = df.copy()\n",
    "    \n",
    "    # drop instance weight\n",
    "    if drop_col is not None:\n",
    "        census = census.drop(columns=drop_col)\n",
    "        \n",
    "    num_cols = census._get_numeric_data().columns\n",
    "    cat_cols = list(set(census.columns) - set(num_cols))\n",
    "    \n",
    "    discrete_cols = [\"detailed_industry_recode\", \"detailed_occupation_recode\", \"own_business_or_self_employed\", \"veterans_benefits\", \"year\"]\n",
    "    \n",
    "    \n",
    "    for i in cat_cols:\n",
    "        census[i] = census[i].str.strip()\n",
    "        \n",
    "    \n",
    "    # make target column consistent with adult\n",
    "    census.income = census.income.replace(\"- 50000.\", \"<=50K\").replace(\"50000+.\", \">50K\")\n",
    "    \n",
    "    return census, cat_cols, num_cols, discrete_cols\n"
   ]
  },
  {
   "cell_type": "code",
   "execution_count": 16,
   "id": "awful-psychiatry",
   "metadata": {},
   "outputs": [
    {
     "data": {
      "text/plain": [
       "(199523, 41)"
      ]
     },
     "execution_count": 16,
     "metadata": {},
     "output_type": "execute_result"
    }
   ],
   "source": [
    "census_train, cat_cols, num_cols, discrete_cols = preprocess(census_train)\n",
    "\n",
    "census_train.shape"
   ]
  },
  {
   "cell_type": "code",
   "execution_count": 17,
   "id": "anticipated-description",
   "metadata": {},
   "outputs": [
    {
     "data": {
      "text/plain": [
       "<=50K    187141\n",
       ">50K      12382\n",
       "Name: income, dtype: int64"
      ]
     },
     "execution_count": 17,
     "metadata": {},
     "output_type": "execute_result"
    }
   ],
   "source": [
    "census_train.income.value_counts()"
   ]
  },
  {
   "cell_type": "code",
   "execution_count": 18,
   "id": "treated-albert",
   "metadata": {},
   "outputs": [
    {
     "data": {
      "text/html": [
       "<div>\n",
       "<style scoped>\n",
       "    .dataframe tbody tr th:only-of-type {\n",
       "        vertical-align: middle;\n",
       "    }\n",
       "\n",
       "    .dataframe tbody tr th {\n",
       "        vertical-align: top;\n",
       "    }\n",
       "\n",
       "    .dataframe thead th {\n",
       "        text-align: right;\n",
       "    }\n",
       "</style>\n",
       "<table border=\"1\" class=\"dataframe\">\n",
       "  <thead>\n",
       "    <tr style=\"text-align: right;\">\n",
       "      <th></th>\n",
       "      <th>age</th>\n",
       "      <th>class_of_worker</th>\n",
       "      <th>detailed_industry_recode</th>\n",
       "      <th>detailed_occupation_recode</th>\n",
       "      <th>education</th>\n",
       "      <th>wage_per_hour</th>\n",
       "      <th>enroll_in_edu_inst_last_wk</th>\n",
       "      <th>marital_stat</th>\n",
       "      <th>major_industry_code</th>\n",
       "      <th>major_occupation_code</th>\n",
       "      <th>...</th>\n",
       "      <th>country_of_birth_father</th>\n",
       "      <th>country_of_birth_mother</th>\n",
       "      <th>country_of_birth_self</th>\n",
       "      <th>citizenship</th>\n",
       "      <th>own_business_or_self_employed</th>\n",
       "      <th>fill_inc_questionnaire_for_veteran's_admin</th>\n",
       "      <th>veterans_benefits</th>\n",
       "      <th>weeks_worked_in_year</th>\n",
       "      <th>year</th>\n",
       "      <th>income</th>\n",
       "    </tr>\n",
       "  </thead>\n",
       "  <tbody>\n",
       "    <tr>\n",
       "      <th>0</th>\n",
       "      <td>73</td>\n",
       "      <td>Not in universe</td>\n",
       "      <td>0</td>\n",
       "      <td>0</td>\n",
       "      <td>High school graduate</td>\n",
       "      <td>0</td>\n",
       "      <td>Not in universe</td>\n",
       "      <td>Widowed</td>\n",
       "      <td>Not in universe or children</td>\n",
       "      <td>Not in universe</td>\n",
       "      <td>...</td>\n",
       "      <td>United-States</td>\n",
       "      <td>United-States</td>\n",
       "      <td>United-States</td>\n",
       "      <td>Native- Born in the United States</td>\n",
       "      <td>0</td>\n",
       "      <td>Not in universe</td>\n",
       "      <td>2</td>\n",
       "      <td>0</td>\n",
       "      <td>95</td>\n",
       "      <td>&lt;=50K</td>\n",
       "    </tr>\n",
       "    <tr>\n",
       "      <th>1</th>\n",
       "      <td>58</td>\n",
       "      <td>Self-employed-not incorporated</td>\n",
       "      <td>4</td>\n",
       "      <td>34</td>\n",
       "      <td>Some college but no degree</td>\n",
       "      <td>0</td>\n",
       "      <td>Not in universe</td>\n",
       "      <td>Divorced</td>\n",
       "      <td>Construction</td>\n",
       "      <td>Precision production craft &amp; repair</td>\n",
       "      <td>...</td>\n",
       "      <td>United-States</td>\n",
       "      <td>United-States</td>\n",
       "      <td>United-States</td>\n",
       "      <td>Native- Born in the United States</td>\n",
       "      <td>0</td>\n",
       "      <td>Not in universe</td>\n",
       "      <td>2</td>\n",
       "      <td>52</td>\n",
       "      <td>94</td>\n",
       "      <td>&lt;=50K</td>\n",
       "    </tr>\n",
       "    <tr>\n",
       "      <th>2</th>\n",
       "      <td>18</td>\n",
       "      <td>Not in universe</td>\n",
       "      <td>0</td>\n",
       "      <td>0</td>\n",
       "      <td>10th grade</td>\n",
       "      <td>0</td>\n",
       "      <td>High school</td>\n",
       "      <td>Never married</td>\n",
       "      <td>Not in universe or children</td>\n",
       "      <td>Not in universe</td>\n",
       "      <td>...</td>\n",
       "      <td>Vietnam</td>\n",
       "      <td>Vietnam</td>\n",
       "      <td>Vietnam</td>\n",
       "      <td>Foreign born- Not a citizen of U S</td>\n",
       "      <td>0</td>\n",
       "      <td>Not in universe</td>\n",
       "      <td>2</td>\n",
       "      <td>0</td>\n",
       "      <td>95</td>\n",
       "      <td>&lt;=50K</td>\n",
       "    </tr>\n",
       "    <tr>\n",
       "      <th>3</th>\n",
       "      <td>9</td>\n",
       "      <td>Not in universe</td>\n",
       "      <td>0</td>\n",
       "      <td>0</td>\n",
       "      <td>Children</td>\n",
       "      <td>0</td>\n",
       "      <td>Not in universe</td>\n",
       "      <td>Never married</td>\n",
       "      <td>Not in universe or children</td>\n",
       "      <td>Not in universe</td>\n",
       "      <td>...</td>\n",
       "      <td>United-States</td>\n",
       "      <td>United-States</td>\n",
       "      <td>United-States</td>\n",
       "      <td>Native- Born in the United States</td>\n",
       "      <td>0</td>\n",
       "      <td>Not in universe</td>\n",
       "      <td>0</td>\n",
       "      <td>0</td>\n",
       "      <td>94</td>\n",
       "      <td>&lt;=50K</td>\n",
       "    </tr>\n",
       "    <tr>\n",
       "      <th>4</th>\n",
       "      <td>10</td>\n",
       "      <td>Not in universe</td>\n",
       "      <td>0</td>\n",
       "      <td>0</td>\n",
       "      <td>Children</td>\n",
       "      <td>0</td>\n",
       "      <td>Not in universe</td>\n",
       "      <td>Never married</td>\n",
       "      <td>Not in universe or children</td>\n",
       "      <td>Not in universe</td>\n",
       "      <td>...</td>\n",
       "      <td>United-States</td>\n",
       "      <td>United-States</td>\n",
       "      <td>United-States</td>\n",
       "      <td>Native- Born in the United States</td>\n",
       "      <td>0</td>\n",
       "      <td>Not in universe</td>\n",
       "      <td>0</td>\n",
       "      <td>0</td>\n",
       "      <td>94</td>\n",
       "      <td>&lt;=50K</td>\n",
       "    </tr>\n",
       "  </tbody>\n",
       "</table>\n",
       "<p>5 rows × 41 columns</p>\n",
       "</div>"
      ],
      "text/plain": [
       "   age                 class_of_worker  detailed_industry_recode  \\\n",
       "0   73                 Not in universe                         0   \n",
       "1   58  Self-employed-not incorporated                         4   \n",
       "2   18                 Not in universe                         0   \n",
       "3    9                 Not in universe                         0   \n",
       "4   10                 Not in universe                         0   \n",
       "\n",
       "   detailed_occupation_recode                   education  wage_per_hour  \\\n",
       "0                           0        High school graduate              0   \n",
       "1                          34  Some college but no degree              0   \n",
       "2                           0                  10th grade              0   \n",
       "3                           0                    Children              0   \n",
       "4                           0                    Children              0   \n",
       "\n",
       "  enroll_in_edu_inst_last_wk   marital_stat          major_industry_code  \\\n",
       "0            Not in universe        Widowed  Not in universe or children   \n",
       "1            Not in universe       Divorced                 Construction   \n",
       "2                High school  Never married  Not in universe or children   \n",
       "3            Not in universe  Never married  Not in universe or children   \n",
       "4            Not in universe  Never married  Not in universe or children   \n",
       "\n",
       "                 major_occupation_code  ... country_of_birth_father  \\\n",
       "0                      Not in universe  ...           United-States   \n",
       "1  Precision production craft & repair  ...           United-States   \n",
       "2                      Not in universe  ...                 Vietnam   \n",
       "3                      Not in universe  ...           United-States   \n",
       "4                      Not in universe  ...           United-States   \n",
       "\n",
       "  country_of_birth_mother country_of_birth_self  \\\n",
       "0           United-States         United-States   \n",
       "1           United-States         United-States   \n",
       "2                 Vietnam               Vietnam   \n",
       "3           United-States         United-States   \n",
       "4           United-States         United-States   \n",
       "\n",
       "                          citizenship own_business_or_self_employed  \\\n",
       "0   Native- Born in the United States                             0   \n",
       "1   Native- Born in the United States                             0   \n",
       "2  Foreign born- Not a citizen of U S                             0   \n",
       "3   Native- Born in the United States                             0   \n",
       "4   Native- Born in the United States                             0   \n",
       "\n",
       "  fill_inc_questionnaire_for_veteran's_admin  veterans_benefits  \\\n",
       "0                            Not in universe                  2   \n",
       "1                            Not in universe                  2   \n",
       "2                            Not in universe                  2   \n",
       "3                            Not in universe                  0   \n",
       "4                            Not in universe                  0   \n",
       "\n",
       "   weeks_worked_in_year  year income  \n",
       "0                     0    95  <=50K  \n",
       "1                    52    94  <=50K  \n",
       "2                     0    95  <=50K  \n",
       "3                     0    94  <=50K  \n",
       "4                     0    94  <=50K  \n",
       "\n",
       "[5 rows x 41 columns]"
      ]
     },
     "execution_count": 18,
     "metadata": {},
     "output_type": "execute_result"
    }
   ],
   "source": [
    "census_train.head()"
   ]
  },
  {
   "cell_type": "code",
   "execution_count": 19,
   "id": "native-corps",
   "metadata": {},
   "outputs": [
    {
     "name": "stdout",
     "output_type": "stream",
     "text": [
      "12\n"
     ]
    },
    {
     "data": {
      "text/plain": [
       "Index(['age', 'detailed_industry_recode', 'detailed_occupation_recode',\n",
       "       'wage_per_hour', 'capital_gains', 'capital_losses',\n",
       "       'dividends_from_stocks', 'num_persons_worked_for_employer',\n",
       "       'own_business_or_self_employed', 'veterans_benefits',\n",
       "       'weeks_worked_in_year', 'year'],\n",
       "      dtype='object')"
      ]
     },
     "execution_count": 19,
     "metadata": {},
     "output_type": "execute_result"
    }
   ],
   "source": [
    "print(len(num_cols))\n",
    "num_cols"
   ]
  },
  {
   "cell_type": "code",
   "execution_count": 20,
   "id": "greenhouse-alpha",
   "metadata": {},
   "outputs": [
    {
     "name": "stdout",
     "output_type": "stream",
     "text": [
      "29\n"
     ]
    },
    {
     "data": {
      "text/plain": [
       "['tax_filer_stat',\n",
       " 'enroll_in_edu_inst_last_wk',\n",
       " \"fill_inc_questionnaire_for_veteran's_admin\",\n",
       " 'sex',\n",
       " 'migration_code-change_in_msa',\n",
       " 'state_of_previous_residence',\n",
       " 'education',\n",
       " 'income',\n",
       " 'migration_code-move_within_reg',\n",
       " 'country_of_birth_father',\n",
       " 'family_members_under_18',\n",
       " 'full_or_part_time_employment_stat',\n",
       " 'detailed_household_and_family_stat',\n",
       " 'detailed_household_summary_in_household',\n",
       " 'migration_code-change_in_reg',\n",
       " 'live_in_this_house_1_year_ago',\n",
       " 'citizenship',\n",
       " 'major_industry_code',\n",
       " 'member_of_a_labor_union',\n",
       " 'country_of_birth_mother',\n",
       " 'race',\n",
       " 'major_occupation_code',\n",
       " 'hispanic_origin',\n",
       " 'migration_prev_res_in_sunbelt',\n",
       " 'marital_stat',\n",
       " 'country_of_birth_self',\n",
       " 'reason_for_unemployment',\n",
       " 'region_of_previous_residence',\n",
       " 'class_of_worker']"
      ]
     },
     "execution_count": 20,
     "metadata": {},
     "output_type": "execute_result"
    }
   ],
   "source": [
    "print(len(cat_cols))\n",
    "cat_cols"
   ]
  },
  {
   "cell_type": "code",
   "execution_count": 21,
   "id": "caroline-voluntary",
   "metadata": {},
   "outputs": [
    {
     "name": "stdout",
     "output_type": "stream",
     "text": [
      "7\n"
     ]
    },
    {
     "data": {
      "text/plain": [
       "['age',\n",
       " 'weeks_worked_in_year',\n",
       " 'dividends_from_stocks',\n",
       " 'wage_per_hour',\n",
       " 'capital_losses',\n",
       " 'num_persons_worked_for_employer',\n",
       " 'capital_gains']"
      ]
     },
     "execution_count": 21,
     "metadata": {},
     "output_type": "execute_result"
    }
   ],
   "source": [
    "continuous_columns = list(set(num_cols) - set(discrete_cols))\n",
    "print(len(continuous_columns))\n",
    "\n",
    "continuous_columns"
   ]
  },
  {
   "cell_type": "code",
   "execution_count": 22,
   "id": "unexpected-victorian",
   "metadata": {},
   "outputs": [],
   "source": [
    "census_train.to_csv(\"train.csv\", index=None)"
   ]
  },
  {
   "cell_type": "code",
   "execution_count": 23,
   "id": "frank-illinois",
   "metadata": {},
   "outputs": [
    {
     "name": "stdout",
     "output_type": "stream",
     "text": [
      "census-income-download.ipynb     census-income.test\r\n",
      "census-income-exploration.ipynb  census.csv\r\n",
      "census-income.data               demo.csv\r\n",
      "\u001b[31mcensus-income.data.html\u001b[m\u001b[m*         test.csv\r\n",
      "\u001b[31mcensus-income.html\u001b[m\u001b[m*              train.csv\r\n",
      "census-income.names\r\n"
     ]
    }
   ],
   "source": [
    "ls "
   ]
  },
  {
   "cell_type": "code",
   "execution_count": 24,
   "id": "municipal-remark",
   "metadata": {},
   "outputs": [
    {
     "name": "stdout",
     "output_type": "stream",
     "text": [
      "(99762, 42)\n"
     ]
    },
    {
     "data": {
      "text/html": [
       "<div>\n",
       "<style scoped>\n",
       "    .dataframe tbody tr th:only-of-type {\n",
       "        vertical-align: middle;\n",
       "    }\n",
       "\n",
       "    .dataframe tbody tr th {\n",
       "        vertical-align: top;\n",
       "    }\n",
       "\n",
       "    .dataframe thead th {\n",
       "        text-align: right;\n",
       "    }\n",
       "</style>\n",
       "<table border=\"1\" class=\"dataframe\">\n",
       "  <thead>\n",
       "    <tr style=\"text-align: right;\">\n",
       "      <th></th>\n",
       "      <th>age</th>\n",
       "      <th>class_of_worker</th>\n",
       "      <th>detailed_industry_recode</th>\n",
       "      <th>detailed_occupation_recode</th>\n",
       "      <th>education</th>\n",
       "      <th>wage_per_hour</th>\n",
       "      <th>enroll_in_edu_inst_last_wk</th>\n",
       "      <th>marital_stat</th>\n",
       "      <th>major_industry_code</th>\n",
       "      <th>major_occupation_code</th>\n",
       "      <th>...</th>\n",
       "      <th>country_of_birth_father</th>\n",
       "      <th>country_of_birth_mother</th>\n",
       "      <th>country_of_birth_self</th>\n",
       "      <th>citizenship</th>\n",
       "      <th>own_business_or_self_employed</th>\n",
       "      <th>fill_inc_questionnaire_for_veteran's_admin</th>\n",
       "      <th>veterans_benefits</th>\n",
       "      <th>weeks_worked_in_year</th>\n",
       "      <th>year</th>\n",
       "      <th>income</th>\n",
       "    </tr>\n",
       "  </thead>\n",
       "  <tbody>\n",
       "    <tr>\n",
       "      <th>0</th>\n",
       "      <td>38</td>\n",
       "      <td>Private</td>\n",
       "      <td>6</td>\n",
       "      <td>36</td>\n",
       "      <td>1st 2nd 3rd or 4th grade</td>\n",
       "      <td>0</td>\n",
       "      <td>Not in universe</td>\n",
       "      <td>Married-civilian spouse present</td>\n",
       "      <td>Manufacturing-durable goods</td>\n",
       "      <td>Machine operators assmblrs &amp; inspctrs</td>\n",
       "      <td>...</td>\n",
       "      <td>Mexico</td>\n",
       "      <td>Mexico</td>\n",
       "      <td>Mexico</td>\n",
       "      <td>Foreign born- Not a citizen of U S</td>\n",
       "      <td>0</td>\n",
       "      <td>Not in universe</td>\n",
       "      <td>2</td>\n",
       "      <td>12</td>\n",
       "      <td>95</td>\n",
       "      <td>- 50000.</td>\n",
       "    </tr>\n",
       "    <tr>\n",
       "      <th>1</th>\n",
       "      <td>44</td>\n",
       "      <td>Self-employed-not incorporated</td>\n",
       "      <td>37</td>\n",
       "      <td>12</td>\n",
       "      <td>Associates degree-occup /vocational</td>\n",
       "      <td>0</td>\n",
       "      <td>Not in universe</td>\n",
       "      <td>Married-civilian spouse present</td>\n",
       "      <td>Business and repair services</td>\n",
       "      <td>Professional specialty</td>\n",
       "      <td>...</td>\n",
       "      <td>United-States</td>\n",
       "      <td>United-States</td>\n",
       "      <td>United-States</td>\n",
       "      <td>Native- Born in the United States</td>\n",
       "      <td>0</td>\n",
       "      <td>Not in universe</td>\n",
       "      <td>2</td>\n",
       "      <td>26</td>\n",
       "      <td>95</td>\n",
       "      <td>- 50000.</td>\n",
       "    </tr>\n",
       "    <tr>\n",
       "      <th>2</th>\n",
       "      <td>2</td>\n",
       "      <td>Not in universe</td>\n",
       "      <td>0</td>\n",
       "      <td>0</td>\n",
       "      <td>Children</td>\n",
       "      <td>0</td>\n",
       "      <td>Not in universe</td>\n",
       "      <td>Never married</td>\n",
       "      <td>Not in universe or children</td>\n",
       "      <td>Not in universe</td>\n",
       "      <td>...</td>\n",
       "      <td>United-States</td>\n",
       "      <td>United-States</td>\n",
       "      <td>United-States</td>\n",
       "      <td>Native- Born in the United States</td>\n",
       "      <td>0</td>\n",
       "      <td>Not in universe</td>\n",
       "      <td>0</td>\n",
       "      <td>0</td>\n",
       "      <td>95</td>\n",
       "      <td>- 50000.</td>\n",
       "    </tr>\n",
       "    <tr>\n",
       "      <th>3</th>\n",
       "      <td>35</td>\n",
       "      <td>Private</td>\n",
       "      <td>29</td>\n",
       "      <td>3</td>\n",
       "      <td>High school graduate</td>\n",
       "      <td>0</td>\n",
       "      <td>Not in universe</td>\n",
       "      <td>Divorced</td>\n",
       "      <td>Transportation</td>\n",
       "      <td>Executive admin and managerial</td>\n",
       "      <td>...</td>\n",
       "      <td>United-States</td>\n",
       "      <td>United-States</td>\n",
       "      <td>United-States</td>\n",
       "      <td>Native- Born in the United States</td>\n",
       "      <td>2</td>\n",
       "      <td>Not in universe</td>\n",
       "      <td>2</td>\n",
       "      <td>52</td>\n",
       "      <td>94</td>\n",
       "      <td>- 50000.</td>\n",
       "    </tr>\n",
       "    <tr>\n",
       "      <th>4</th>\n",
       "      <td>49</td>\n",
       "      <td>Private</td>\n",
       "      <td>4</td>\n",
       "      <td>34</td>\n",
       "      <td>High school graduate</td>\n",
       "      <td>0</td>\n",
       "      <td>Not in universe</td>\n",
       "      <td>Divorced</td>\n",
       "      <td>Construction</td>\n",
       "      <td>Precision production craft &amp; repair</td>\n",
       "      <td>...</td>\n",
       "      <td>United-States</td>\n",
       "      <td>United-States</td>\n",
       "      <td>United-States</td>\n",
       "      <td>Native- Born in the United States</td>\n",
       "      <td>0</td>\n",
       "      <td>Not in universe</td>\n",
       "      <td>2</td>\n",
       "      <td>50</td>\n",
       "      <td>95</td>\n",
       "      <td>- 50000.</td>\n",
       "    </tr>\n",
       "  </tbody>\n",
       "</table>\n",
       "<p>5 rows × 42 columns</p>\n",
       "</div>"
      ],
      "text/plain": [
       "   age                  class_of_worker  detailed_industry_recode  \\\n",
       "0   38                          Private                         6   \n",
       "1   44   Self-employed-not incorporated                        37   \n",
       "2    2                  Not in universe                         0   \n",
       "3   35                          Private                        29   \n",
       "4   49                          Private                         4   \n",
       "\n",
       "   detailed_occupation_recode                             education  \\\n",
       "0                          36              1st 2nd 3rd or 4th grade   \n",
       "1                          12   Associates degree-occup /vocational   \n",
       "2                           0                              Children   \n",
       "3                           3                  High school graduate   \n",
       "4                          34                  High school graduate   \n",
       "\n",
       "   wage_per_hour enroll_in_edu_inst_last_wk                      marital_stat  \\\n",
       "0              0            Not in universe   Married-civilian spouse present   \n",
       "1              0            Not in universe   Married-civilian spouse present   \n",
       "2              0            Not in universe                     Never married   \n",
       "3              0            Not in universe                          Divorced   \n",
       "4              0            Not in universe                          Divorced   \n",
       "\n",
       "             major_industry_code                   major_occupation_code  ...  \\\n",
       "0    Manufacturing-durable goods   Machine operators assmblrs & inspctrs  ...   \n",
       "1   Business and repair services                  Professional specialty  ...   \n",
       "2    Not in universe or children                         Not in universe  ...   \n",
       "3                 Transportation          Executive admin and managerial  ...   \n",
       "4                   Construction     Precision production craft & repair  ...   \n",
       "\n",
       "  country_of_birth_father country_of_birth_mother country_of_birth_self  \\\n",
       "0                  Mexico                  Mexico                Mexico   \n",
       "1           United-States           United-States         United-States   \n",
       "2           United-States           United-States         United-States   \n",
       "3           United-States           United-States         United-States   \n",
       "4           United-States           United-States         United-States   \n",
       "\n",
       "                            citizenship own_business_or_self_employed  \\\n",
       "0   Foreign born- Not a citizen of U S                              0   \n",
       "1     Native- Born in the United States                             0   \n",
       "2     Native- Born in the United States                             0   \n",
       "3     Native- Born in the United States                             2   \n",
       "4     Native- Born in the United States                             0   \n",
       "\n",
       "  fill_inc_questionnaire_for_veteran's_admin  veterans_benefits  \\\n",
       "0                            Not in universe                  2   \n",
       "1                            Not in universe                  2   \n",
       "2                            Not in universe                  0   \n",
       "3                            Not in universe                  2   \n",
       "4                            Not in universe                  2   \n",
       "\n",
       "   weeks_worked_in_year  year     income  \n",
       "0                    12    95   - 50000.  \n",
       "1                    26    95   - 50000.  \n",
       "2                     0    95   - 50000.  \n",
       "3                    52    94   - 50000.  \n",
       "4                    50    95   - 50000.  \n",
       "\n",
       "[5 rows x 42 columns]"
      ]
     },
     "execution_count": 24,
     "metadata": {},
     "output_type": "execute_result"
    }
   ],
   "source": [
    "census_test = pd.read_csv(\"census-income.test\", names=census_columns__)\n",
    "print(census_test.shape)\n",
    "census_test.head()"
   ]
  },
  {
   "cell_type": "code",
   "execution_count": 25,
   "id": "christian-growth",
   "metadata": {},
   "outputs": [
    {
     "data": {
      "text/plain": [
       "(99762, 41)"
      ]
     },
     "execution_count": 25,
     "metadata": {},
     "output_type": "execute_result"
    }
   ],
   "source": [
    "census_test, _, _, _ = preprocess(census_test)\n",
    "census_test.shape"
   ]
  },
  {
   "cell_type": "code",
   "execution_count": 26,
   "id": "grand-massachusetts",
   "metadata": {},
   "outputs": [
    {
     "data": {
      "text/plain": [
       "<=50K    93576\n",
       ">50K      6186\n",
       "Name: income, dtype: int64"
      ]
     },
     "execution_count": 26,
     "metadata": {},
     "output_type": "execute_result"
    }
   ],
   "source": [
    "census_test.income.value_counts()"
   ]
  },
  {
   "cell_type": "code",
   "execution_count": 27,
   "id": "golden-serbia",
   "metadata": {},
   "outputs": [],
   "source": [
    "census_test.to_csv(\"test.csv\", index=None)"
   ]
  },
  {
   "cell_type": "code",
   "execution_count": 28,
   "id": "enclosed-plane",
   "metadata": {},
   "outputs": [
    {
     "name": "stdout",
     "output_type": "stream",
     "text": [
      "census-income-download.ipynb     census-income.test\r\n",
      "census-income-exploration.ipynb  census.csv\r\n",
      "census-income.data               demo.csv\r\n",
      "\u001b[31mcensus-income.data.html\u001b[m\u001b[m*         test.csv\r\n",
      "\u001b[31mcensus-income.html\u001b[m\u001b[m*              train.csv\r\n",
      "census-income.names\r\n"
     ]
    }
   ],
   "source": [
    "ls"
   ]
  },
  {
   "cell_type": "code",
   "execution_count": 29,
   "id": "expanded-ireland",
   "metadata": {},
   "outputs": [],
   "source": [
    "census_all = pd.concat([census_train, census_test])\n",
    "census_all.to_csv(\"census.csv\", index=None)"
   ]
  },
  {
   "cell_type": "code",
   "execution_count": 30,
   "id": "approved-crisis",
   "metadata": {},
   "outputs": [
    {
     "data": {
      "text/html": [
       "<div>\n",
       "<style scoped>\n",
       "    .dataframe tbody tr th:only-of-type {\n",
       "        vertical-align: middle;\n",
       "    }\n",
       "\n",
       "    .dataframe tbody tr th {\n",
       "        vertical-align: top;\n",
       "    }\n",
       "\n",
       "    .dataframe thead th {\n",
       "        text-align: right;\n",
       "    }\n",
       "</style>\n",
       "<table border=\"1\" class=\"dataframe\">\n",
       "  <thead>\n",
       "    <tr style=\"text-align: right;\">\n",
       "      <th></th>\n",
       "      <th>age</th>\n",
       "      <th>class_of_worker</th>\n",
       "      <th>detailed_industry_recode</th>\n",
       "      <th>detailed_occupation_recode</th>\n",
       "      <th>education</th>\n",
       "      <th>wage_per_hour</th>\n",
       "      <th>enroll_in_edu_inst_last_wk</th>\n",
       "      <th>marital_stat</th>\n",
       "      <th>major_industry_code</th>\n",
       "      <th>major_occupation_code</th>\n",
       "      <th>...</th>\n",
       "      <th>country_of_birth_father</th>\n",
       "      <th>country_of_birth_mother</th>\n",
       "      <th>country_of_birth_self</th>\n",
       "      <th>citizenship</th>\n",
       "      <th>own_business_or_self_employed</th>\n",
       "      <th>fill_inc_questionnaire_for_veteran's_admin</th>\n",
       "      <th>veterans_benefits</th>\n",
       "      <th>weeks_worked_in_year</th>\n",
       "      <th>year</th>\n",
       "      <th>income</th>\n",
       "    </tr>\n",
       "  </thead>\n",
       "  <tbody>\n",
       "    <tr>\n",
       "      <th>0</th>\n",
       "      <td>4</td>\n",
       "      <td>Not in universe</td>\n",
       "      <td>0</td>\n",
       "      <td>0</td>\n",
       "      <td>Children</td>\n",
       "      <td>0</td>\n",
       "      <td>Not in universe</td>\n",
       "      <td>Never married</td>\n",
       "      <td>Not in universe or children</td>\n",
       "      <td>Not in universe</td>\n",
       "      <td>...</td>\n",
       "      <td>United-States</td>\n",
       "      <td>United-States</td>\n",
       "      <td>United-States</td>\n",
       "      <td>Native- Born in the United States</td>\n",
       "      <td>0</td>\n",
       "      <td>Not in universe</td>\n",
       "      <td>0</td>\n",
       "      <td>0</td>\n",
       "      <td>95</td>\n",
       "      <td>&lt;=50K</td>\n",
       "    </tr>\n",
       "    <tr>\n",
       "      <th>1</th>\n",
       "      <td>70</td>\n",
       "      <td>Not in universe</td>\n",
       "      <td>0</td>\n",
       "      <td>0</td>\n",
       "      <td>High school graduate</td>\n",
       "      <td>0</td>\n",
       "      <td>Not in universe</td>\n",
       "      <td>Widowed</td>\n",
       "      <td>Not in universe or children</td>\n",
       "      <td>Not in universe</td>\n",
       "      <td>...</td>\n",
       "      <td>Italy</td>\n",
       "      <td>Italy</td>\n",
       "      <td>United-States</td>\n",
       "      <td>Native- Born in the United States</td>\n",
       "      <td>0</td>\n",
       "      <td>Not in universe</td>\n",
       "      <td>2</td>\n",
       "      <td>0</td>\n",
       "      <td>95</td>\n",
       "      <td>&lt;=50K</td>\n",
       "    </tr>\n",
       "    <tr>\n",
       "      <th>2</th>\n",
       "      <td>26</td>\n",
       "      <td>Not in universe</td>\n",
       "      <td>0</td>\n",
       "      <td>0</td>\n",
       "      <td>9th grade</td>\n",
       "      <td>0</td>\n",
       "      <td>Not in universe</td>\n",
       "      <td>Married-civilian spouse present</td>\n",
       "      <td>Not in universe or children</td>\n",
       "      <td>Not in universe</td>\n",
       "      <td>...</td>\n",
       "      <td>Mexico</td>\n",
       "      <td>Mexico</td>\n",
       "      <td>Mexico</td>\n",
       "      <td>Foreign born- Not a citizen of U S</td>\n",
       "      <td>0</td>\n",
       "      <td>Not in universe</td>\n",
       "      <td>2</td>\n",
       "      <td>52</td>\n",
       "      <td>95</td>\n",
       "      <td>&lt;=50K</td>\n",
       "    </tr>\n",
       "    <tr>\n",
       "      <th>3</th>\n",
       "      <td>61</td>\n",
       "      <td>Not in universe</td>\n",
       "      <td>0</td>\n",
       "      <td>0</td>\n",
       "      <td>Some college but no degree</td>\n",
       "      <td>0</td>\n",
       "      <td>Not in universe</td>\n",
       "      <td>Married-civilian spouse present</td>\n",
       "      <td>Not in universe or children</td>\n",
       "      <td>Not in universe</td>\n",
       "      <td>...</td>\n",
       "      <td>United-States</td>\n",
       "      <td>United-States</td>\n",
       "      <td>United-States</td>\n",
       "      <td>Native- Born in the United States</td>\n",
       "      <td>0</td>\n",
       "      <td>Not in universe</td>\n",
       "      <td>2</td>\n",
       "      <td>0</td>\n",
       "      <td>95</td>\n",
       "      <td>&lt;=50K</td>\n",
       "    </tr>\n",
       "    <tr>\n",
       "      <th>4</th>\n",
       "      <td>18</td>\n",
       "      <td>Not in universe</td>\n",
       "      <td>0</td>\n",
       "      <td>0</td>\n",
       "      <td>11th grade</td>\n",
       "      <td>0</td>\n",
       "      <td>High school</td>\n",
       "      <td>Never married</td>\n",
       "      <td>Not in universe or children</td>\n",
       "      <td>Not in universe</td>\n",
       "      <td>...</td>\n",
       "      <td>United-States</td>\n",
       "      <td>United-States</td>\n",
       "      <td>United-States</td>\n",
       "      <td>Native- Born in the United States</td>\n",
       "      <td>0</td>\n",
       "      <td>Not in universe</td>\n",
       "      <td>2</td>\n",
       "      <td>0</td>\n",
       "      <td>94</td>\n",
       "      <td>&lt;=50K</td>\n",
       "    </tr>\n",
       "  </tbody>\n",
       "</table>\n",
       "<p>5 rows × 41 columns</p>\n",
       "</div>"
      ],
      "text/plain": [
       "   age  class_of_worker  detailed_industry_recode  detailed_occupation_recode  \\\n",
       "0    4  Not in universe                         0                           0   \n",
       "1   70  Not in universe                         0                           0   \n",
       "2   26  Not in universe                         0                           0   \n",
       "3   61  Not in universe                         0                           0   \n",
       "4   18  Not in universe                         0                           0   \n",
       "\n",
       "                    education  wage_per_hour enroll_in_edu_inst_last_wk  \\\n",
       "0                    Children              0            Not in universe   \n",
       "1        High school graduate              0            Not in universe   \n",
       "2                   9th grade              0            Not in universe   \n",
       "3  Some college but no degree              0            Not in universe   \n",
       "4                  11th grade              0                High school   \n",
       "\n",
       "                      marital_stat          major_industry_code  \\\n",
       "0                    Never married  Not in universe or children   \n",
       "1                          Widowed  Not in universe or children   \n",
       "2  Married-civilian spouse present  Not in universe or children   \n",
       "3  Married-civilian spouse present  Not in universe or children   \n",
       "4                    Never married  Not in universe or children   \n",
       "\n",
       "  major_occupation_code  ... country_of_birth_father country_of_birth_mother  \\\n",
       "0       Not in universe  ...           United-States           United-States   \n",
       "1       Not in universe  ...                   Italy                   Italy   \n",
       "2       Not in universe  ...                  Mexico                  Mexico   \n",
       "3       Not in universe  ...           United-States           United-States   \n",
       "4       Not in universe  ...           United-States           United-States   \n",
       "\n",
       "  country_of_birth_self                         citizenship  \\\n",
       "0         United-States   Native- Born in the United States   \n",
       "1         United-States   Native- Born in the United States   \n",
       "2                Mexico  Foreign born- Not a citizen of U S   \n",
       "3         United-States   Native- Born in the United States   \n",
       "4         United-States   Native- Born in the United States   \n",
       "\n",
       "  own_business_or_self_employed fill_inc_questionnaire_for_veteran's_admin  \\\n",
       "0                             0                            Not in universe   \n",
       "1                             0                            Not in universe   \n",
       "2                             0                            Not in universe   \n",
       "3                             0                            Not in universe   \n",
       "4                             0                            Not in universe   \n",
       "\n",
       "   veterans_benefits  weeks_worked_in_year  year income  \n",
       "0                  0                     0    95  <=50K  \n",
       "1                  2                     0    95  <=50K  \n",
       "2                  2                    52    95  <=50K  \n",
       "3                  2                     0    95  <=50K  \n",
       "4                  2                     0    94  <=50K  \n",
       "\n",
       "[5 rows x 41 columns]"
      ]
     },
     "execution_count": 30,
     "metadata": {},
     "output_type": "execute_result"
    }
   ],
   "source": [
    "census_demo = census_train.sample(100, random_state=1000)\n",
    "census_demo.reset_index(inplace=True, drop=True)\n",
    "census_demo.head()"
   ]
  },
  {
   "cell_type": "code",
   "execution_count": 31,
   "id": "applied-disabled",
   "metadata": {},
   "outputs": [],
   "source": [
    "census_demo.to_csv(\"demo.csv\", index=None)"
   ]
  },
  {
   "cell_type": "code",
   "execution_count": 32,
   "id": "numerous-begin",
   "metadata": {},
   "outputs": [
    {
     "data": {
      "text/plain": [
       "['tax_filer_stat',\n",
       " 'enroll_in_edu_inst_last_wk',\n",
       " \"fill_inc_questionnaire_for_veteran's_admin\",\n",
       " 'sex',\n",
       " 'migration_code-change_in_msa',\n",
       " 'state_of_previous_residence',\n",
       " 'education',\n",
       " 'income',\n",
       " 'migration_code-move_within_reg',\n",
       " 'country_of_birth_father',\n",
       " 'family_members_under_18',\n",
       " 'full_or_part_time_employment_stat',\n",
       " 'detailed_household_and_family_stat',\n",
       " 'detailed_household_summary_in_household',\n",
       " 'migration_code-change_in_reg',\n",
       " 'live_in_this_house_1_year_ago',\n",
       " 'citizenship',\n",
       " 'major_industry_code',\n",
       " 'member_of_a_labor_union',\n",
       " 'country_of_birth_mother',\n",
       " 'race',\n",
       " 'major_occupation_code',\n",
       " 'hispanic_origin',\n",
       " 'migration_prev_res_in_sunbelt',\n",
       " 'marital_stat',\n",
       " 'country_of_birth_self',\n",
       " 'reason_for_unemployment',\n",
       " 'region_of_previous_residence',\n",
       " 'class_of_worker',\n",
       " 'detailed_industry_recode',\n",
       " 'detailed_occupation_recode',\n",
       " 'own_business_or_self_employed',\n",
       " 'veterans_benefits',\n",
       " 'year']"
      ]
     },
     "execution_count": 32,
     "metadata": {},
     "output_type": "execute_result"
    }
   ],
   "source": [
    "cat_cols+discrete_cols"
   ]
  },
  {
   "cell_type": "code",
   "execution_count": 33,
   "id": "maritime-nursery",
   "metadata": {},
   "outputs": [],
   "source": [
    "df = census_train.copy()"
   ]
  },
  {
   "cell_type": "code",
   "execution_count": 34,
   "id": "therapeutic-hollywood",
   "metadata": {},
   "outputs": [],
   "source": [
    "for i in cat_cols:\n",
    "    df[i] =df[i].astype('category').cat.codes"
   ]
  },
  {
   "cell_type": "code",
   "execution_count": 35,
   "id": "final-sweet",
   "metadata": {},
   "outputs": [
    {
     "data": {
      "text/plain": [
       "age                                           0.135720\n",
       "class_of_worker                               0.099767\n",
       "detailed_industry_recode                      0.196190\n",
       "detailed_occupation_recode                    0.013414\n",
       "education                                     0.098068\n",
       "wage_per_hour                                 0.024528\n",
       "enroll_in_edu_inst_last_wk                    0.059848\n",
       "marital_stat                                 -0.154495\n",
       "major_industry_code                          -0.069000\n",
       "major_occupation_code                         0.062048\n",
       "race                                          0.042100\n",
       "hispanic_origin                              -0.059119\n",
       "sex                                           0.157610\n",
       "member_of_a_labor_union                      -0.041457\n",
       "reason_for_unemployment                      -0.005955\n",
       "full_or_part_time_employment_stat             0.018785\n",
       "capital_gains                                 0.240725\n",
       "capital_losses                                0.147417\n",
       "dividends_from_stocks                         0.175779\n",
       "tax_filer_stat                               -0.137659\n",
       "region_of_previous_residence                 -0.000618\n",
       "state_of_previous_residence                   0.015015\n",
       "detailed_household_and_family_stat            0.078594\n",
       "detailed_household_summary_in_household       0.071860\n",
       "migration_code-change_in_msa                 -0.010289\n",
       "migration_code-change_in_reg                 -0.016792\n",
       "migration_code-move_within_reg               -0.016079\n",
       "live_in_this_house_1_year_ago                 0.015476\n",
       "migration_prev_res_in_sunbelt                -0.013904\n",
       "num_persons_worked_for_employer               0.222684\n",
       "family_members_under_18                       0.151408\n",
       "country_of_birth_father                       0.004277\n",
       "country_of_birth_mother                       0.005011\n",
       "country_of_birth_self                        -0.001375\n",
       "citizenship                                   0.013676\n",
       "own_business_or_self_employed                 0.040473\n",
       "fill_inc_questionnaire_for_veteran's_admin   -0.025965\n",
       "veterans_benefits                             0.140930\n",
       "weeks_worked_in_year                          0.262316\n",
       "year                                          0.014794\n",
       "income                                        1.000000\n",
       "Name: income, dtype: float64"
      ]
     },
     "execution_count": 35,
     "metadata": {},
     "output_type": "execute_result"
    }
   ],
   "source": [
    "corr =  df.corr()\n",
    "corr['income']"
   ]
  },
  {
   "cell_type": "code",
   "execution_count": 36,
   "id": "becoming-kingdom",
   "metadata": {},
   "outputs": [],
   "source": [
    "import sys\n",
    "sys.path.append(\"../../../\")\n",
    "sys.path.append(\"../../\")\n",
    "from margctgan.metrics import utility"
   ]
  },
  {
   "cell_type": "code",
   "execution_count": 37,
   "id": "alternate-organizer",
   "metadata": {},
   "outputs": [
    {
     "name": "stderr",
     "output_type": "stream",
     "text": [
      "/Users/tejumadeafonja/.env/faketable/lib/python3.9/site-packages/sklearn/preprocessing/_encoders.py:828: FutureWarning: `sparse` was renamed to `sparse_output` in version 1.2 and will be removed in 1.4. `sparse_output` is ignored unless you leave `sparse` to its default value.\n",
      "  warnings.warn(\n",
      "/Users/tejumadeafonja/.env/faketable/lib/python3.9/site-packages/sklearn/preprocessing/_encoders.py:828: FutureWarning: `sparse` was renamed to `sparse_output` in version 1.2 and will be removed in 1.4. `sparse_output` is ignored unless you leave `sparse` to its default value.\n",
      "  warnings.warn(\n",
      "/Users/tejumadeafonja/.env/faketable/lib/python3.9/site-packages/sklearn/preprocessing/_encoders.py:828: FutureWarning: `sparse` was renamed to `sparse_output` in version 1.2 and will be removed in 1.4. `sparse_output` is ignored unless you leave `sparse` to its default value.\n",
      "  warnings.warn(\n",
      "/Users/tejumadeafonja/.env/faketable/lib/python3.9/site-packages/sklearn/preprocessing/_encoders.py:828: FutureWarning: `sparse` was renamed to `sparse_output` in version 1.2 and will be removed in 1.4. `sparse_output` is ignored unless you leave `sparse` to its default value.\n",
      "  warnings.warn(\n",
      "/Users/tejumadeafonja/.env/faketable/lib/python3.9/site-packages/sklearn/preprocessing/_encoders.py:828: FutureWarning: `sparse` was renamed to `sparse_output` in version 1.2 and will be removed in 1.4. `sparse_output` is ignored unless you leave `sparse` to its default value.\n",
      "  warnings.warn(\n",
      "/Users/tejumadeafonja/.env/faketable/lib/python3.9/site-packages/sklearn/preprocessing/_encoders.py:828: FutureWarning: `sparse` was renamed to `sparse_output` in version 1.2 and will be removed in 1.4. `sparse_output` is ignored unless you leave `sparse` to its default value.\n",
      "  warnings.warn(\n",
      "/Users/tejumadeafonja/.env/faketable/lib/python3.9/site-packages/sklearn/preprocessing/_encoders.py:828: FutureWarning: `sparse` was renamed to `sparse_output` in version 1.2 and will be removed in 1.4. `sparse_output` is ignored unless you leave `sparse` to its default value.\n",
      "  warnings.warn(\n",
      "/Users/tejumadeafonja/.env/faketable/lib/python3.9/site-packages/sklearn/preprocessing/_encoders.py:828: FutureWarning: `sparse` was renamed to `sparse_output` in version 1.2 and will be removed in 1.4. `sparse_output` is ignored unless you leave `sparse` to its default value.\n",
      "  warnings.warn(\n",
      "/Users/tejumadeafonja/.env/faketable/lib/python3.9/site-packages/sklearn/preprocessing/_encoders.py:828: FutureWarning: `sparse` was renamed to `sparse_output` in version 1.2 and will be removed in 1.4. `sparse_output` is ignored unless you leave `sparse` to its default value.\n",
      "  warnings.warn(\n",
      "/Users/tejumadeafonja/.env/faketable/lib/python3.9/site-packages/sklearn/preprocessing/_encoders.py:828: FutureWarning: `sparse` was renamed to `sparse_output` in version 1.2 and will be removed in 1.4. `sparse_output` is ignored unless you leave `sparse` to its default value.\n",
      "  warnings.warn(\n",
      "/Users/tejumadeafonja/.env/faketable/lib/python3.9/site-packages/sklearn/preprocessing/_encoders.py:828: FutureWarning: `sparse` was renamed to `sparse_output` in version 1.2 and will be removed in 1.4. `sparse_output` is ignored unless you leave `sparse` to its default value.\n",
      "  warnings.warn(\n",
      "/Users/tejumadeafonja/.env/faketable/lib/python3.9/site-packages/sklearn/preprocessing/_encoders.py:828: FutureWarning: `sparse` was renamed to `sparse_output` in version 1.2 and will be removed in 1.4. `sparse_output` is ignored unless you leave `sparse` to its default value.\n",
      "  warnings.warn(\n",
      "/Users/tejumadeafonja/.env/faketable/lib/python3.9/site-packages/sklearn/preprocessing/_encoders.py:828: FutureWarning: `sparse` was renamed to `sparse_output` in version 1.2 and will be removed in 1.4. `sparse_output` is ignored unless you leave `sparse` to its default value.\n",
      "  warnings.warn(\n",
      "/Users/tejumadeafonja/.env/faketable/lib/python3.9/site-packages/sklearn/preprocessing/_encoders.py:828: FutureWarning: `sparse` was renamed to `sparse_output` in version 1.2 and will be removed in 1.4. `sparse_output` is ignored unless you leave `sparse` to its default value.\n",
      "  warnings.warn(\n",
      "/Users/tejumadeafonja/.env/faketable/lib/python3.9/site-packages/sklearn/preprocessing/_encoders.py:828: FutureWarning: `sparse` was renamed to `sparse_output` in version 1.2 and will be removed in 1.4. `sparse_output` is ignored unless you leave `sparse` to its default value.\n",
      "  warnings.warn(\n",
      "/Users/tejumadeafonja/.env/faketable/lib/python3.9/site-packages/sklearn/preprocessing/_encoders.py:828: FutureWarning: `sparse` was renamed to `sparse_output` in version 1.2 and will be removed in 1.4. `sparse_output` is ignored unless you leave `sparse` to its default value.\n",
      "  warnings.warn(\n",
      "/Users/tejumadeafonja/.env/faketable/lib/python3.9/site-packages/sklearn/preprocessing/_encoders.py:828: FutureWarning: `sparse` was renamed to `sparse_output` in version 1.2 and will be removed in 1.4. `sparse_output` is ignored unless you leave `sparse` to its default value.\n",
      "  warnings.warn(\n",
      "/Users/tejumadeafonja/.env/faketable/lib/python3.9/site-packages/sklearn/preprocessing/_encoders.py:828: FutureWarning: `sparse` was renamed to `sparse_output` in version 1.2 and will be removed in 1.4. `sparse_output` is ignored unless you leave `sparse` to its default value.\n",
      "  warnings.warn(\n",
      "/Users/tejumadeafonja/.env/faketable/lib/python3.9/site-packages/sklearn/preprocessing/_encoders.py:828: FutureWarning: `sparse` was renamed to `sparse_output` in version 1.2 and will be removed in 1.4. `sparse_output` is ignored unless you leave `sparse` to its default value.\n",
      "  warnings.warn(\n",
      "/Users/tejumadeafonja/.env/faketable/lib/python3.9/site-packages/sklearn/preprocessing/_encoders.py:828: FutureWarning: `sparse` was renamed to `sparse_output` in version 1.2 and will be removed in 1.4. `sparse_output` is ignored unless you leave `sparse` to its default value.\n",
      "  warnings.warn(\n",
      "/Users/tejumadeafonja/.env/faketable/lib/python3.9/site-packages/sklearn/preprocessing/_encoders.py:828: FutureWarning: `sparse` was renamed to `sparse_output` in version 1.2 and will be removed in 1.4. `sparse_output` is ignored unless you leave `sparse` to its default value.\n",
      "  warnings.warn(\n",
      "/Users/tejumadeafonja/.env/faketable/lib/python3.9/site-packages/sklearn/preprocessing/_encoders.py:828: FutureWarning: `sparse` was renamed to `sparse_output` in version 1.2 and will be removed in 1.4. `sparse_output` is ignored unless you leave `sparse` to its default value.\n",
      "  warnings.warn(\n",
      "/Users/tejumadeafonja/.env/faketable/lib/python3.9/site-packages/sklearn/preprocessing/_encoders.py:828: FutureWarning: `sparse` was renamed to `sparse_output` in version 1.2 and will be removed in 1.4. `sparse_output` is ignored unless you leave `sparse` to its default value.\n",
      "  warnings.warn(\n",
      "/Users/tejumadeafonja/.env/faketable/lib/python3.9/site-packages/sklearn/preprocessing/_encoders.py:828: FutureWarning: `sparse` was renamed to `sparse_output` in version 1.2 and will be removed in 1.4. `sparse_output` is ignored unless you leave `sparse` to its default value.\n",
      "  warnings.warn(\n",
      "/Users/tejumadeafonja/.env/faketable/lib/python3.9/site-packages/sklearn/preprocessing/_encoders.py:828: FutureWarning: `sparse` was renamed to `sparse_output` in version 1.2 and will be removed in 1.4. `sparse_output` is ignored unless you leave `sparse` to its default value.\n",
      "  warnings.warn(\n",
      "/Users/tejumadeafonja/.env/faketable/lib/python3.9/site-packages/sklearn/preprocessing/_encoders.py:828: FutureWarning: `sparse` was renamed to `sparse_output` in version 1.2 and will be removed in 1.4. `sparse_output` is ignored unless you leave `sparse` to its default value.\n",
      "  warnings.warn(\n",
      "/Users/tejumadeafonja/.env/faketable/lib/python3.9/site-packages/sklearn/preprocessing/_encoders.py:828: FutureWarning: `sparse` was renamed to `sparse_output` in version 1.2 and will be removed in 1.4. `sparse_output` is ignored unless you leave `sparse` to its default value.\n",
      "  warnings.warn(\n",
      "/Users/tejumadeafonja/.env/faketable/lib/python3.9/site-packages/sklearn/preprocessing/_encoders.py:828: FutureWarning: `sparse` was renamed to `sparse_output` in version 1.2 and will be removed in 1.4. `sparse_output` is ignored unless you leave `sparse` to its default value.\n",
      "  warnings.warn(\n"
     ]
    },
    {
     "name": "stdout",
     "output_type": "stream",
     "text": [
      "0.42810785752916636\n"
     ]
    },
    {
     "name": "stderr",
     "output_type": "stream",
     "text": [
      "/Users/tejumadeafonja/.env/faketable/lib/python3.9/site-packages/sklearn/linear_model/_logistic.py:458: ConvergenceWarning: lbfgs failed to converge (status=1):\n",
      "STOP: TOTAL NO. of ITERATIONS REACHED LIMIT.\n",
      "\n",
      "Increase the number of iterations (max_iter) or scale the data as shown in:\n",
      "    https://scikit-learn.org/stable/modules/preprocessing.html\n",
      "Please also refer to the documentation for alternative solver options:\n",
      "    https://scikit-learn.org/stable/modules/linear_model.html#logistic-regression\n",
      "  n_iter_i = _check_optimize_result(\n"
     ]
    }
   ],
   "source": [
    "f1_score = utility.efficacy_test(fakedata=census_train, realdata=census_test, target_name=\"income\")\n",
    "print(f1_score)"
   ]
  }
 ],
 "metadata": {
  "kernelspec": {
   "display_name": "Python 3 (ipykernel)",
   "language": "python",
   "name": "python3"
  },
  "language_info": {
   "codemirror_mode": {
    "name": "ipython",
    "version": 3
   },
   "file_extension": ".py",
   "mimetype": "text/x-python",
   "name": "python",
   "nbconvert_exporter": "python",
   "pygments_lexer": "ipython3",
   "version": "3.9.6"
  }
 },
 "nbformat": 4,
 "nbformat_minor": 5
}
