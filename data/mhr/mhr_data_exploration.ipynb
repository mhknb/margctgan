{
 "cells": [
  {
   "cell_type": "markdown",
   "metadata": {},
   "source": [
    "# Maternal Health Risk Data Exploration\n"
   ]
  },
  {
   "cell_type": "code",
   "execution_count": 1,
   "metadata": {},
   "outputs": [],
   "source": [
    "%load_ext autoreload\n",
    "%autoreload 2"
   ]
  },
  {
   "cell_type": "code",
   "execution_count": 2,
   "metadata": {},
   "outputs": [],
   "source": [
    "import sys, os\n",
    "sys.path.append(\"../../\")"
   ]
  },
  {
   "cell_type": "code",
   "execution_count": 3,
   "metadata": {},
   "outputs": [],
   "source": [
    "from utils.transformer import  DataTransformer\n",
    "from utils.dataset import Dataset\n",
    "import metrics\n",
    "from sklearn.metrics import accuracy_score"
   ]
  },
  {
   "cell_type": "code",
   "execution_count": 4,
   "metadata": {},
   "outputs": [
    {
     "name": "stdout",
     "output_type": "stream",
     "text": [
      "adult  census  fake_samples  mhr  news\ttexas\n"
     ]
    }
   ],
   "source": [
    "!ls \"../\""
   ]
  },
  {
   "cell_type": "code",
   "execution_count": 7,
   "metadata": {},
   "outputs": [],
   "source": [
    "train_dset = Dataset(\n",
    "    dataset_name=\"mhr\",\n",
    "    dataset_dir=\"../\",\n",
    "    subset=\"train\",\n",
    "    random_state=1000,\n",
    "    return_filtered_cols=False\n",
    ")"
   ]
  },
  {
   "cell_type": "code",
   "execution_count": 8,
   "metadata": {},
   "outputs": [
    {
     "name": "stdout",
     "output_type": "stream",
     "text": [
      "(811, 7)\n"
     ]
    },
    {
     "data": {
      "text/html": [
       "<div>\n",
       "<style scoped>\n",
       "    .dataframe tbody tr th:only-of-type {\n",
       "        vertical-align: middle;\n",
       "    }\n",
       "\n",
       "    .dataframe tbody tr th {\n",
       "        vertical-align: top;\n",
       "    }\n",
       "\n",
       "    .dataframe thead th {\n",
       "        text-align: right;\n",
       "    }\n",
       "</style>\n",
       "<table border=\"1\" class=\"dataframe\">\n",
       "  <thead>\n",
       "    <tr style=\"text-align: right;\">\n",
       "      <th></th>\n",
       "      <th>Age</th>\n",
       "      <th>SystolicBP</th>\n",
       "      <th>DiastolicBP</th>\n",
       "      <th>BS</th>\n",
       "      <th>BodyTemp</th>\n",
       "      <th>HeartRate</th>\n",
       "      <th>RiskLevel</th>\n",
       "    </tr>\n",
       "  </thead>\n",
       "  <tbody>\n",
       "    <tr>\n",
       "      <th>0</th>\n",
       "      <td>19.0</td>\n",
       "      <td>120.0</td>\n",
       "      <td>60.0</td>\n",
       "      <td>7.0</td>\n",
       "      <td>98.4</td>\n",
       "      <td>70.0</td>\n",
       "      <td>low risk</td>\n",
       "    </tr>\n",
       "    <tr>\n",
       "      <th>1</th>\n",
       "      <td>50.0</td>\n",
       "      <td>130.0</td>\n",
       "      <td>100.0</td>\n",
       "      <td>16.0</td>\n",
       "      <td>98.0</td>\n",
       "      <td>75.0</td>\n",
       "      <td>mid risk</td>\n",
       "    </tr>\n",
       "    <tr>\n",
       "      <th>2</th>\n",
       "      <td>19.0</td>\n",
       "      <td>120.0</td>\n",
       "      <td>75.0</td>\n",
       "      <td>7.9</td>\n",
       "      <td>98.0</td>\n",
       "      <td>70.0</td>\n",
       "      <td>low risk</td>\n",
       "    </tr>\n",
       "    <tr>\n",
       "      <th>3</th>\n",
       "      <td>19.0</td>\n",
       "      <td>90.0</td>\n",
       "      <td>65.0</td>\n",
       "      <td>7.5</td>\n",
       "      <td>101.0</td>\n",
       "      <td>70.0</td>\n",
       "      <td>low risk</td>\n",
       "    </tr>\n",
       "    <tr>\n",
       "      <th>4</th>\n",
       "      <td>40.0</td>\n",
       "      <td>140.0</td>\n",
       "      <td>100.0</td>\n",
       "      <td>18.0</td>\n",
       "      <td>98.0</td>\n",
       "      <td>90.0</td>\n",
       "      <td>high risk</td>\n",
       "    </tr>\n",
       "  </tbody>\n",
       "</table>\n",
       "</div>"
      ],
      "text/plain": [
       "    Age  SystolicBP  DiastolicBP    BS  BodyTemp  HeartRate  RiskLevel\n",
       "0  19.0       120.0         60.0   7.0      98.4       70.0   low risk\n",
       "1  50.0       130.0        100.0  16.0      98.0       75.0   mid risk\n",
       "2  19.0       120.0         75.0   7.9      98.0       70.0   low risk\n",
       "3  19.0        90.0         65.0   7.5     101.0       70.0   low risk\n",
       "4  40.0       140.0        100.0  18.0      98.0       90.0  high risk"
      ]
     },
     "execution_count": 8,
     "metadata": {},
     "output_type": "execute_result"
    }
   ],
   "source": [
    "print(train_dset.data.shape)\n",
    "train_dset.data.head()"
   ]
  },
  {
   "cell_type": "code",
   "execution_count": 23,
   "metadata": {},
   "outputs": [
    {
     "name": "stdout",
     "output_type": "stream",
     "text": [
      "(811, 7) (203, 7)\n",
      "# categorical columns: 1\n",
      "features/label dim: (7, 0)\n",
      "F1 Score: 0.6403940886699507 \n",
      "Acc Score: 0.6403940886699507\n"
     ]
    }
   ],
   "source": [
    "transformer = DataTransformer(\n",
    "        discrete_encode=\"onehot\",\n",
    "        numerical_preprocess=\"standard\",\n",
    "        target=\"RiskLevel\"\n",
    ")\n",
    "\n",
    "train_dset = Dataset(\n",
    "    dataset_name=\"mhr\",\n",
    "    dataset_dir=\"../\",\n",
    "    subset=\"train\",\n",
    "    data_frac=None,\n",
    "    random_state=1000,\n",
    ")\n",
    "\n",
    "test_dset = Dataset(\n",
    "    dataset_name=\"mhr\",\n",
    "    dataset_dir=\"../\",\n",
    "    subset=\"test\",\n",
    "    data_frac=None,\n",
    "    random_state=1000\n",
    ")\n",
    "\n",
    "\n",
    "test_data = test_dset.data\n",
    "train_data = train_dset.data\n",
    "transformer.fit(train_data, train_dset.cat_cols)\n",
    "\n",
    "print(train_data.shape, test_data.shape)\n",
    "print(f\"# categorical columns: {len(train_dset.cat_cols)}\")\n",
    "print(f\"features/label dim: {test_dset.get_dim()}\")\n",
    "\n",
    "f1_score = metrics.efficacy_test(realdata=test_data, fakedata=train_data, target_name=\"RiskLevel\", transformer=transformer)\n",
    "acc_score = metrics.efficacy_test(realdata=test_data, fakedata=train_data, target_name=\"RiskLevel\", transformer=transformer, scorer=accuracy_score)\n",
    "\n",
    "print(f\"F1 Score: {f1_score} \\nAcc Score: {acc_score}\")"
   ]
  },
  {
   "cell_type": "code",
   "execution_count": 24,
   "metadata": {},
   "outputs": [],
   "source": [
    "from utils.misc import geometric_sequence\n",
    "seed = 1000\n",
    "subsets = geometric_sequence(start_value=20, \n",
    "                             common_ratio=2, \n",
    "                             size=10)"
   ]
  },
  {
   "cell_type": "code",
   "execution_count": 25,
   "metadata": {},
   "outputs": [
    {
     "name": "stdout",
     "output_type": "stream",
     "text": [
      "subset: 640: Train/Test-F1: 0.620/0.635 Train/Test-Acc: 0.620/0.635\n",
      "subset: 320: Train/Test-F1: 0.616/0.621 Train/Test-Acc: 0.616/0.621\n",
      "subset: 160: Train/Test-F1: 0.613/0.586 Train/Test-Acc: 0.613/0.586\n",
      "subset: 80: Train/Test-F1: 0.700/0.606 Train/Test-Acc: 0.700/0.606\n",
      "subset: 40: Train/Test-F1: 0.750/0.581 Train/Test-Acc: 0.750/0.581\n",
      "subset: 20: Train/Test-F1: 0.900/0.458 Train/Test-Acc: 0.900/0.458\n"
     ]
    }
   ],
   "source": [
    "transformer = DataTransformer(\n",
    "        discrete_encode=\"onehot\",\n",
    "        numerical_preprocess=\"standard\",\n",
    "        target=\"RiskLevel\"\n",
    ")\n",
    "\n",
    "test_dset = Dataset(\n",
    "        dataset_name=\"mhr\",\n",
    "        dataset_dir=\"../\",\n",
    "        subset=\"test\",\n",
    "        data_frac=None,\n",
    "        random_state=seed,\n",
    ")\n",
    "\n",
    "test_data = test_dset.data\n",
    "transformer.fit(test_data, test_dset.cat_cols)\n",
    "subsets = [640, 320, 160, 80, 40, 20]\n",
    "\n",
    "for subset in subsets:\n",
    "   \n",
    "    \n",
    "    train_dset = Dataset(\n",
    "        dataset_name=\"mhr\",\n",
    "        dataset_dir=\"../\",\n",
    "        subset=\"train\",\n",
    "        data_frac=subset,\n",
    "        random_state=seed,\n",
    "        )\n",
    "\n",
    "    \n",
    "    train_data = train_dset.data\n",
    "    \n",
    "    f1_train = metrics.efficacy_test(realdata=train_data, fakedata=train_data, target_name=\"RiskLevel\", transformer=transformer)\n",
    "    acc_train = metrics.efficacy_test(realdata=train_data, fakedata=train_data, target_name=\"RiskLevel\", transformer=transformer, scorer=accuracy_score)\n",
    "    \n",
    "    f1_test = metrics.efficacy_test(realdata=test_data, fakedata=train_data, target_name=\"RiskLevel\", transformer=transformer)\n",
    "    acc_test = metrics.efficacy_test(realdata=test_data, fakedata=train_data, target_name=\"RiskLevel\", transformer=transformer, scorer=accuracy_score)\n",
    "\n",
    "    print(f\"subset: {subset}: Train/Test-F1: {f1_train:.3f}/{f1_test:.3f} Train/Test-Acc: {acc_train:.3f}/{acc_test:.3f}\")"
   ]
  },
  {
   "cell_type": "code",
   "execution_count": null,
   "metadata": {},
   "outputs": [],
   "source": []
  }
 ],
 "metadata": {
  "kernelspec": {
   "display_name": "margctgan",
   "language": "python",
   "name": "python3"
  },
  "language_info": {
   "codemirror_mode": {
    "name": "ipython",
    "version": 3
   },
   "file_extension": ".py",
   "mimetype": "text/x-python",
   "name": "python",
   "nbconvert_exporter": "python",
   "pygments_lexer": "ipython3",
   "version": "3.9.19"
  }
 },
 "nbformat": 4,
 "nbformat_minor": 2
}
