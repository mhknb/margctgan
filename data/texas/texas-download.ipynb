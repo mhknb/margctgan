{
 "cells": [
  {
   "cell_type": "code",
   "execution_count": 1,
   "id": "given-challenge",
   "metadata": {},
   "outputs": [],
   "source": [
    "%load_ext autoreload\n",
    "%autoreload 2"
   ]
  },
  {
   "cell_type": "code",
   "execution_count": 2,
   "id": "married-weapon",
   "metadata": {},
   "outputs": [],
   "source": [
    "import pandas as pd"
   ]
  },
  {
   "cell_type": "code",
   "execution_count": 3,
   "id": "active-economy",
   "metadata": {},
   "outputs": [
    {
     "name": "stderr",
     "output_type": "stream",
     "text": [
      "/var/folders/z5/cs_w84312s1cxj7105940jzm0000gn/T/ipykernel_2885/3554155461.py:1: DtypeWarning: Columns (1,5) have mixed types. Specify dtype option on import or set low_memory=False.\n",
      "  df = pd.read_csv(\"https://raw.githubusercontent.com/spring-epfl/synthetic_data_release/master/data/texas.csv\")\n"
     ]
    }
   ],
   "source": [
    "df = pd.read_csv(\"https://raw.githubusercontent.com/spring-epfl/synthetic_data_release/master/data/texas.csv\")"
   ]
  },
  {
   "cell_type": "code",
   "execution_count": 4,
   "id": "reserved-notebook",
   "metadata": {},
   "outputs": [
    {
     "data": {
      "text/html": [
       "<div>\n",
       "<style scoped>\n",
       "    .dataframe tbody tr th:only-of-type {\n",
       "        vertical-align: middle;\n",
       "    }\n",
       "\n",
       "    .dataframe tbody tr th {\n",
       "        vertical-align: top;\n",
       "    }\n",
       "\n",
       "    .dataframe thead th {\n",
       "        text-align: right;\n",
       "    }\n",
       "</style>\n",
       "<table border=\"1\" class=\"dataframe\">\n",
       "  <thead>\n",
       "    <tr style=\"text-align: right;\">\n",
       "      <th></th>\n",
       "      <th>DISCHARGE</th>\n",
       "      <th>TYPE_OF_ADMISSION</th>\n",
       "      <th>PAT_STATE</th>\n",
       "      <th>PAT_STATUS</th>\n",
       "      <th>SEX_CODE</th>\n",
       "      <th>RACE</th>\n",
       "      <th>ETHNICITY</th>\n",
       "      <th>ADMIT_WEEKDAY</th>\n",
       "      <th>PAT_AGE</th>\n",
       "      <th>RISK_MORTALITY</th>\n",
       "      <th>ILLNESS_SEVERITY</th>\n",
       "      <th>LENGTH_OF_STAY</th>\n",
       "      <th>TOTAL_CHARGES</th>\n",
       "      <th>TOTAL_NON_COV_CHARGES</th>\n",
       "      <th>TOTAL_CHARGES_ACCOMM</th>\n",
       "      <th>TOTAL_NON_COV_CHARGES_ACCOMM</th>\n",
       "      <th>TOTAL_CHARGES_ANCIL</th>\n",
       "      <th>TOTAL_NON_COV_CHARGES_ANCIL</th>\n",
       "    </tr>\n",
       "  </thead>\n",
       "  <tbody>\n",
       "    <tr>\n",
       "      <th>0</th>\n",
       "      <td>2013Q4</td>\n",
       "      <td>3</td>\n",
       "      <td>TX</td>\n",
       "      <td>6</td>\n",
       "      <td>F</td>\n",
       "      <td>4</td>\n",
       "      <td>2</td>\n",
       "      <td>3</td>\n",
       "      <td>16</td>\n",
       "      <td>1</td>\n",
       "      <td>1</td>\n",
       "      <td>4</td>\n",
       "      <td>55076.06</td>\n",
       "      <td>0.0</td>\n",
       "      <td>5328.0</td>\n",
       "      <td>0.0</td>\n",
       "      <td>49748.06</td>\n",
       "      <td>0.0</td>\n",
       "    </tr>\n",
       "    <tr>\n",
       "      <th>1</th>\n",
       "      <td>2013Q1</td>\n",
       "      <td>4</td>\n",
       "      <td>TX</td>\n",
       "      <td>1</td>\n",
       "      <td>F</td>\n",
       "      <td>4</td>\n",
       "      <td>2</td>\n",
       "      <td>4</td>\n",
       "      <td>1</td>\n",
       "      <td>1</td>\n",
       "      <td>1</td>\n",
       "      <td>2</td>\n",
       "      <td>2119.00</td>\n",
       "      <td>0.0</td>\n",
       "      <td>1790.0</td>\n",
       "      <td>0.0</td>\n",
       "      <td>329.00</td>\n",
       "      <td>0.0</td>\n",
       "    </tr>\n",
       "    <tr>\n",
       "      <th>2</th>\n",
       "      <td>2013Q1</td>\n",
       "      <td>1</td>\n",
       "      <td>TX</td>\n",
       "      <td>1</td>\n",
       "      <td>F</td>\n",
       "      <td>4</td>\n",
       "      <td>2</td>\n",
       "      <td>1</td>\n",
       "      <td>11</td>\n",
       "      <td>1</td>\n",
       "      <td>1</td>\n",
       "      <td>1</td>\n",
       "      <td>9534.00</td>\n",
       "      <td>0.0</td>\n",
       "      <td>969.0</td>\n",
       "      <td>0.0</td>\n",
       "      <td>8565.00</td>\n",
       "      <td>0.0</td>\n",
       "    </tr>\n",
       "    <tr>\n",
       "      <th>3</th>\n",
       "      <td>2013Q3</td>\n",
       "      <td>2</td>\n",
       "      <td>TX</td>\n",
       "      <td>3</td>\n",
       "      <td>M</td>\n",
       "      <td>4</td>\n",
       "      <td>2</td>\n",
       "      <td>1</td>\n",
       "      <td>18</td>\n",
       "      <td>2</td>\n",
       "      <td>1</td>\n",
       "      <td>3</td>\n",
       "      <td>70710.30</td>\n",
       "      <td>0.0</td>\n",
       "      <td>2172.0</td>\n",
       "      <td>0.0</td>\n",
       "      <td>68538.30</td>\n",
       "      <td>0.0</td>\n",
       "    </tr>\n",
       "    <tr>\n",
       "      <th>4</th>\n",
       "      <td>2013Q4</td>\n",
       "      <td>2</td>\n",
       "      <td>TX</td>\n",
       "      <td>1</td>\n",
       "      <td>M</td>\n",
       "      <td>4</td>\n",
       "      <td>2</td>\n",
       "      <td>3</td>\n",
       "      <td>16</td>\n",
       "      <td>3</td>\n",
       "      <td>3</td>\n",
       "      <td>3</td>\n",
       "      <td>66653.04</td>\n",
       "      <td>0.0</td>\n",
       "      <td>10185.0</td>\n",
       "      <td>0.0</td>\n",
       "      <td>56468.04</td>\n",
       "      <td>0.0</td>\n",
       "    </tr>\n",
       "  </tbody>\n",
       "</table>\n",
       "</div>"
      ],
      "text/plain": [
       "  DISCHARGE TYPE_OF_ADMISSION PAT_STATE PAT_STATUS SEX_CODE RACE ETHNICITY  \\\n",
       "0    2013Q4                 3        TX          6        F    4         2   \n",
       "1    2013Q1                 4        TX          1        F    4         2   \n",
       "2    2013Q1                 1        TX          1        F    4         2   \n",
       "3    2013Q3                 2        TX          3        M    4         2   \n",
       "4    2013Q4                 2        TX          1        M    4         2   \n",
       "\n",
       "   ADMIT_WEEKDAY  PAT_AGE  RISK_MORTALITY  ILLNESS_SEVERITY  LENGTH_OF_STAY  \\\n",
       "0              3       16               1                 1               4   \n",
       "1              4        1               1                 1               2   \n",
       "2              1       11               1                 1               1   \n",
       "3              1       18               2                 1               3   \n",
       "4              3       16               3                 3               3   \n",
       "\n",
       "   TOTAL_CHARGES  TOTAL_NON_COV_CHARGES  TOTAL_CHARGES_ACCOMM  \\\n",
       "0       55076.06                    0.0                5328.0   \n",
       "1        2119.00                    0.0                1790.0   \n",
       "2        9534.00                    0.0                 969.0   \n",
       "3       70710.30                    0.0                2172.0   \n",
       "4       66653.04                    0.0               10185.0   \n",
       "\n",
       "   TOTAL_NON_COV_CHARGES_ACCOMM  TOTAL_CHARGES_ANCIL  \\\n",
       "0                           0.0             49748.06   \n",
       "1                           0.0               329.00   \n",
       "2                           0.0              8565.00   \n",
       "3                           0.0             68538.30   \n",
       "4                           0.0             56468.04   \n",
       "\n",
       "   TOTAL_NON_COV_CHARGES_ANCIL  \n",
       "0                          0.0  \n",
       "1                          0.0  \n",
       "2                          0.0  \n",
       "3                          0.0  \n",
       "4                          0.0  "
      ]
     },
     "execution_count": 4,
     "metadata": {},
     "output_type": "execute_result"
    }
   ],
   "source": [
    "df.head()"
   ]
  },
  {
   "cell_type": "code",
   "execution_count": 5,
   "id": "imposed-branch",
   "metadata": {},
   "outputs": [
    {
     "data": {
      "text/plain": [
       "(100000, 18)"
      ]
     },
     "execution_count": 5,
     "metadata": {},
     "output_type": "execute_result"
    }
   ],
   "source": [
    "df.shape"
   ]
  },
  {
   "cell_type": "code",
   "execution_count": 6,
   "id": "legislative-pepper",
   "metadata": {},
   "outputs": [
    {
     "data": {
      "text/plain": [
       "1    61388\n",
       "2    19923\n",
       "3    13771\n",
       "4     4775\n",
       "0      143\n",
       "Name: RISK_MORTALITY, dtype: int64"
      ]
     },
     "execution_count": 6,
     "metadata": {},
     "output_type": "execute_result"
    }
   ],
   "source": [
    "df[\"RISK_MORTALITY\"].value_counts()"
   ]
  },
  {
   "cell_type": "code",
   "execution_count": 7,
   "id": "fossil-retail",
   "metadata": {},
   "outputs": [
    {
     "name": "stdout",
     "output_type": "stream",
     "text": [
      "(75159, 18)\n"
     ]
    }
   ],
   "source": [
    "# REDUCE THE RISK MORTALITY\n",
    "# MINOR (1) OR MAJOR (3)\n",
    "df = df[(df[\"RISK_MORTALITY\"] == 1) | (df[\"RISK_MORTALITY\"] == 3)]\n",
    "print(df.shape)"
   ]
  },
  {
   "cell_type": "code",
   "execution_count": 8,
   "id": "competitive-effects",
   "metadata": {},
   "outputs": [
    {
     "data": {
      "text/plain": [
       "Index(['DISCHARGE', 'TYPE_OF_ADMISSION', 'PAT_STATE', 'PAT_STATUS', 'SEX_CODE',\n",
       "       'RACE', 'ETHNICITY', 'ADMIT_WEEKDAY', 'PAT_AGE', 'RISK_MORTALITY',\n",
       "       'ILLNESS_SEVERITY', 'LENGTH_OF_STAY', 'TOTAL_CHARGES',\n",
       "       'TOTAL_NON_COV_CHARGES', 'TOTAL_CHARGES_ACCOMM',\n",
       "       'TOTAL_NON_COV_CHARGES_ACCOMM', 'TOTAL_CHARGES_ANCIL',\n",
       "       'TOTAL_NON_COV_CHARGES_ANCIL'],\n",
       "      dtype='object')"
      ]
     },
     "execution_count": 8,
     "metadata": {},
     "output_type": "execute_result"
    }
   ],
   "source": [
    "df.columns"
   ]
  },
  {
   "cell_type": "code",
   "execution_count": 9,
   "id": "billion-bradley",
   "metadata": {},
   "outputs": [
    {
     "data": {
      "text/plain": [
       "DISCHARGE                        object\n",
       "TYPE_OF_ADMISSION                object\n",
       "PAT_STATE                        object\n",
       "PAT_STATUS                       object\n",
       "SEX_CODE                         object\n",
       "RACE                             object\n",
       "ETHNICITY                        object\n",
       "ADMIT_WEEKDAY                     int64\n",
       "PAT_AGE                           int64\n",
       "RISK_MORTALITY                    int64\n",
       "ILLNESS_SEVERITY                  int64\n",
       "LENGTH_OF_STAY                    int64\n",
       "TOTAL_CHARGES                   float64\n",
       "TOTAL_NON_COV_CHARGES           float64\n",
       "TOTAL_CHARGES_ACCOMM            float64\n",
       "TOTAL_NON_COV_CHARGES_ACCOMM    float64\n",
       "TOTAL_CHARGES_ANCIL             float64\n",
       "TOTAL_NON_COV_CHARGES_ANCIL     float64\n",
       "dtype: object"
      ]
     },
     "execution_count": 9,
     "metadata": {},
     "output_type": "execute_result"
    }
   ],
   "source": [
    "df.dtypes"
   ]
  },
  {
   "cell_type": "code",
   "execution_count": 10,
   "id": "written-heritage",
   "metadata": {},
   "outputs": [],
   "source": [
    "cat_cols = [\"DISCHARGE\", \"TYPE_OF_ADMISSION\", \n",
    "            \"PAT_STATE\", \"PAT_STATUS\", \n",
    "            \"SEX_CODE\", \"RACE\", \"ADMIT_WEEKDAY\",\n",
    "            \"ETHNICITY\", \"PAT_AGE\",\n",
    "            \"ILLNESS_SEVERITY\", \"RISK_MORTALITY\"]\n",
    "\n",
    "num_cols = [\"LENGTH_OF_STAY\", \"TOTAL_CHARGES\", \n",
    "            \"TOTAL_NON_COV_CHARGES\", \"TOTAL_CHARGES_ACCOMM\", \n",
    "            \"TOTAL_NON_COV_CHARGES_ACCOMM\", \"TOTAL_CHARGES_ANCIL\", \n",
    "            \"TOTAL_NON_COV_CHARGES_ANCIL\"]"
   ]
  },
  {
   "cell_type": "code",
   "execution_count": 11,
   "id": "removed-pocket",
   "metadata": {},
   "outputs": [
    {
     "data": {
      "text/plain": [
       "<Axes: >"
      ]
     },
     "execution_count": 11,
     "metadata": {},
     "output_type": "execute_result"
    },
    {
     "data": {
      "image/png": "[encoded data removed]",
      "text/plain": [
       "<Figure size 640x480 with 1 Axes>"
      ]
     },
     "metadata": {},
     "output_type": "display_data"
    }
   ],
   "source": [
    "df[\"LENGTH_OF_STAY\"].plot.box()"
   ]
  },
  {
   "cell_type": "code",
   "execution_count": 12,
   "id": "excited-devices",
   "metadata": {
    "scrolled": false
   },
   "outputs": [
    {
     "data": {
      "text/plain": [
       "2014Q4    9626\n",
       "2013Q3    9549\n",
       "2013Q4    9426\n",
       "2013Q2    9407\n",
       "2014Q3    9384\n",
       "2013Q1    9295\n",
       "2014Q2    9264\n",
       "2014Q1    9207\n",
       "2012Q4       1\n",
       "Name: DISCHARGE, dtype: int64"
      ]
     },
     "metadata": {},
     "output_type": "display_data"
    },
    {
     "data": {
      "text/plain": [
       "1    18343\n",
       "3    13667\n",
       "1     9781\n",
       "4     8884\n",
       "2     8001\n",
       "3     7159\n",
       "4     4613\n",
       "2     4170\n",
       "5      201\n",
       "9      145\n",
       "5      110\n",
       "9       85\n",
       "Name: TYPE_OF_ADMISSION, dtype: int64"
      ]
     },
     "metadata": {},
     "output_type": "display_data"
    },
    {
     "data": {
      "text/plain": [
       "TX         74144\n",
       "ZZ           301\n",
       "NM           211\n",
       "AR           189\n",
       "FC           116\n",
       "OK           106\n",
       "LA            75\n",
       "XX            13\n",
       "INVALID        4\n",
       "Name: PAT_STATE, dtype: int64"
      ]
     },
     "metadata": {},
     "output_type": "display_data"
    },
    {
     "data": {
      "text/plain": [
       "1          61779\n",
       "6           4652\n",
       "3           3094\n",
       "62          1374\n",
       "2            717\n",
       "63           544\n",
       "20           483\n",
       "7            451\n",
       "50           402\n",
       "INVALID      385\n",
       "51           343\n",
       "4            328\n",
       "65           191\n",
       "5            138\n",
       "64            87\n",
       "61            65\n",
       "30            46\n",
       "43            23\n",
       "9             22\n",
       "8             16\n",
       "66            11\n",
       "41             7\n",
       "40             1\n",
       "Name: PAT_STATUS, dtype: int64"
      ]
     },
     "metadata": {},
     "output_type": "display_data"
    },
    {
     "data": {
      "text/plain": [
       "F    47091\n",
       "M    28056\n",
       "U       12\n",
       "Name: SEX_CODE, dtype: int64"
      ]
     },
     "metadata": {},
     "output_type": "display_data"
    },
    {
     "data": {
      "text/plain": [
       "4          45750\n",
       "5          16639\n",
       "3           9654\n",
       "2           1714\n",
       "4            787\n",
       "5            271\n",
       "3            159\n",
       "1            141\n",
       "2             33\n",
       "INVALID        8\n",
       "1              3\n",
       "Name: RACE, dtype: int64"
      ]
     },
     "metadata": {},
     "output_type": "display_data"
    },
    {
     "data": {
      "text/plain": [
       "1    13209\n",
       "2    12992\n",
       "3    12176\n",
       "4    12078\n",
       "5    10882\n",
       "6     6928\n",
       "7     6894\n",
       "Name: ADMIT_WEEKDAY, dtype: int64"
      ]
     },
     "metadata": {},
     "output_type": "display_data"
    },
    {
     "data": {
      "text/plain": [
       "2          51980\n",
       "1          22919\n",
       "INVALID      260\n",
       "Name: ETHNICITY, dtype: int64"
      ]
     },
     "metadata": {},
     "output_type": "display_data"
    },
    {
     "data": {
      "text/plain": [
       "1     37098\n",
       "16     4452\n",
       "15     4162\n",
       "14     4080\n",
       "10     3603\n",
       "13     3518\n",
       "17     3460\n",
       "18     3063\n",
       "12     2918\n",
       "11     2814\n",
       "19     2572\n",
       "20     1994\n",
       "21     1192\n",
       "0        88\n",
       "8        32\n",
       "7        29\n",
       "9        28\n",
       "4        21\n",
       "5        10\n",
       "2         9\n",
       "6         8\n",
       "3         8\n",
       "Name: PAT_AGE, dtype: int64"
      ]
     },
     "metadata": {},
     "output_type": "display_data"
    },
    {
     "data": {
      "text/plain": [
       "1    36445\n",
       "2    23290\n",
       "3    13241\n",
       "4     2183\n",
       "Name: ILLNESS_SEVERITY, dtype: int64"
      ]
     },
     "metadata": {},
     "output_type": "display_data"
    },
    {
     "data": {
      "text/plain": [
       "1    61388\n",
       "3    13771\n",
       "Name: RISK_MORTALITY, dtype: int64"
      ]
     },
     "metadata": {},
     "output_type": "display_data"
    }
   ],
   "source": [
    "for col in cat_cols:\n",
    "    display(df[col].value_counts())"
   ]
  },
  {
   "cell_type": "code",
   "execution_count": 13,
   "id": "wired-hayes",
   "metadata": {},
   "outputs": [],
   "source": [
    "df[cat_cols] = df[cat_cols].astype(\"object\")\n",
    "df[num_cols] = df[num_cols].astype(\"float\")"
   ]
  },
  {
   "cell_type": "code",
   "execution_count": 14,
   "id": "known-burlington",
   "metadata": {},
   "outputs": [
    {
     "data": {
      "text/plain": [
       "DISCHARGE                        object\n",
       "TYPE_OF_ADMISSION                object\n",
       "PAT_STATE                        object\n",
       "PAT_STATUS                       object\n",
       "SEX_CODE                         object\n",
       "RACE                             object\n",
       "ETHNICITY                        object\n",
       "ADMIT_WEEKDAY                    object\n",
       "PAT_AGE                          object\n",
       "RISK_MORTALITY                   object\n",
       "ILLNESS_SEVERITY                 object\n",
       "LENGTH_OF_STAY                  float64\n",
       "TOTAL_CHARGES                   float64\n",
       "TOTAL_NON_COV_CHARGES           float64\n",
       "TOTAL_CHARGES_ACCOMM            float64\n",
       "TOTAL_NON_COV_CHARGES_ACCOMM    float64\n",
       "TOTAL_CHARGES_ANCIL             float64\n",
       "TOTAL_NON_COV_CHARGES_ANCIL     float64\n",
       "dtype: object"
      ]
     },
     "execution_count": 14,
     "metadata": {},
     "output_type": "execute_result"
    }
   ],
   "source": [
    "df.dtypes"
   ]
  },
  {
   "cell_type": "code",
   "execution_count": 15,
   "id": "ordered-borough",
   "metadata": {},
   "outputs": [],
   "source": [
    "for col in cat_cols:\n",
    "    df[col] = df[col].apply(lambda x: str(x))"
   ]
  },
  {
   "cell_type": "code",
   "execution_count": 16,
   "id": "progressive-beaver",
   "metadata": {},
   "outputs": [
    {
     "data": {
      "text/plain": [
       "((60127, 18), (15032, 18))"
      ]
     },
     "execution_count": 16,
     "metadata": {},
     "output_type": "execute_result"
    }
   ],
   "source": [
    "from sklearn.model_selection import train_test_split\n",
    "y = \"RISK_MORTALITY\"\n",
    "df_train, df_test = train_test_split(df, random_state=1000, test_size=0.2, stratify=df[y])\n",
    "df_train.shape, df_test.shape"
   ]
  },
  {
   "cell_type": "code",
   "execution_count": 17,
   "id": "charged-carbon",
   "metadata": {},
   "outputs": [
    {
     "data": {
      "text/plain": [
       "<Axes: >"
      ]
     },
     "execution_count": 17,
     "metadata": {},
     "output_type": "execute_result"
    },
    {
     "data": {
      "image/png": "[encoded data removed]",
      "text/plain": [
       "<Figure size 640x480 with 1 Axes>"
      ]
     },
     "metadata": {},
     "output_type": "display_data"
    }
   ],
   "source": [
    "df_train[y].value_counts().plot.bar()"
   ]
  },
  {
   "cell_type": "code",
   "execution_count": 18,
   "id": "quarterly-capital",
   "metadata": {},
   "outputs": [
    {
     "data": {
      "text/plain": [
       "<Axes: >"
      ]
     },
     "execution_count": 18,
     "metadata": {},
     "output_type": "execute_result"
    },
    {
     "data": {
      "image/png": "[encoded data removed]",
      "text/plain": [
       "<Figure size 640x480 with 1 Axes>"
      ]
     },
     "metadata": {},
     "output_type": "display_data"
    }
   ],
   "source": [
    "df_test[y].value_counts().plot.bar()"
   ]
  },
  {
   "cell_type": "code",
   "execution_count": 19,
   "id": "physical-criticism",
   "metadata": {},
   "outputs": [],
   "source": [
    "df_train.to_csv(\"train.csv\", index=None)\n",
    "df_test.to_csv(\"test.csv\", index=None)"
   ]
  },
  {
   "cell_type": "code",
   "execution_count": 20,
   "id": "blessed-hopkins",
   "metadata": {},
   "outputs": [],
   "source": [
    "df_all = pd.concat([df_train, df_test])\n",
    "df_all.to_csv(\"texas.csv\", index=None)"
   ]
  },
  {
   "cell_type": "code",
   "execution_count": 21,
   "id": "seventh-memorabilia",
   "metadata": {},
   "outputs": [
    {
     "data": {
      "text/html": [
       "<div>\n",
       "<style scoped>\n",
       "    .dataframe tbody tr th:only-of-type {\n",
       "        vertical-align: middle;\n",
       "    }\n",
       "\n",
       "    .dataframe tbody tr th {\n",
       "        vertical-align: top;\n",
       "    }\n",
       "\n",
       "    .dataframe thead th {\n",
       "        text-align: right;\n",
       "    }\n",
       "</style>\n",
       "<table border=\"1\" class=\"dataframe\">\n",
       "  <thead>\n",
       "    <tr style=\"text-align: right;\">\n",
       "      <th></th>\n",
       "      <th>DISCHARGE</th>\n",
       "      <th>TYPE_OF_ADMISSION</th>\n",
       "      <th>PAT_STATE</th>\n",
       "      <th>PAT_STATUS</th>\n",
       "      <th>SEX_CODE</th>\n",
       "      <th>RACE</th>\n",
       "      <th>ETHNICITY</th>\n",
       "      <th>ADMIT_WEEKDAY</th>\n",
       "      <th>PAT_AGE</th>\n",
       "      <th>RISK_MORTALITY</th>\n",
       "      <th>ILLNESS_SEVERITY</th>\n",
       "      <th>LENGTH_OF_STAY</th>\n",
       "      <th>TOTAL_CHARGES</th>\n",
       "      <th>TOTAL_NON_COV_CHARGES</th>\n",
       "      <th>TOTAL_CHARGES_ACCOMM</th>\n",
       "      <th>TOTAL_NON_COV_CHARGES_ACCOMM</th>\n",
       "      <th>TOTAL_CHARGES_ANCIL</th>\n",
       "      <th>TOTAL_NON_COV_CHARGES_ANCIL</th>\n",
       "    </tr>\n",
       "  </thead>\n",
       "  <tbody>\n",
       "    <tr>\n",
       "      <th>0</th>\n",
       "      <td>2013Q2</td>\n",
       "      <td>3</td>\n",
       "      <td>TX</td>\n",
       "      <td>1</td>\n",
       "      <td>F</td>\n",
       "      <td>4</td>\n",
       "      <td>2</td>\n",
       "      <td>2</td>\n",
       "      <td>18</td>\n",
       "      <td>3</td>\n",
       "      <td>3</td>\n",
       "      <td>3.0</td>\n",
       "      <td>11394.88</td>\n",
       "      <td>0.0</td>\n",
       "      <td>2673.00</td>\n",
       "      <td>0.0</td>\n",
       "      <td>8721.88</td>\n",
       "      <td>0.0</td>\n",
       "    </tr>\n",
       "    <tr>\n",
       "      <th>1</th>\n",
       "      <td>2014Q4</td>\n",
       "      <td>3</td>\n",
       "      <td>TX</td>\n",
       "      <td>1</td>\n",
       "      <td>F</td>\n",
       "      <td>4</td>\n",
       "      <td>2</td>\n",
       "      <td>4</td>\n",
       "      <td>20</td>\n",
       "      <td>3</td>\n",
       "      <td>3</td>\n",
       "      <td>1.0</td>\n",
       "      <td>33948.20</td>\n",
       "      <td>0.0</td>\n",
       "      <td>3017.89</td>\n",
       "      <td>0.0</td>\n",
       "      <td>30930.31</td>\n",
       "      <td>0.0</td>\n",
       "    </tr>\n",
       "    <tr>\n",
       "      <th>2</th>\n",
       "      <td>2013Q3</td>\n",
       "      <td>2</td>\n",
       "      <td>TX</td>\n",
       "      <td>1</td>\n",
       "      <td>F</td>\n",
       "      <td>4</td>\n",
       "      <td>2</td>\n",
       "      <td>2</td>\n",
       "      <td>11</td>\n",
       "      <td>1</td>\n",
       "      <td>1</td>\n",
       "      <td>2.0</td>\n",
       "      <td>2400.00</td>\n",
       "      <td>0.0</td>\n",
       "      <td>2400.00</td>\n",
       "      <td>0.0</td>\n",
       "      <td>0.00</td>\n",
       "      <td>0.0</td>\n",
       "    </tr>\n",
       "    <tr>\n",
       "      <th>3</th>\n",
       "      <td>2013Q1</td>\n",
       "      <td>1</td>\n",
       "      <td>TX</td>\n",
       "      <td>6</td>\n",
       "      <td>M</td>\n",
       "      <td>4</td>\n",
       "      <td>1</td>\n",
       "      <td>7</td>\n",
       "      <td>15</td>\n",
       "      <td>1</td>\n",
       "      <td>3</td>\n",
       "      <td>5.0</td>\n",
       "      <td>67473.00</td>\n",
       "      <td>0.0</td>\n",
       "      <td>12342.00</td>\n",
       "      <td>0.0</td>\n",
       "      <td>55131.00</td>\n",
       "      <td>0.0</td>\n",
       "    </tr>\n",
       "    <tr>\n",
       "      <th>4</th>\n",
       "      <td>2013Q4</td>\n",
       "      <td>1</td>\n",
       "      <td>TX</td>\n",
       "      <td>1</td>\n",
       "      <td>F</td>\n",
       "      <td>4</td>\n",
       "      <td>2</td>\n",
       "      <td>7</td>\n",
       "      <td>13</td>\n",
       "      <td>3</td>\n",
       "      <td>3</td>\n",
       "      <td>6.0</td>\n",
       "      <td>31098.50</td>\n",
       "      <td>0.0</td>\n",
       "      <td>7418.00</td>\n",
       "      <td>0.0</td>\n",
       "      <td>23680.50</td>\n",
       "      <td>0.0</td>\n",
       "    </tr>\n",
       "  </tbody>\n",
       "</table>\n",
       "</div>"
      ],
      "text/plain": [
       "  DISCHARGE TYPE_OF_ADMISSION PAT_STATE PAT_STATUS SEX_CODE RACE ETHNICITY  \\\n",
       "0    2013Q2                 3        TX          1        F    4         2   \n",
       "1    2014Q4                 3        TX          1        F    4         2   \n",
       "2    2013Q3                 2        TX          1        F    4         2   \n",
       "3    2013Q1                 1        TX          6        M    4         1   \n",
       "4    2013Q4                 1        TX          1        F    4         2   \n",
       "\n",
       "  ADMIT_WEEKDAY PAT_AGE RISK_MORTALITY ILLNESS_SEVERITY  LENGTH_OF_STAY  \\\n",
       "0             2      18              3                3             3.0   \n",
       "1             4      20              3                3             1.0   \n",
       "2             2      11              1                1             2.0   \n",
       "3             7      15              1                3             5.0   \n",
       "4             7      13              3                3             6.0   \n",
       "\n",
       "   TOTAL_CHARGES  TOTAL_NON_COV_CHARGES  TOTAL_CHARGES_ACCOMM  \\\n",
       "0       11394.88                    0.0               2673.00   \n",
       "1       33948.20                    0.0               3017.89   \n",
       "2        2400.00                    0.0               2400.00   \n",
       "3       67473.00                    0.0              12342.00   \n",
       "4       31098.50                    0.0               7418.00   \n",
       "\n",
       "   TOTAL_NON_COV_CHARGES_ACCOMM  TOTAL_CHARGES_ANCIL  \\\n",
       "0                           0.0              8721.88   \n",
       "1                           0.0             30930.31   \n",
       "2                           0.0                 0.00   \n",
       "3                           0.0             55131.00   \n",
       "4                           0.0             23680.50   \n",
       "\n",
       "   TOTAL_NON_COV_CHARGES_ANCIL  \n",
       "0                          0.0  \n",
       "1                          0.0  \n",
       "2                          0.0  \n",
       "3                          0.0  \n",
       "4                          0.0  "
      ]
     },
     "execution_count": 21,
     "metadata": {},
     "output_type": "execute_result"
    }
   ],
   "source": [
    "df_demo = df_train.sample(100, random_state=1000)\n",
    "df_demo.reset_index(inplace=True, drop=True)\n",
    "df_demo.head()"
   ]
  },
  {
   "cell_type": "code",
   "execution_count": 22,
   "id": "literary-catalog",
   "metadata": {},
   "outputs": [],
   "source": [
    "df_demo.to_csv(\"demo.csv\", index=None)"
   ]
  },
  {
   "cell_type": "code",
   "execution_count": 23,
   "id": "hairy-milan",
   "metadata": {},
   "outputs": [
    {
     "name": "stdout",
     "output_type": "stream",
     "text": [
      "demo.csv                 texas-download.ipynb     texas.csv\r\n",
      "test.csv                 texas-exploration.ipynb  train.csv\r\n"
     ]
    }
   ],
   "source": [
    "ls"
   ]
  },
  {
   "cell_type": "code",
   "execution_count": 24,
   "id": "supported-calendar",
   "metadata": {},
   "outputs": [],
   "source": [
    "import sys\n",
    "sys.path.append(\"../../../\")\n",
    "sys.path.append(\"../../\")\n",
    "from margctgan.metrics import utility"
   ]
  },
  {
   "cell_type": "code",
   "execution_count": 25,
   "id": "stock-exhibition",
   "metadata": {},
   "outputs": [
    {
     "name": "stderr",
     "output_type": "stream",
     "text": [
      "/Users/tejumadeafonja/.env/faketable/lib/python3.9/site-packages/sklearn/preprocessing/_encoders.py:828: FutureWarning: `sparse` was renamed to `sparse_output` in version 1.2 and will be removed in 1.4. `sparse_output` is ignored unless you leave `sparse` to its default value.\n",
      "  warnings.warn(\n",
      "/Users/tejumadeafonja/.env/faketable/lib/python3.9/site-packages/sklearn/preprocessing/_encoders.py:828: FutureWarning: `sparse` was renamed to `sparse_output` in version 1.2 and will be removed in 1.4. `sparse_output` is ignored unless you leave `sparse` to its default value.\n",
      "  warnings.warn(\n",
      "/Users/tejumadeafonja/.env/faketable/lib/python3.9/site-packages/sklearn/preprocessing/_encoders.py:828: FutureWarning: `sparse` was renamed to `sparse_output` in version 1.2 and will be removed in 1.4. `sparse_output` is ignored unless you leave `sparse` to its default value.\n",
      "  warnings.warn(\n",
      "/Users/tejumadeafonja/.env/faketable/lib/python3.9/site-packages/sklearn/preprocessing/_encoders.py:828: FutureWarning: `sparse` was renamed to `sparse_output` in version 1.2 and will be removed in 1.4. `sparse_output` is ignored unless you leave `sparse` to its default value.\n",
      "  warnings.warn(\n",
      "/Users/tejumadeafonja/.env/faketable/lib/python3.9/site-packages/sklearn/preprocessing/_encoders.py:828: FutureWarning: `sparse` was renamed to `sparse_output` in version 1.2 and will be removed in 1.4. `sparse_output` is ignored unless you leave `sparse` to its default value.\n",
      "  warnings.warn(\n",
      "/Users/tejumadeafonja/.env/faketable/lib/python3.9/site-packages/sklearn/preprocessing/_encoders.py:828: FutureWarning: `sparse` was renamed to `sparse_output` in version 1.2 and will be removed in 1.4. `sparse_output` is ignored unless you leave `sparse` to its default value.\n",
      "  warnings.warn(\n",
      "/Users/tejumadeafonja/.env/faketable/lib/python3.9/site-packages/sklearn/preprocessing/_encoders.py:828: FutureWarning: `sparse` was renamed to `sparse_output` in version 1.2 and will be removed in 1.4. `sparse_output` is ignored unless you leave `sparse` to its default value.\n",
      "  warnings.warn(\n",
      "/Users/tejumadeafonja/.env/faketable/lib/python3.9/site-packages/sklearn/preprocessing/_encoders.py:828: FutureWarning: `sparse` was renamed to `sparse_output` in version 1.2 and will be removed in 1.4. `sparse_output` is ignored unless you leave `sparse` to its default value.\n",
      "  warnings.warn(\n",
      "/Users/tejumadeafonja/.env/faketable/lib/python3.9/site-packages/sklearn/preprocessing/_encoders.py:828: FutureWarning: `sparse` was renamed to `sparse_output` in version 1.2 and will be removed in 1.4. `sparse_output` is ignored unless you leave `sparse` to its default value.\n",
      "  warnings.warn(\n",
      "/Users/tejumadeafonja/.env/faketable/lib/python3.9/site-packages/sklearn/preprocessing/_encoders.py:828: FutureWarning: `sparse` was renamed to `sparse_output` in version 1.2 and will be removed in 1.4. `sparse_output` is ignored unless you leave `sparse` to its default value.\n",
      "  warnings.warn(\n"
     ]
    },
    {
     "name": "stdout",
     "output_type": "stream",
     "text": [
      "0.8568189180434079\n"
     ]
    },
    {
     "name": "stderr",
     "output_type": "stream",
     "text": [
      "/Users/tejumadeafonja/.env/faketable/lib/python3.9/site-packages/sklearn/linear_model/_logistic.py:458: ConvergenceWarning: lbfgs failed to converge (status=1):\n",
      "STOP: TOTAL NO. of ITERATIONS REACHED LIMIT.\n",
      "\n",
      "Increase the number of iterations (max_iter) or scale the data as shown in:\n",
      "    https://scikit-learn.org/stable/modules/preprocessing.html\n",
      "Please also refer to the documentation for alternative solver options:\n",
      "    https://scikit-learn.org/stable/modules/linear_model.html#logistic-regression\n",
      "  n_iter_i = _check_optimize_result(\n"
     ]
    }
   ],
   "source": [
    "f1_score = utility.efficacy_test(realdata=df_test, fakedata=df_train, target_name=\"RISK_MORTALITY\")\n",
    "print(f1_score)"
   ]
  },
  {
   "cell_type": "code",
   "execution_count": 26,
   "id": "residential-principal",
   "metadata": {},
   "outputs": [
    {
     "name": "stderr",
     "output_type": "stream",
     "text": [
      "/Users/tejumadeafonja/.env/faketable/lib/python3.9/site-packages/sklearn/preprocessing/_encoders.py:828: FutureWarning: `sparse` was renamed to `sparse_output` in version 1.2 and will be removed in 1.4. `sparse_output` is ignored unless you leave `sparse` to its default value.\n",
      "  warnings.warn(\n",
      "/Users/tejumadeafonja/.env/faketable/lib/python3.9/site-packages/sklearn/preprocessing/_encoders.py:828: FutureWarning: `sparse` was renamed to `sparse_output` in version 1.2 and will be removed in 1.4. `sparse_output` is ignored unless you leave `sparse` to its default value.\n",
      "  warnings.warn(\n",
      "/Users/tejumadeafonja/.env/faketable/lib/python3.9/site-packages/sklearn/preprocessing/_encoders.py:828: FutureWarning: `sparse` was renamed to `sparse_output` in version 1.2 and will be removed in 1.4. `sparse_output` is ignored unless you leave `sparse` to its default value.\n",
      "  warnings.warn(\n",
      "/Users/tejumadeafonja/.env/faketable/lib/python3.9/site-packages/sklearn/preprocessing/_encoders.py:828: FutureWarning: `sparse` was renamed to `sparse_output` in version 1.2 and will be removed in 1.4. `sparse_output` is ignored unless you leave `sparse` to its default value.\n",
      "  warnings.warn(\n",
      "/Users/tejumadeafonja/.env/faketable/lib/python3.9/site-packages/sklearn/preprocessing/_encoders.py:828: FutureWarning: `sparse` was renamed to `sparse_output` in version 1.2 and will be removed in 1.4. `sparse_output` is ignored unless you leave `sparse` to its default value.\n",
      "  warnings.warn(\n",
      "/Users/tejumadeafonja/.env/faketable/lib/python3.9/site-packages/sklearn/preprocessing/_encoders.py:828: FutureWarning: `sparse` was renamed to `sparse_output` in version 1.2 and will be removed in 1.4. `sparse_output` is ignored unless you leave `sparse` to its default value.\n",
      "  warnings.warn(\n",
      "/Users/tejumadeafonja/.env/faketable/lib/python3.9/site-packages/sklearn/preprocessing/_encoders.py:828: FutureWarning: `sparse` was renamed to `sparse_output` in version 1.2 and will be removed in 1.4. `sparse_output` is ignored unless you leave `sparse` to its default value.\n",
      "  warnings.warn(\n",
      "/Users/tejumadeafonja/.env/faketable/lib/python3.9/site-packages/sklearn/preprocessing/_encoders.py:828: FutureWarning: `sparse` was renamed to `sparse_output` in version 1.2 and will be removed in 1.4. `sparse_output` is ignored unless you leave `sparse` to its default value.\n",
      "  warnings.warn(\n",
      "/Users/tejumadeafonja/.env/faketable/lib/python3.9/site-packages/sklearn/preprocessing/_encoders.py:828: FutureWarning: `sparse` was renamed to `sparse_output` in version 1.2 and will be removed in 1.4. `sparse_output` is ignored unless you leave `sparse` to its default value.\n",
      "  warnings.warn(\n",
      "/Users/tejumadeafonja/.env/faketable/lib/python3.9/site-packages/sklearn/preprocessing/_encoders.py:828: FutureWarning: `sparse` was renamed to `sparse_output` in version 1.2 and will be removed in 1.4. `sparse_output` is ignored unless you leave `sparse` to its default value.\n",
      "  warnings.warn(\n"
     ]
    },
    {
     "name": "stdout",
     "output_type": "stream",
     "text": [
      "0.8614256887534489\n"
     ]
    },
    {
     "name": "stderr",
     "output_type": "stream",
     "text": [
      "/Users/tejumadeafonja/.env/faketable/lib/python3.9/site-packages/sklearn/linear_model/_logistic.py:458: ConvergenceWarning: lbfgs failed to converge (status=1):\n",
      "STOP: TOTAL NO. of ITERATIONS REACHED LIMIT.\n",
      "\n",
      "Increase the number of iterations (max_iter) or scale the data as shown in:\n",
      "    https://scikit-learn.org/stable/modules/preprocessing.html\n",
      "Please also refer to the documentation for alternative solver options:\n",
      "    https://scikit-learn.org/stable/modules/linear_model.html#logistic-regression\n",
      "  n_iter_i = _check_optimize_result(\n"
     ]
    }
   ],
   "source": [
    "f1_score = utility.efficacy_test(realdata=df_train, fakedata=df_test, target_name=\"RISK_MORTALITY\")\n",
    "print(f1_score)"
   ]
  }
 ],
 "metadata": {
  "kernelspec": {
   "display_name": "Python 3 (ipykernel)",
   "language": "python",
   "name": "python3"
  },
  "language_info": {
   "codemirror_mode": {
    "name": "ipython",
    "version": 3
   },
   "file_extension": ".py",
   "mimetype": "text/x-python",
   "name": "python",
   "nbconvert_exporter": "python",
   "pygments_lexer": "ipython3",
   "version": "3.9.6"
  }
 },
 "nbformat": 4,
 "nbformat_minor": 5
}
