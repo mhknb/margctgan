{
 "cells": [
  {
   "cell_type": "code",
   "execution_count": 1,
   "id": "working-budapest",
   "metadata": {},
   "outputs": [],
   "source": [
    "%load_ext autoreload\n",
    "%autoreload 2"
   ]
  },
  {
   "cell_type": "code",
   "execution_count": 2,
   "id": "fallen-wagon",
   "metadata": {},
   "outputs": [],
   "source": [
    "import sys, os\n",
    "sys.path.append(\"../../\")"
   ]
  },
  {
   "cell_type": "code",
   "execution_count": 3,
   "id": "recreational-trail",
   "metadata": {},
   "outputs": [],
   "source": [
    "from utils.transformer import  DataTransformer\n",
    "from utils.dataset import Dataset\n",
    "from metrics.utility import efficacy_test\n",
    "from sklearn.metrics import accuracy_score"
   ]
  },
  {
   "cell_type": "code",
   "execution_count": 4,
   "id": "noble-webster",
   "metadata": {},
   "outputs": [
    {
     "name": "stdout",
     "output_type": "stream",
     "text": [
      "(32561, 15)\n"
     ]
    },
    {
     "data": {
      "text/html": [
       "<div>\n",
       "<style scoped>\n",
       "    .dataframe tbody tr th:only-of-type {\n",
       "        vertical-align: middle;\n",
       "    }\n",
       "\n",
       "    .dataframe tbody tr th {\n",
       "        vertical-align: top;\n",
       "    }\n",
       "\n",
       "    .dataframe thead th {\n",
       "        text-align: right;\n",
       "    }\n",
       "</style>\n",
       "<table border=\"1\" class=\"dataframe\">\n",
       "  <thead>\n",
       "    <tr style=\"text-align: right;\">\n",
       "      <th></th>\n",
       "      <th>age</th>\n",
       "      <th>fnlwgt</th>\n",
       "      <th>education-num</th>\n",
       "      <th>capital-gain</th>\n",
       "      <th>capital-loss</th>\n",
       "      <th>hours-per-week</th>\n",
       "      <th>workclass</th>\n",
       "      <th>education</th>\n",
       "      <th>marital-status</th>\n",
       "      <th>occupation</th>\n",
       "      <th>relationship</th>\n",
       "      <th>race</th>\n",
       "      <th>sex</th>\n",
       "      <th>native-country</th>\n",
       "      <th>income</th>\n",
       "    </tr>\n",
       "  </thead>\n",
       "  <tbody>\n",
       "    <tr>\n",
       "      <th>0</th>\n",
       "      <td>39.0</td>\n",
       "      <td>77516.0</td>\n",
       "      <td>13.0</td>\n",
       "      <td>2174.0</td>\n",
       "      <td>0.0</td>\n",
       "      <td>40.0</td>\n",
       "      <td>State-gov</td>\n",
       "      <td>Bachelors</td>\n",
       "      <td>Never-married</td>\n",
       "      <td>Adm-clerical</td>\n",
       "      <td>Not-in-family</td>\n",
       "      <td>White</td>\n",
       "      <td>Male</td>\n",
       "      <td>United-States</td>\n",
       "      <td>&lt;=50K</td>\n",
       "    </tr>\n",
       "    <tr>\n",
       "      <th>1</th>\n",
       "      <td>50.0</td>\n",
       "      <td>83311.0</td>\n",
       "      <td>13.0</td>\n",
       "      <td>0.0</td>\n",
       "      <td>0.0</td>\n",
       "      <td>13.0</td>\n",
       "      <td>Self-emp-not-inc</td>\n",
       "      <td>Bachelors</td>\n",
       "      <td>Married-civ-spouse</td>\n",
       "      <td>Exec-managerial</td>\n",
       "      <td>Husband</td>\n",
       "      <td>White</td>\n",
       "      <td>Male</td>\n",
       "      <td>United-States</td>\n",
       "      <td>&lt;=50K</td>\n",
       "    </tr>\n",
       "    <tr>\n",
       "      <th>2</th>\n",
       "      <td>38.0</td>\n",
       "      <td>215646.0</td>\n",
       "      <td>9.0</td>\n",
       "      <td>0.0</td>\n",
       "      <td>0.0</td>\n",
       "      <td>40.0</td>\n",
       "      <td>Private</td>\n",
       "      <td>HS-grad</td>\n",
       "      <td>Divorced</td>\n",
       "      <td>Handlers-cleaners</td>\n",
       "      <td>Not-in-family</td>\n",
       "      <td>White</td>\n",
       "      <td>Male</td>\n",
       "      <td>United-States</td>\n",
       "      <td>&lt;=50K</td>\n",
       "    </tr>\n",
       "    <tr>\n",
       "      <th>3</th>\n",
       "      <td>53.0</td>\n",
       "      <td>234721.0</td>\n",
       "      <td>7.0</td>\n",
       "      <td>0.0</td>\n",
       "      <td>0.0</td>\n",
       "      <td>40.0</td>\n",
       "      <td>Private</td>\n",
       "      <td>11th</td>\n",
       "      <td>Married-civ-spouse</td>\n",
       "      <td>Handlers-cleaners</td>\n",
       "      <td>Husband</td>\n",
       "      <td>Black</td>\n",
       "      <td>Male</td>\n",
       "      <td>United-States</td>\n",
       "      <td>&lt;=50K</td>\n",
       "    </tr>\n",
       "    <tr>\n",
       "      <th>4</th>\n",
       "      <td>28.0</td>\n",
       "      <td>338409.0</td>\n",
       "      <td>13.0</td>\n",
       "      <td>0.0</td>\n",
       "      <td>0.0</td>\n",
       "      <td>40.0</td>\n",
       "      <td>Private</td>\n",
       "      <td>Bachelors</td>\n",
       "      <td>Married-civ-spouse</td>\n",
       "      <td>Prof-specialty</td>\n",
       "      <td>Wife</td>\n",
       "      <td>Black</td>\n",
       "      <td>Female</td>\n",
       "      <td>Cuba</td>\n",
       "      <td>&lt;=50K</td>\n",
       "    </tr>\n",
       "  </tbody>\n",
       "</table>\n",
       "</div>"
      ],
      "text/plain": [
       "    age    fnlwgt  education-num  capital-gain  capital-loss  hours-per-week  \\\n",
       "0  39.0   77516.0           13.0        2174.0           0.0            40.0   \n",
       "1  50.0   83311.0           13.0           0.0           0.0            13.0   \n",
       "2  38.0  215646.0            9.0           0.0           0.0            40.0   \n",
       "3  53.0  234721.0            7.0           0.0           0.0            40.0   \n",
       "4  28.0  338409.0           13.0           0.0           0.0            40.0   \n",
       "\n",
       "          workclass  education      marital-status         occupation  \\\n",
       "0         State-gov  Bachelors       Never-married       Adm-clerical   \n",
       "1  Self-emp-not-inc  Bachelors  Married-civ-spouse    Exec-managerial   \n",
       "2           Private    HS-grad            Divorced  Handlers-cleaners   \n",
       "3           Private       11th  Married-civ-spouse  Handlers-cleaners   \n",
       "4           Private  Bachelors  Married-civ-spouse     Prof-specialty   \n",
       "\n",
       "    relationship   race     sex native-country income  \n",
       "0  Not-in-family  White    Male  United-States  <=50K  \n",
       "1        Husband  White    Male  United-States  <=50K  \n",
       "2  Not-in-family  White    Male  United-States  <=50K  \n",
       "3        Husband  Black    Male  United-States  <=50K  \n",
       "4           Wife  Black  Female           Cuba  <=50K  "
      ]
     },
     "execution_count": 4,
     "metadata": {},
     "output_type": "execute_result"
    }
   ],
   "source": [
    "train_dset = Dataset(\n",
    "    dataset_name=\"adult\",\n",
    "    dataset_dir=\"../\",\n",
    "    subset=\"train\",\n",
    "    random_state=1000,\n",
    "    return_filtered_cols=False\n",
    ")\n",
    "\n",
    "print(train_dset.data.shape)\n",
    "train_dset.data.head()"
   ]
  },
  {
   "cell_type": "code",
   "execution_count": 5,
   "id": "palestinian-classification",
   "metadata": {},
   "outputs": [
    {
     "data": {
      "text/plain": [
       "['workclass',\n",
       " 'education',\n",
       " 'marital-status',\n",
       " 'occupation',\n",
       " 'relationship',\n",
       " 'race',\n",
       " 'sex',\n",
       " 'native-country',\n",
       " 'income']"
      ]
     },
     "execution_count": 5,
     "metadata": {},
     "output_type": "execute_result"
    }
   ],
   "source": [
    "train_dset.cat_cols"
   ]
  },
  {
   "cell_type": "code",
   "execution_count": 6,
   "id": "painful-dressing",
   "metadata": {},
   "outputs": [
    {
     "data": {
      "text/plain": [
       "['age',\n",
       " 'fnlwgt',\n",
       " 'education-num',\n",
       " 'capital-gain',\n",
       " 'capital-loss',\n",
       " 'hours-per-week']"
      ]
     },
     "execution_count": 6,
     "metadata": {},
     "output_type": "execute_result"
    }
   ],
   "source": [
    "train_dset.num_cols"
   ]
  },
  {
   "cell_type": "code",
   "execution_count": 7,
   "id": "liquid-choir",
   "metadata": {},
   "outputs": [
    {
     "data": {
      "text/plain": [
       "<AxesSubplot:ylabel='Density'>"
      ]
     },
     "execution_count": 7,
     "metadata": {},
     "output_type": "execute_result"
    },
    {
     "data": {
      "image/png": "[encoded data removed]",
      "text/plain": [
       "<Figure size 432x288 with 1 Axes>"
      ]
     },
     "metadata": {
      "needs_background": "light"
     },
     "output_type": "display_data"
    }
   ],
   "source": [
    "train_dset.data[\"hours-per-week\"].plot(kind=\"density\")"
   ]
  },
  {
   "cell_type": "code",
   "execution_count": 8,
   "id": "structured-pharmacology",
   "metadata": {},
   "outputs": [
    {
     "data": {
      "text/plain": [
       "9.0     10501\n",
       "10.0     7291\n",
       "13.0     5355\n",
       "14.0     1723\n",
       "11.0     1382\n",
       "7.0      1175\n",
       "12.0     1067\n",
       "6.0       933\n",
       "4.0       646\n",
       "15.0      576\n",
       "5.0       514\n",
       "8.0       433\n",
       "16.0      413\n",
       "3.0       333\n",
       "2.0       168\n",
       "1.0        51\n",
       "Name: education-num, dtype: int64"
      ]
     },
     "execution_count": 8,
     "metadata": {},
     "output_type": "execute_result"
    }
   ],
   "source": [
    "train_dset.data[\"education-num\"].value_counts()"
   ]
  },
  {
   "cell_type": "markdown",
   "id": "strange-mobility",
   "metadata": {},
   "source": [
    "## Explore filtered columns"
   ]
  },
  {
   "cell_type": "code",
   "execution_count": 9,
   "id": "terminal-story",
   "metadata": {},
   "outputs": [
    {
     "name": "stdout",
     "output_type": "stream",
     "text": [
      "(32561, 11)\n"
     ]
    },
    {
     "data": {
      "text/html": [
       "<div>\n",
       "<style scoped>\n",
       "    .dataframe tbody tr th:only-of-type {\n",
       "        vertical-align: middle;\n",
       "    }\n",
       "\n",
       "    .dataframe tbody tr th {\n",
       "        vertical-align: top;\n",
       "    }\n",
       "\n",
       "    .dataframe thead th {\n",
       "        text-align: right;\n",
       "    }\n",
       "</style>\n",
       "<table border=\"1\" class=\"dataframe\">\n",
       "  <thead>\n",
       "    <tr style=\"text-align: right;\">\n",
       "      <th></th>\n",
       "      <th>age</th>\n",
       "      <th>capital-gain</th>\n",
       "      <th>capital-loss</th>\n",
       "      <th>workclass</th>\n",
       "      <th>education</th>\n",
       "      <th>marital-status</th>\n",
       "      <th>occupation</th>\n",
       "      <th>sex</th>\n",
       "      <th>race</th>\n",
       "      <th>native-country</th>\n",
       "      <th>income</th>\n",
       "    </tr>\n",
       "  </thead>\n",
       "  <tbody>\n",
       "    <tr>\n",
       "      <th>0</th>\n",
       "      <td>39.0</td>\n",
       "      <td>2174.0</td>\n",
       "      <td>0.0</td>\n",
       "      <td>State-gov</td>\n",
       "      <td>Bachelors</td>\n",
       "      <td>Never-married</td>\n",
       "      <td>Adm-clerical</td>\n",
       "      <td>Male</td>\n",
       "      <td>White</td>\n",
       "      <td>United-States</td>\n",
       "      <td>&lt;=50K</td>\n",
       "    </tr>\n",
       "    <tr>\n",
       "      <th>1</th>\n",
       "      <td>50.0</td>\n",
       "      <td>0.0</td>\n",
       "      <td>0.0</td>\n",
       "      <td>Self-emp-not-inc</td>\n",
       "      <td>Bachelors</td>\n",
       "      <td>Married-civ-spouse</td>\n",
       "      <td>Exec-managerial</td>\n",
       "      <td>Male</td>\n",
       "      <td>White</td>\n",
       "      <td>United-States</td>\n",
       "      <td>&lt;=50K</td>\n",
       "    </tr>\n",
       "    <tr>\n",
       "      <th>2</th>\n",
       "      <td>38.0</td>\n",
       "      <td>0.0</td>\n",
       "      <td>0.0</td>\n",
       "      <td>Private</td>\n",
       "      <td>HS-grad</td>\n",
       "      <td>Divorced</td>\n",
       "      <td>Handlers-cleaners</td>\n",
       "      <td>Male</td>\n",
       "      <td>White</td>\n",
       "      <td>United-States</td>\n",
       "      <td>&lt;=50K</td>\n",
       "    </tr>\n",
       "    <tr>\n",
       "      <th>3</th>\n",
       "      <td>53.0</td>\n",
       "      <td>0.0</td>\n",
       "      <td>0.0</td>\n",
       "      <td>Private</td>\n",
       "      <td>11th</td>\n",
       "      <td>Married-civ-spouse</td>\n",
       "      <td>Handlers-cleaners</td>\n",
       "      <td>Male</td>\n",
       "      <td>Black</td>\n",
       "      <td>United-States</td>\n",
       "      <td>&lt;=50K</td>\n",
       "    </tr>\n",
       "    <tr>\n",
       "      <th>4</th>\n",
       "      <td>28.0</td>\n",
       "      <td>0.0</td>\n",
       "      <td>0.0</td>\n",
       "      <td>Private</td>\n",
       "      <td>Bachelors</td>\n",
       "      <td>Married-civ-spouse</td>\n",
       "      <td>Prof-specialty</td>\n",
       "      <td>Female</td>\n",
       "      <td>Black</td>\n",
       "      <td>Cuba</td>\n",
       "      <td>&lt;=50K</td>\n",
       "    </tr>\n",
       "  </tbody>\n",
       "</table>\n",
       "</div>"
      ],
      "text/plain": [
       "    age  capital-gain  capital-loss         workclass  education  \\\n",
       "0  39.0        2174.0           0.0         State-gov  Bachelors   \n",
       "1  50.0           0.0           0.0  Self-emp-not-inc  Bachelors   \n",
       "2  38.0           0.0           0.0           Private    HS-grad   \n",
       "3  53.0           0.0           0.0           Private       11th   \n",
       "4  28.0           0.0           0.0           Private  Bachelors   \n",
       "\n",
       "       marital-status         occupation     sex   race native-country income  \n",
       "0       Never-married       Adm-clerical    Male  White  United-States  <=50K  \n",
       "1  Married-civ-spouse    Exec-managerial    Male  White  United-States  <=50K  \n",
       "2            Divorced  Handlers-cleaners    Male  White  United-States  <=50K  \n",
       "3  Married-civ-spouse  Handlers-cleaners    Male  Black  United-States  <=50K  \n",
       "4  Married-civ-spouse     Prof-specialty  Female  Black           Cuba  <=50K  "
      ]
     },
     "execution_count": 9,
     "metadata": {},
     "output_type": "execute_result"
    }
   ],
   "source": [
    "train_dset = Dataset(\n",
    "    dataset_name=\"adult\",\n",
    "    dataset_dir=\"../\",\n",
    "    subset=\"train\",\n",
    "    random_state=1000,\n",
    "    return_filtered_cols=True\n",
    ")\n",
    "\n",
    "print(train_dset.data.shape)\n",
    "train_dset.data.head()"
   ]
  },
  {
   "cell_type": "code",
   "execution_count": 10,
   "id": "dramatic-release",
   "metadata": {},
   "outputs": [
    {
     "data": {
      "text/plain": [
       "<AxesSubplot:ylabel='Frequency'>"
      ]
     },
     "execution_count": 10,
     "metadata": {},
     "output_type": "execute_result"
    },
    {
     "data": {
      "image/png": "[encoded data removed]",
      "text/plain": [
       "<Figure size 432x288 with 1 Axes>"
      ]
     },
     "metadata": {
      "needs_background": "light"
     },
     "output_type": "display_data"
    }
   ],
   "source": [
    "train_dset.data.age.plot.hist()"
   ]
  },
  {
   "cell_type": "code",
   "execution_count": 11,
   "id": "removed-fiction",
   "metadata": {},
   "outputs": [
    {
     "data": {
      "text/plain": [
       "<AxesSubplot:>"
      ]
     },
     "execution_count": 11,
     "metadata": {},
     "output_type": "execute_result"
    },
    {
     "data": {
      "image/png": "[encoded data removed]",
      "text/plain": [
       "<Figure size 432x288 with 1 Axes>"
      ]
     },
     "metadata": {
      "needs_background": "light"
     },
     "output_type": "display_data"
    }
   ],
   "source": [
    "train_dset.data.income.value_counts().plot.bar()"
   ]
  },
  {
   "cell_type": "code",
   "execution_count": 12,
   "id": "alien-holocaust",
   "metadata": {},
   "outputs": [
    {
     "name": "stdout",
     "output_type": "stream",
     "text": [
      "(16281, 11)\n"
     ]
    },
    {
     "data": {
      "text/html": [
       "<div>\n",
       "<style scoped>\n",
       "    .dataframe tbody tr th:only-of-type {\n",
       "        vertical-align: middle;\n",
       "    }\n",
       "\n",
       "    .dataframe tbody tr th {\n",
       "        vertical-align: top;\n",
       "    }\n",
       "\n",
       "    .dataframe thead th {\n",
       "        text-align: right;\n",
       "    }\n",
       "</style>\n",
       "<table border=\"1\" class=\"dataframe\">\n",
       "  <thead>\n",
       "    <tr style=\"text-align: right;\">\n",
       "      <th></th>\n",
       "      <th>age</th>\n",
       "      <th>capital-gain</th>\n",
       "      <th>capital-loss</th>\n",
       "      <th>workclass</th>\n",
       "      <th>education</th>\n",
       "      <th>marital-status</th>\n",
       "      <th>occupation</th>\n",
       "      <th>sex</th>\n",
       "      <th>race</th>\n",
       "      <th>native-country</th>\n",
       "      <th>income</th>\n",
       "    </tr>\n",
       "  </thead>\n",
       "  <tbody>\n",
       "    <tr>\n",
       "      <th>0</th>\n",
       "      <td>25.0</td>\n",
       "      <td>0.0</td>\n",
       "      <td>0.0</td>\n",
       "      <td>Private</td>\n",
       "      <td>11th</td>\n",
       "      <td>Never-married</td>\n",
       "      <td>Machine-op-inspct</td>\n",
       "      <td>Male</td>\n",
       "      <td>Black</td>\n",
       "      <td>United-States</td>\n",
       "      <td>&lt;=50K</td>\n",
       "    </tr>\n",
       "    <tr>\n",
       "      <th>1</th>\n",
       "      <td>38.0</td>\n",
       "      <td>0.0</td>\n",
       "      <td>0.0</td>\n",
       "      <td>Private</td>\n",
       "      <td>HS-grad</td>\n",
       "      <td>Married-civ-spouse</td>\n",
       "      <td>Farming-fishing</td>\n",
       "      <td>Male</td>\n",
       "      <td>White</td>\n",
       "      <td>United-States</td>\n",
       "      <td>&lt;=50K</td>\n",
       "    </tr>\n",
       "    <tr>\n",
       "      <th>2</th>\n",
       "      <td>28.0</td>\n",
       "      <td>0.0</td>\n",
       "      <td>0.0</td>\n",
       "      <td>Local-gov</td>\n",
       "      <td>Assoc-acdm</td>\n",
       "      <td>Married-civ-spouse</td>\n",
       "      <td>Protective-serv</td>\n",
       "      <td>Male</td>\n",
       "      <td>White</td>\n",
       "      <td>United-States</td>\n",
       "      <td>&gt;50K</td>\n",
       "    </tr>\n",
       "    <tr>\n",
       "      <th>3</th>\n",
       "      <td>44.0</td>\n",
       "      <td>7688.0</td>\n",
       "      <td>0.0</td>\n",
       "      <td>Private</td>\n",
       "      <td>Some-college</td>\n",
       "      <td>Married-civ-spouse</td>\n",
       "      <td>Machine-op-inspct</td>\n",
       "      <td>Male</td>\n",
       "      <td>Black</td>\n",
       "      <td>United-States</td>\n",
       "      <td>&gt;50K</td>\n",
       "    </tr>\n",
       "    <tr>\n",
       "      <th>4</th>\n",
       "      <td>18.0</td>\n",
       "      <td>0.0</td>\n",
       "      <td>0.0</td>\n",
       "      <td>?</td>\n",
       "      <td>Some-college</td>\n",
       "      <td>Never-married</td>\n",
       "      <td>?</td>\n",
       "      <td>Female</td>\n",
       "      <td>White</td>\n",
       "      <td>United-States</td>\n",
       "      <td>&lt;=50K</td>\n",
       "    </tr>\n",
       "  </tbody>\n",
       "</table>\n",
       "</div>"
      ],
      "text/plain": [
       "    age  capital-gain  capital-loss  workclass     education  \\\n",
       "0  25.0           0.0           0.0    Private          11th   \n",
       "1  38.0           0.0           0.0    Private       HS-grad   \n",
       "2  28.0           0.0           0.0  Local-gov    Assoc-acdm   \n",
       "3  44.0        7688.0           0.0    Private  Some-college   \n",
       "4  18.0           0.0           0.0          ?  Some-college   \n",
       "\n",
       "       marital-status         occupation     sex   race native-country income  \n",
       "0       Never-married  Machine-op-inspct    Male  Black  United-States  <=50K  \n",
       "1  Married-civ-spouse    Farming-fishing    Male  White  United-States  <=50K  \n",
       "2  Married-civ-spouse    Protective-serv    Male  White  United-States   >50K  \n",
       "3  Married-civ-spouse  Machine-op-inspct    Male  Black  United-States   >50K  \n",
       "4       Never-married                  ?  Female  White  United-States  <=50K  "
      ]
     },
     "execution_count": 12,
     "metadata": {},
     "output_type": "execute_result"
    }
   ],
   "source": [
    "test_dset = Dataset(\n",
    "    dataset_name=\"adult\",\n",
    "    dataset_dir=\"../\",\n",
    "    subset=\"test\",\n",
    "    random_state=1000,\n",
    "    return_filtered_cols=True\n",
    ")\n",
    "\n",
    "print(test_dset.data.shape)\n",
    "test_dset.data.head()"
   ]
  },
  {
   "cell_type": "code",
   "execution_count": 13,
   "id": "occasional-smell",
   "metadata": {},
   "outputs": [
    {
     "data": {
      "text/plain": [
       "<AxesSubplot:ylabel='Frequency'>"
      ]
     },
     "execution_count": 13,
     "metadata": {},
     "output_type": "execute_result"
    },
    {
     "data": {
      "image/png": "[encoded data removed]",
      "text/plain": [
       "<Figure size 432x288 with 1 Axes>"
      ]
     },
     "metadata": {
      "needs_background": "light"
     },
     "output_type": "display_data"
    }
   ],
   "source": [
    "test_dset.data.age.plot.hist()"
   ]
  },
  {
   "cell_type": "code",
   "execution_count": 14,
   "id": "behavioral-beatles",
   "metadata": {},
   "outputs": [
    {
     "data": {
      "text/plain": [
       "<AxesSubplot:>"
      ]
     },
     "execution_count": 14,
     "metadata": {},
     "output_type": "execute_result"
    },
    {
     "data": {
      "image/png": "[encoded data removed]",
      "text/plain": [
       "<Figure size 432x288 with 1 Axes>"
      ]
     },
     "metadata": {
      "needs_background": "light"
     },
     "output_type": "display_data"
    }
   ],
   "source": [
    "test_dset.data.income.value_counts().plot.bar()"
   ]
  },
  {
   "cell_type": "markdown",
   "id": "interested-comment",
   "metadata": {},
   "source": [
    "## Train/Evaluate Logistic Regression model on filtered Columns "
   ]
  },
  {
   "cell_type": "code",
   "execution_count": 15,
   "id": "relevant-retention",
   "metadata": {},
   "outputs": [
    {
     "name": "stdout",
     "output_type": "stream",
     "text": [
      "(32561, 11) (16281, 11)\n",
      "# categorical columns: 8\n",
      "features/label dim: (11, 0)\n",
      "F1 Score: 0.6710581346716855 \n",
      "Acc Score: 0.8067686260057736\n"
     ]
    }
   ],
   "source": [
    "transformer = DataTransformer(\n",
    "        discrete_encode=\"onehot\",\n",
    "        numerical_preprocess=\"standard\",\n",
    "        target=\"income\"\n",
    ")\n",
    "\n",
    "train_dset = Dataset(\n",
    "    dataset_name=\"adult\",\n",
    "    dataset_dir=\"../\",\n",
    "    subset=\"train\",\n",
    "    data_frac=None,\n",
    "    random_state=1000,\n",
    "    return_filtered_cols=True\n",
    ")\n",
    "\n",
    "test_dset = Dataset(\n",
    "    dataset_name=\"adult\",\n",
    "    dataset_dir=\"../\",\n",
    "    subset=\"test\",\n",
    "    data_frac=None,\n",
    "    random_state=1000,\n",
    "    return_filtered_cols=True\n",
    ")\n",
    "\n",
    "\n",
    "test_data = test_dset.data\n",
    "train_data = train_dset.data\n",
    "transformer.fit(train_data, train_dset.cat_cols)\n",
    "\n",
    "print(train_data.shape, test_data.shape)\n",
    "print(f\"# categorical columns: {len(train_dset.cat_cols)}\")\n",
    "print(f\"features/label dim: {test_dset.get_dim()}\")\n",
    "\n",
    "f1_score = efficacy_test(fakedata=train_data, realdata=test_data, target_name=\"income\", transformer=transformer)\n",
    "acc_score = efficacy_test(fakedata=train_data, realdata=test_data, target_name=\"income\", transformer=transformer, \n",
    "                                  scorer=accuracy_score)\n",
    "\n",
    "print(f\"F1 Score: {f1_score} \\nAcc Score: {acc_score}\")\n"
   ]
  },
  {
   "cell_type": "markdown",
   "id": "missing-sierra",
   "metadata": {},
   "source": [
    "## Train/Evaluate Logistic Regression model on all columns"
   ]
  },
  {
   "cell_type": "code",
   "execution_count": 16,
   "id": "banned-price",
   "metadata": {},
   "outputs": [
    {
     "name": "stdout",
     "output_type": "stream",
     "text": [
      "(32561, 15) (16281, 15)\n",
      "# categorical columns: 9\n",
      "features/label dim: (15, 0)\n",
      "F1 Score: 0.6745155240675141 \n",
      "Acc Score: 0.8081198943553836\n"
     ]
    }
   ],
   "source": [
    "transformer = DataTransformer(\n",
    "        discrete_encode=\"onehot\",\n",
    "        numerical_preprocess=\"standard\",\n",
    "        target=\"income\"\n",
    ")\n",
    "\n",
    "train_dset = Dataset(\n",
    "    dataset_name=\"adult\",\n",
    "    dataset_dir=\"../\",\n",
    "    subset=\"train\",\n",
    "    data_frac=None,\n",
    "    random_state=1000,\n",
    "    return_filtered_cols=False\n",
    ")\n",
    "\n",
    "test_dset = Dataset(\n",
    "    dataset_name=\"adult\",\n",
    "    dataset_dir=\"../\",\n",
    "    subset=\"test\",\n",
    "    data_frac=None,\n",
    "    random_state=1000,\n",
    "    return_filtered_cols=False\n",
    ")\n",
    "\n",
    "\n",
    "test_data = test_dset.data\n",
    "train_data = train_dset.data\n",
    "transformer.fit(train_data, train_dset.cat_cols)\n",
    "\n",
    "print(train_data.shape, test_data.shape)\n",
    "print(f\"# categorical columns: {len(train_dset.cat_cols)}\")\n",
    "print(f\"features/label dim: {test_dset.get_dim()}\")\n",
    "\n",
    "f1_score = efficacy_test(fakedata=train_data, realdata=test_data, target_name=\"income\", transformer=transformer)\n",
    "acc_score = efficacy_test(fakedata=train_data, realdata=test_data, target_name=\"income\", transformer=transformer, \n",
    "                                  scorer=accuracy_score)\n",
    "\n",
    "print(f\"F1 Score: {f1_score} \\nAcc Score: {acc_score}\")\n"
   ]
  },
  {
   "cell_type": "markdown",
   "id": "common-interaction",
   "metadata": {},
   "source": [
    "## Train/Evaluate Logistic Regression model on filtered columns with varying data subsets"
   ]
  },
  {
   "cell_type": "code",
   "execution_count": 17,
   "id": "provincial-knife",
   "metadata": {},
   "outputs": [],
   "source": [
    "from utils.misc import geometric_sequence\n",
    "seed = 1000\n",
    "subsets = geometric_sequence(start_value=20, \n",
    "                             common_ratio=2, \n",
    "                             size=10)"
   ]
  },
  {
   "cell_type": "code",
   "execution_count": 18,
   "id": "northern-smell",
   "metadata": {},
   "outputs": [
    {
     "name": "stdout",
     "output_type": "stream",
     "text": [
      "subset: 20: Train/Test-F1: 1.000/0.512 Train/Test-Acc: 1.000/0.731\n",
      "subset: 40: Train/Test-F1: 0.933/0.513 Train/Test-Acc: 0.975/0.758\n",
      "subset: 80: Train/Test-F1: 0.769/0.585 Train/Test-Acc: 0.887/0.748\n",
      "subset: 160: Train/Test-F1: 0.729/0.615 Train/Test-Acc: 0.856/0.781\n",
      "subset: 320: Train/Test-F1: 0.739/0.627 Train/Test-Acc: 0.856/0.800\n",
      "subset: 640: Train/Test-F1: 0.688/0.645 Train/Test-Acc: 0.820/0.799\n",
      "subset: 1280: Train/Test-F1: 0.691/0.650 Train/Test-Acc: 0.819/0.797\n",
      "subset: 2560: Train/Test-F1: 0.706/0.658 Train/Test-Acc: 0.829/0.801\n",
      "subset: 5120: Train/Test-F1: 0.691/0.664 Train/Test-Acc: 0.825/0.803\n",
      "subset: 10240: Train/Test-F1: 0.682/0.664 Train/Test-Acc: 0.812/0.801\n",
      "subset: 20480: Train/Test-F1: 0.672/0.670 Train/Test-Acc: 0.807/0.806\n"
     ]
    }
   ],
   "source": [
    "transformer = DataTransformer(\n",
    "        discrete_encode=\"onehot\",\n",
    "        numerical_preprocess=\"standard\",\n",
    "        target=\"income\"\n",
    ")\n",
    "\n",
    "test_dset = Dataset(\n",
    "        dataset_name=\"adult\",\n",
    "        dataset_dir=\"../\",\n",
    "        subset=\"test\",\n",
    "        data_frac=None,\n",
    "        random_state=seed,\n",
    "        return_filtered_cols=True\n",
    ")\n",
    "\n",
    "test_data = test_dset.data\n",
    "transformer.fit(test_data, test_dset.cat_cols)\n",
    "\n",
    "for subset in subsets:\n",
    "    train_dset = Dataset(\n",
    "        dataset_name=\"adult\",\n",
    "        dataset_dir=\"../\",\n",
    "        subset=\"train\",\n",
    "        data_frac=subset,\n",
    "        random_state=seed,\n",
    "        return_filtered_cols=True\n",
    "        )\n",
    "    train_data = train_dset.data\n",
    "    \n",
    "    f1_train = efficacy_test(fakedata=train_data, realdata=train_data, target_name=\"income\", transformer=transformer)\n",
    "    acc_train = efficacy_test(fakedata=train_data, realdata=train_data, target_name=\"income\", transformer=transformer, scorer=accuracy_score)\n",
    "    \n",
    "    f1_test = efficacy_test(fakedata=train_data, realdata=test_data, target_name=\"income\", transformer=transformer)\n",
    "    acc_test = efficacy_test(fakedata=train_data, realdata=test_data, target_name=\"income\", transformer=transformer, scorer=accuracy_score)\n",
    "\n",
    "    print(f\"subset: {subset}: Train/Test-F1: {f1_train:.3f}/{f1_test:.3f} Train/Test-Acc: {acc_train:.3f}/{acc_test:.3f}\")\n",
    "    "
   ]
  },
  {
   "cell_type": "markdown",
   "id": "short-offer",
   "metadata": {},
   "source": [
    "## Train/Evaluate Logistic Regression model on all columns with varying data subsets"
   ]
  },
  {
   "cell_type": "code",
   "execution_count": 19,
   "id": "accompanied-vessel",
   "metadata": {},
   "outputs": [],
   "source": [
    "from utils.misc import geometric_sequence\n",
    "seed = 1000\n",
    "subsets = geometric_sequence(start_value=20, \n",
    "                             common_ratio=2, \n",
    "                             size=10)"
   ]
  },
  {
   "cell_type": "code",
   "execution_count": 20,
   "id": "noble-space",
   "metadata": {},
   "outputs": [
    {
     "name": "stdout",
     "output_type": "stream",
     "text": [
      "subset: 20: Train/Test-F1: 1.000/0.550 Train/Test-Acc: 1.000/0.741\n",
      "subset: 40: Train/Test-F1: 0.933/0.532 Train/Test-Acc: 0.975/0.762\n",
      "subset: 80: Train/Test-F1: 0.762/0.581 Train/Test-Acc: 0.875/0.747\n",
      "subset: 160: Train/Test-F1: 0.706/0.633 Train/Test-Acc: 0.844/0.791\n",
      "subset: 320: Train/Test-F1: 0.751/0.646 Train/Test-Acc: 0.866/0.809\n",
      "subset: 640: Train/Test-F1: 0.698/0.654 Train/Test-Acc: 0.828/0.803\n",
      "subset: 1280: Train/Test-F1: 0.701/0.658 Train/Test-Acc: 0.825/0.801\n",
      "subset: 2560: Train/Test-F1: 0.719/0.665 Train/Test-Acc: 0.837/0.804\n",
      "subset: 5120: Train/Test-F1: 0.692/0.672 Train/Test-Acc: 0.823/0.807\n",
      "subset: 10240: Train/Test-F1: 0.688/0.673 Train/Test-Acc: 0.814/0.806\n",
      "subset: 20480: Train/Test-F1: 0.681/0.675 Train/Test-Acc: 0.811/0.808\n"
     ]
    }
   ],
   "source": [
    "transformer = DataTransformer(\n",
    "        discrete_encode=\"onehot\",\n",
    "        numerical_preprocess=\"standard\",\n",
    "        target=\"income\"\n",
    ")\n",
    "\n",
    "test_dset = Dataset(\n",
    "        dataset_name=\"adult\",\n",
    "        dataset_dir=\"../\",\n",
    "        subset=\"test\",\n",
    "        data_frac=None,\n",
    "        random_state=seed,\n",
    "        return_filtered_cols=False\n",
    ")\n",
    "\n",
    "test_data = test_dset.data\n",
    "transformer.fit(test_data, test_dset.cat_cols)\n",
    "\n",
    "for subset in subsets:\n",
    "    train_dset = Dataset(\n",
    "        dataset_name=\"adult\",\n",
    "        dataset_dir=\"../\",\n",
    "        subset=\"train\",\n",
    "        data_frac=subset,\n",
    "        random_state=seed,\n",
    "        return_filtered_cols=False\n",
    "        )\n",
    "\n",
    "\n",
    "    train_data = train_dset.data\n",
    "    \n",
    "    f1_train = efficacy_test(fakedata=train_data, realdata=train_data, target_name=\"income\", transformer=transformer)\n",
    "    acc_train = efficacy_test(fakedata=train_data, realdata=train_data, target_name=\"income\", transformer=transformer, scorer=accuracy_score)\n",
    "    \n",
    "    f1_test = efficacy_test(fakedata=train_data, realdata=test_data, target_name=\"income\", transformer=transformer)\n",
    "    acc_test = efficacy_test(fakedata=train_data, realdata=test_data, target_name=\"income\", transformer=transformer, scorer=accuracy_score)\n",
    "\n",
    "    print(f\"subset: {subset}: Train/Test-F1: {f1_train:.3f}/{f1_test:.3f} Train/Test-Acc: {acc_train:.3f}/{acc_test:.3f}\")\n",
    "    "
   ]
  },
  {
   "cell_type": "markdown",
   "id": "engaged-deputy",
   "metadata": {},
   "source": [
    "### Train Logistic Regression model on Adult train dataset, Evaluate on Adult test and Census test data"
   ]
  },
  {
   "cell_type": "code",
   "execution_count": 21,
   "id": "played-paradise",
   "metadata": {},
   "outputs": [],
   "source": [
    "transformer = DataTransformer(\n",
    "        discrete_encode=\"onehot\",\n",
    "        numerical_preprocess=\"standard\",\n",
    "        target=\"income\"\n",
    ")\n",
    "\n",
    "\n",
    "test_census_v2_dset = Dataset(\n",
    "            dataset_name=\"census_v2\",\n",
    "            dataset_dir=\"../\",\n",
    "            subset=\"test\",\n",
    "            data_frac=None,\n",
    "            random_state=seed,\n",
    ")\n",
    "\n",
    "test_census_dset = Dataset(\n",
    "            dataset_name=\"census\",\n",
    "            dataset_dir=\"../\",\n",
    "            subset=\"test\",\n",
    "            data_frac=None,\n",
    "            random_state=seed,\n",
    "            return_filtered_cols=True\n",
    ")\n",
    "\n",
    "\n",
    "test_dset = Dataset(\n",
    "            dataset_name=\"adult\",\n",
    "            dataset_dir=\"../\",\n",
    "            subset=\"test\",\n",
    "            data_frac=None,\n",
    "            random_state=seed,\n",
    "            return_filtered_cols=True\n",
    ")\n",
    "\n",
    "train_dset = Dataset(\n",
    "        dataset_name=\"adult\",\n",
    "        dataset_dir=\"../\",\n",
    "        subset=\"train\",\n",
    "        data_frac=None,\n",
    "        random_state=seed,\n",
    "        return_filtered_cols=True,\n",
    ")\n",
    "\n",
    "train_data = train_dset.data\n",
    "test_data = test_dset.data\n",
    "test_census_data = test_census_dset.data\n",
    "test_census_data.columns = train_data.columns\n",
    "test_census_v2_data = test_census_v2_dset.data\n",
    "\n",
    "transformer.fit(train_data, train_dset.cat_cols)"
   ]
  },
  {
   "cell_type": "code",
   "execution_count": 22,
   "id": "renewable-input",
   "metadata": {},
   "outputs": [
    {
     "name": "stdout",
     "output_type": "stream",
     "text": [
      "Adult/Census/Census_v2 F1 Score: 0.671/0.320/0.349 \n",
      "Adult/Census/Census_v2 Acc Score: 0.807/0.937/0.753\n"
     ]
    }
   ],
   "source": [
    "f1_adult = efficacy_test(fakedata=train_data, realdata=test_data, target_name=\"income\", transformer=transformer)\n",
    "acc_adult = efficacy_test(fakedata=train_data, realdata=test_data, target_name=\"income\", transformer=transformer, scorer=accuracy_score)\n",
    "    \n",
    "f1_census = efficacy_test(fakedata=train_data, realdata=test_census_data, target_name=\"income\", transformer=transformer)\n",
    "acc_census = efficacy_test(fakedata=train_data, realdata=test_census_data, target_name=\"income\", transformer=transformer, scorer=accuracy_score)\n",
    "    \n",
    "f1_census_v2 = efficacy_test(fakedata=train_data, realdata=test_census_v2_data, target_name=\"income\", transformer=transformer)\n",
    "acc_census_v2 = efficacy_test(fakedata=train_data, realdata=test_census_v2_data, target_name=\"income\", transformer=transformer, scorer=accuracy_score)\n",
    "    \n",
    "    \n",
    "    \n",
    "    \n",
    "print(f\"Adult/Census/Census_v2 F1 Score: {f1_adult:.3f}/{f1_census:.3f}/{f1_census_v2:.3f} \\nAdult/Census/Census_v2 Acc Score: {acc_adult:.3f}/{acc_census:.3f}/{acc_census_v2:.3f}\")\n"
   ]
  },
  {
   "cell_type": "code",
   "execution_count": 23,
   "id": "everyday-logging",
   "metadata": {},
   "outputs": [],
   "source": [
    "from sklearn.metrics import f1_score, confusion_matrix, classification_report"
   ]
  },
  {
   "cell_type": "markdown",
   "id": "worse-habitat",
   "metadata": {},
   "source": [
    "### Adult Dataset"
   ]
  },
  {
   "cell_type": "code",
   "execution_count": 24,
   "id": "southwest-works",
   "metadata": {},
   "outputs": [
    {
     "name": "stdout",
     "output_type": "stream",
     "text": [
      "[[9926 2509]\n",
      " [ 637 3209]]\n"
     ]
    }
   ],
   "source": [
    "matrix = efficacy_test(fakedata=train_data, \n",
    "                       realdata=test_data, \n",
    "                       target_name=\"income\", \n",
    "                       transformer=transformer, \n",
    "                       scorer=confusion_matrix)\n",
    "print(matrix)"
   ]
  },
  {
   "cell_type": "code",
   "execution_count": 25,
   "id": "approximate-might",
   "metadata": {},
   "outputs": [
    {
     "name": "stdout",
     "output_type": "stream",
     "text": [
      "              precision    recall  f1-score   support\n",
      "\n",
      "         0.0       0.94      0.80      0.86     12435\n",
      "         1.0       0.56      0.83      0.67      3846\n",
      "\n",
      "    accuracy                           0.81     16281\n",
      "   macro avg       0.75      0.82      0.77     16281\n",
      "weighted avg       0.85      0.81      0.82     16281\n",
      "\n"
     ]
    }
   ],
   "source": [
    "report = efficacy_test(fakedata=train_data, \n",
    "                       realdata=test_data, \n",
    "                       target_name=\"income\", \n",
    "                       transformer=transformer, \n",
    "                       scorer=classification_report)\n",
    "print(report)"
   ]
  },
  {
   "cell_type": "markdown",
   "id": "limiting-danger",
   "metadata": {},
   "source": [
    "### Census Dataset: recalls less of the minority class"
   ]
  },
  {
   "cell_type": "code",
   "execution_count": 26,
   "id": "developed-structure",
   "metadata": {},
   "outputs": [
    {
     "name": "stdout",
     "output_type": "stream",
     "text": [
      "[[91948  1628]\n",
      " [ 4696  1490]]\n"
     ]
    }
   ],
   "source": [
    "matrix = efficacy_test(fakedata=train_data, \n",
    "                       realdata=test_census_data, \n",
    "                       target_name=\"income\", \n",
    "                       transformer=transformer, \n",
    "                       scorer=confusion_matrix)\n",
    "print(matrix)"
   ]
  },
  {
   "cell_type": "code",
   "execution_count": 27,
   "id": "colonial-separation",
   "metadata": {},
   "outputs": [
    {
     "name": "stdout",
     "output_type": "stream",
     "text": [
      "              precision    recall  f1-score   support\n",
      "\n",
      "         0.0       0.95      0.98      0.97     93576\n",
      "         1.0       0.48      0.24      0.32      6186\n",
      "\n",
      "    accuracy                           0.94     99762\n",
      "   macro avg       0.71      0.61      0.64     99762\n",
      "weighted avg       0.92      0.94      0.93     99762\n",
      "\n"
     ]
    }
   ],
   "source": [
    "report = efficacy_test(fakedata=train_data, \n",
    "                       realdata=test_census_data, \n",
    "                       target_name=\"income\", \n",
    "                       transformer=transformer, \n",
    "                       scorer=classification_report)\n",
    "print(report)"
   ]
  },
  {
   "cell_type": "markdown",
   "id": "delayed-stranger",
   "metadata": {},
   "source": [
    "### Census_v2: recalls more of the minority class"
   ]
  },
  {
   "cell_type": "code",
   "execution_count": 28,
   "id": "finite-playback",
   "metadata": {},
   "outputs": [
    {
     "name": "stdout",
     "output_type": "stream",
     "text": [
      "[[52371 17763]\n",
      " [ 1119  5067]]\n"
     ]
    }
   ],
   "source": [
    "matrix = efficacy_test(fakedata=train_data, \n",
    "                       realdata=test_census_v2_data, \n",
    "                       target_name=\"income\", \n",
    "                       transformer=transformer, \n",
    "                       scorer=confusion_matrix)\n",
    "print(matrix)"
   ]
  },
  {
   "cell_type": "code",
   "execution_count": 29,
   "id": "boolean-newspaper",
   "metadata": {},
   "outputs": [
    {
     "name": "stdout",
     "output_type": "stream",
     "text": [
      "              precision    recall  f1-score   support\n",
      "\n",
      "         0.0       0.98      0.75      0.85     70134\n",
      "         1.0       0.22      0.82      0.35      6186\n",
      "\n",
      "    accuracy                           0.75     76320\n",
      "   macro avg       0.60      0.78      0.60     76320\n",
      "weighted avg       0.92      0.75      0.81     76320\n",
      "\n"
     ]
    }
   ],
   "source": [
    "report = efficacy_test(fakedata=train_data, \n",
    "                       realdata=test_census_v2_data, \n",
    "                       target_name=\"income\", \n",
    "                       transformer=transformer, \n",
    "                       scorer=classification_report)\n",
    "print(report)"
   ]
  },
  {
   "cell_type": "markdown",
   "id": "alien-saturday",
   "metadata": {},
   "source": [
    "### Display mistakes across three datasets"
   ]
  },
  {
   "cell_type": "code",
   "execution_count": 30,
   "id": "threaded-hawaiian",
   "metadata": {},
   "outputs": [],
   "source": [
    "import numpy as np\n",
    "def unique_mistakes(y_true, y_pred):\n",
    "    mistakes = np.where(y_true!=y_pred)[0]\n",
    "    return mistakes"
   ]
  },
  {
   "cell_type": "markdown",
   "id": "comparable-grace",
   "metadata": {},
   "source": [
    "### Adult test mistakes"
   ]
  },
  {
   "cell_type": "code",
   "execution_count": 31,
   "id": "southern-assault",
   "metadata": {},
   "outputs": [
    {
     "data": {
      "text/html": [
       "<div>\n",
       "<style scoped>\n",
       "    .dataframe tbody tr th:only-of-type {\n",
       "        vertical-align: middle;\n",
       "    }\n",
       "\n",
       "    .dataframe tbody tr th {\n",
       "        vertical-align: top;\n",
       "    }\n",
       "\n",
       "    .dataframe thead th {\n",
       "        text-align: right;\n",
       "    }\n",
       "</style>\n",
       "<table border=\"1\" class=\"dataframe\">\n",
       "  <thead>\n",
       "    <tr style=\"text-align: right;\">\n",
       "      <th></th>\n",
       "      <th>age</th>\n",
       "      <th>capital-gain</th>\n",
       "      <th>capital-loss</th>\n",
       "      <th>workclass</th>\n",
       "      <th>education</th>\n",
       "      <th>marital-status</th>\n",
       "      <th>occupation</th>\n",
       "      <th>sex</th>\n",
       "      <th>race</th>\n",
       "      <th>native-country</th>\n",
       "      <th>income</th>\n",
       "    </tr>\n",
       "  </thead>\n",
       "  <tbody>\n",
       "    <tr>\n",
       "      <th>11</th>\n",
       "      <td>36.0</td>\n",
       "      <td>0.0</td>\n",
       "      <td>0.0</td>\n",
       "      <td>Federal-gov</td>\n",
       "      <td>Bachelors</td>\n",
       "      <td>Married-civ-spouse</td>\n",
       "      <td>Adm-clerical</td>\n",
       "      <td>Male</td>\n",
       "      <td>White</td>\n",
       "      <td>United-States</td>\n",
       "      <td>&lt;=50K</td>\n",
       "    </tr>\n",
       "    <tr>\n",
       "      <th>24</th>\n",
       "      <td>25.0</td>\n",
       "      <td>0.0</td>\n",
       "      <td>0.0</td>\n",
       "      <td>Private</td>\n",
       "      <td>Bachelors</td>\n",
       "      <td>Married-civ-spouse</td>\n",
       "      <td>Prof-specialty</td>\n",
       "      <td>Male</td>\n",
       "      <td>White</td>\n",
       "      <td>United-States</td>\n",
       "      <td>&lt;=50K</td>\n",
       "    </tr>\n",
       "    <tr>\n",
       "      <th>28</th>\n",
       "      <td>54.0</td>\n",
       "      <td>0.0</td>\n",
       "      <td>0.0</td>\n",
       "      <td>Private</td>\n",
       "      <td>HS-grad</td>\n",
       "      <td>Married-civ-spouse</td>\n",
       "      <td>Craft-repair</td>\n",
       "      <td>Male</td>\n",
       "      <td>White</td>\n",
       "      <td>United-States</td>\n",
       "      <td>&lt;=50K</td>\n",
       "    </tr>\n",
       "    <tr>\n",
       "      <th>33</th>\n",
       "      <td>23.0</td>\n",
       "      <td>0.0</td>\n",
       "      <td>0.0</td>\n",
       "      <td>Local-gov</td>\n",
       "      <td>Some-college</td>\n",
       "      <td>Married-civ-spouse</td>\n",
       "      <td>Protective-serv</td>\n",
       "      <td>Male</td>\n",
       "      <td>White</td>\n",
       "      <td>United-States</td>\n",
       "      <td>&lt;=50K</td>\n",
       "    </tr>\n",
       "    <tr>\n",
       "      <th>47</th>\n",
       "      <td>54.0</td>\n",
       "      <td>3908.0</td>\n",
       "      <td>0.0</td>\n",
       "      <td>Private</td>\n",
       "      <td>Some-college</td>\n",
       "      <td>Married-civ-spouse</td>\n",
       "      <td>Transport-moving</td>\n",
       "      <td>Male</td>\n",
       "      <td>White</td>\n",
       "      <td>United-States</td>\n",
       "      <td>&lt;=50K</td>\n",
       "    </tr>\n",
       "  </tbody>\n",
       "</table>\n",
       "</div>"
      ],
      "text/plain": [
       "     age  capital-gain  capital-loss    workclass     education  \\\n",
       "11  36.0           0.0           0.0  Federal-gov     Bachelors   \n",
       "24  25.0           0.0           0.0      Private     Bachelors   \n",
       "28  54.0           0.0           0.0      Private       HS-grad   \n",
       "33  23.0           0.0           0.0    Local-gov  Some-college   \n",
       "47  54.0        3908.0           0.0      Private  Some-college   \n",
       "\n",
       "        marital-status        occupation   sex   race native-country income  \n",
       "11  Married-civ-spouse      Adm-clerical  Male  White  United-States  <=50K  \n",
       "24  Married-civ-spouse    Prof-specialty  Male  White  United-States  <=50K  \n",
       "28  Married-civ-spouse      Craft-repair  Male  White  United-States  <=50K  \n",
       "33  Married-civ-spouse   Protective-serv  Male  White  United-States  <=50K  \n",
       "47  Married-civ-spouse  Transport-moving  Male  White  United-States  <=50K  "
      ]
     },
     "execution_count": 31,
     "metadata": {},
     "output_type": "execute_result"
    }
   ],
   "source": [
    "mistakes_indices = efficacy_test(fakedata=train_data, \n",
    "                               realdata=test_data, \n",
    "                               target_name=\"income\", \n",
    "                               transformer=transformer, \n",
    "                               scorer=unique_mistakes)\n",
    "test_data.iloc[mistakes_indices].head()"
   ]
  },
  {
   "cell_type": "markdown",
   "id": "compound-audit",
   "metadata": {},
   "source": [
    "### Census test mistakes"
   ]
  },
  {
   "cell_type": "code",
   "execution_count": 32,
   "id": "quarterly-internship",
   "metadata": {},
   "outputs": [
    {
     "data": {
      "text/html": [
       "<div>\n",
       "<style scoped>\n",
       "    .dataframe tbody tr th:only-of-type {\n",
       "        vertical-align: middle;\n",
       "    }\n",
       "\n",
       "    .dataframe tbody tr th {\n",
       "        vertical-align: top;\n",
       "    }\n",
       "\n",
       "    .dataframe thead th {\n",
       "        text-align: right;\n",
       "    }\n",
       "</style>\n",
       "<table border=\"1\" class=\"dataframe\">\n",
       "  <thead>\n",
       "    <tr style=\"text-align: right;\">\n",
       "      <th></th>\n",
       "      <th>age</th>\n",
       "      <th>capital-gain</th>\n",
       "      <th>capital-loss</th>\n",
       "      <th>workclass</th>\n",
       "      <th>education</th>\n",
       "      <th>marital-status</th>\n",
       "      <th>occupation</th>\n",
       "      <th>sex</th>\n",
       "      <th>race</th>\n",
       "      <th>native-country</th>\n",
       "      <th>income</th>\n",
       "    </tr>\n",
       "  </thead>\n",
       "  <tbody>\n",
       "    <tr>\n",
       "      <th>29</th>\n",
       "      <td>46.0</td>\n",
       "      <td>15024.0</td>\n",
       "      <td>0.0</td>\n",
       "      <td>Private</td>\n",
       "      <td>Some college but no degree</td>\n",
       "      <td>Married-civilian spouse present</td>\n",
       "      <td>Precision production craft &amp; repair</td>\n",
       "      <td>Male</td>\n",
       "      <td>White</td>\n",
       "      <td>United-States</td>\n",
       "      <td>&lt;=50K</td>\n",
       "    </tr>\n",
       "    <tr>\n",
       "      <th>33</th>\n",
       "      <td>35.0</td>\n",
       "      <td>0.0</td>\n",
       "      <td>0.0</td>\n",
       "      <td>Private</td>\n",
       "      <td>Masters degree(MA MS MEng MEd MSW MBA)</td>\n",
       "      <td>Never married</td>\n",
       "      <td>Sales</td>\n",
       "      <td>Male</td>\n",
       "      <td>White</td>\n",
       "      <td>United-States</td>\n",
       "      <td>&gt;50K</td>\n",
       "    </tr>\n",
       "    <tr>\n",
       "      <th>79</th>\n",
       "      <td>38.0</td>\n",
       "      <td>7688.0</td>\n",
       "      <td>0.0</td>\n",
       "      <td>Private</td>\n",
       "      <td>Some college but no degree</td>\n",
       "      <td>Married-civilian spouse present</td>\n",
       "      <td>Precision production craft &amp; repair</td>\n",
       "      <td>Male</td>\n",
       "      <td>White</td>\n",
       "      <td>United-States</td>\n",
       "      <td>&lt;=50K</td>\n",
       "    </tr>\n",
       "    <tr>\n",
       "      <th>100</th>\n",
       "      <td>60.0</td>\n",
       "      <td>0.0</td>\n",
       "      <td>0.0</td>\n",
       "      <td>Self-employed-not incorporated</td>\n",
       "      <td>Associates degree-academic program</td>\n",
       "      <td>Never married</td>\n",
       "      <td>Executive admin and managerial</td>\n",
       "      <td>Male</td>\n",
       "      <td>White</td>\n",
       "      <td>United-States</td>\n",
       "      <td>&gt;50K</td>\n",
       "    </tr>\n",
       "    <tr>\n",
       "      <th>125</th>\n",
       "      <td>41.0</td>\n",
       "      <td>0.0</td>\n",
       "      <td>0.0</td>\n",
       "      <td>Local government</td>\n",
       "      <td>Some college but no degree</td>\n",
       "      <td>Married-civilian spouse present</td>\n",
       "      <td>Adm support including clerical</td>\n",
       "      <td>Male</td>\n",
       "      <td>White</td>\n",
       "      <td>United-States</td>\n",
       "      <td>&gt;50K</td>\n",
       "    </tr>\n",
       "  </tbody>\n",
       "</table>\n",
       "</div>"
      ],
      "text/plain": [
       "      age  capital-gain  capital-loss                       workclass  \\\n",
       "29   46.0       15024.0           0.0                         Private   \n",
       "33   35.0           0.0           0.0                         Private   \n",
       "79   38.0        7688.0           0.0                         Private   \n",
       "100  60.0           0.0           0.0  Self-employed-not incorporated   \n",
       "125  41.0           0.0           0.0                Local government   \n",
       "\n",
       "                                  education                   marital-status  \\\n",
       "29               Some college but no degree  Married-civilian spouse present   \n",
       "33   Masters degree(MA MS MEng MEd MSW MBA)                    Never married   \n",
       "79               Some college but no degree  Married-civilian spouse present   \n",
       "100      Associates degree-academic program                    Never married   \n",
       "125              Some college but no degree  Married-civilian spouse present   \n",
       "\n",
       "                              occupation   sex   race native-country income  \n",
       "29   Precision production craft & repair  Male  White  United-States  <=50K  \n",
       "33                                 Sales  Male  White  United-States   >50K  \n",
       "79   Precision production craft & repair  Male  White  United-States  <=50K  \n",
       "100       Executive admin and managerial  Male  White  United-States   >50K  \n",
       "125       Adm support including clerical  Male  White  United-States   >50K  "
      ]
     },
     "execution_count": 32,
     "metadata": {},
     "output_type": "execute_result"
    }
   ],
   "source": [
    "mistakes_indices = efficacy_test(fakedata=train_data, \n",
    "                               realdata=test_census_data, \n",
    "                               target_name=\"income\", \n",
    "                               transformer=transformer, \n",
    "                               scorer=unique_mistakes)\n",
    "test_census_data.iloc[mistakes_indices].head()"
   ]
  },
  {
   "cell_type": "markdown",
   "id": "persistent-chosen",
   "metadata": {},
   "source": [
    "### Census_v2 test mistakes"
   ]
  },
  {
   "cell_type": "code",
   "execution_count": 33,
   "id": "collectible-oxygen",
   "metadata": {},
   "outputs": [
    {
     "data": {
      "text/html": [
       "<div>\n",
       "<style scoped>\n",
       "    .dataframe tbody tr th:only-of-type {\n",
       "        vertical-align: middle;\n",
       "    }\n",
       "\n",
       "    .dataframe tbody tr th {\n",
       "        vertical-align: top;\n",
       "    }\n",
       "\n",
       "    .dataframe thead th {\n",
       "        text-align: right;\n",
       "    }\n",
       "</style>\n",
       "<table border=\"1\" class=\"dataframe\">\n",
       "  <thead>\n",
       "    <tr style=\"text-align: right;\">\n",
       "      <th></th>\n",
       "      <th>age</th>\n",
       "      <th>capital-gain</th>\n",
       "      <th>capital-loss</th>\n",
       "      <th>workclass</th>\n",
       "      <th>education</th>\n",
       "      <th>marital-status</th>\n",
       "      <th>occupation</th>\n",
       "      <th>sex</th>\n",
       "      <th>race</th>\n",
       "      <th>native-country</th>\n",
       "      <th>income</th>\n",
       "    </tr>\n",
       "  </thead>\n",
       "  <tbody>\n",
       "    <tr>\n",
       "      <th>1</th>\n",
       "      <td>44.0</td>\n",
       "      <td>0.0</td>\n",
       "      <td>0.0</td>\n",
       "      <td>Self-emp-not-inc</td>\n",
       "      <td>Assoc-voc</td>\n",
       "      <td>Married-civ-spouse</td>\n",
       "      <td>Prof-specialty</td>\n",
       "      <td>Female</td>\n",
       "      <td>White</td>\n",
       "      <td>United-States</td>\n",
       "      <td>&lt;=50K</td>\n",
       "    </tr>\n",
       "    <tr>\n",
       "      <th>5</th>\n",
       "      <td>38.0</td>\n",
       "      <td>0.0</td>\n",
       "      <td>0.0</td>\n",
       "      <td>Private</td>\n",
       "      <td>Masters</td>\n",
       "      <td>Married-civ-spouse</td>\n",
       "      <td>Prof-specialty</td>\n",
       "      <td>Male</td>\n",
       "      <td>Black</td>\n",
       "      <td>United-States</td>\n",
       "      <td>&lt;=50K</td>\n",
       "    </tr>\n",
       "    <tr>\n",
       "      <th>6</th>\n",
       "      <td>30.0</td>\n",
       "      <td>0.0</td>\n",
       "      <td>0.0</td>\n",
       "      <td>Private</td>\n",
       "      <td>Bachelors</td>\n",
       "      <td>Married-civ-spouse</td>\n",
       "      <td>Adm-clerical</td>\n",
       "      <td>Female</td>\n",
       "      <td>White</td>\n",
       "      <td>United-States</td>\n",
       "      <td>&lt;=50K</td>\n",
       "    </tr>\n",
       "    <tr>\n",
       "      <th>12</th>\n",
       "      <td>23.0</td>\n",
       "      <td>0.0</td>\n",
       "      <td>0.0</td>\n",
       "      <td>Private</td>\n",
       "      <td>Bachelors</td>\n",
       "      <td>Married-civ-spouse</td>\n",
       "      <td>Adm-clerical</td>\n",
       "      <td>Male</td>\n",
       "      <td>White</td>\n",
       "      <td>United-States</td>\n",
       "      <td>&lt;=50K</td>\n",
       "    </tr>\n",
       "    <tr>\n",
       "      <th>18</th>\n",
       "      <td>45.0</td>\n",
       "      <td>0.0</td>\n",
       "      <td>0.0</td>\n",
       "      <td>Private</td>\n",
       "      <td>Some-college</td>\n",
       "      <td>Married-civ-spouse</td>\n",
       "      <td>Sales</td>\n",
       "      <td>Male</td>\n",
       "      <td>White</td>\n",
       "      <td>United-States</td>\n",
       "      <td>&lt;=50K</td>\n",
       "    </tr>\n",
       "  </tbody>\n",
       "</table>\n",
       "</div>"
      ],
      "text/plain": [
       "     age  capital-gain  capital-loss         workclass     education  \\\n",
       "1   44.0           0.0           0.0  Self-emp-not-inc     Assoc-voc   \n",
       "5   38.0           0.0           0.0           Private       Masters   \n",
       "6   30.0           0.0           0.0           Private     Bachelors   \n",
       "12  23.0           0.0           0.0           Private     Bachelors   \n",
       "18  45.0           0.0           0.0           Private  Some-college   \n",
       "\n",
       "        marital-status      occupation     sex   race native-country income  \n",
       "1   Married-civ-spouse  Prof-specialty  Female  White  United-States  <=50K  \n",
       "5   Married-civ-spouse  Prof-specialty    Male  Black  United-States  <=50K  \n",
       "6   Married-civ-spouse    Adm-clerical  Female  White  United-States  <=50K  \n",
       "12  Married-civ-spouse    Adm-clerical    Male  White  United-States  <=50K  \n",
       "18  Married-civ-spouse           Sales    Male  White  United-States  <=50K  "
      ]
     },
     "execution_count": 33,
     "metadata": {},
     "output_type": "execute_result"
    }
   ],
   "source": [
    "mistakes_indices = efficacy_test(fakedata=train_data, \n",
    "                               realdata=test_census_v2_data, \n",
    "                               target_name=\"income\", \n",
    "                               transformer=transformer, \n",
    "                               scorer=unique_mistakes)\n",
    "test_census_v2_data.iloc[mistakes_indices].head()"
   ]
  },
  {
   "cell_type": "markdown",
   "id": "electronic-banner",
   "metadata": {},
   "source": [
    "### Which categorical column is most predictive?"
   ]
  },
  {
   "cell_type": "code",
   "execution_count": 34,
   "id": "front-portland",
   "metadata": {
    "scrolled": false
   },
   "outputs": [
    {
     "name": "stdout",
     "output_type": "stream",
     "text": [
      "Column: workclass \n",
      "Adult/Census/Census_v2 F1 Score: 0.339/0.000/0.210 \n",
      "Adult/Census/Census_v2 Acc Score: 0.677/0.938/0.798\n",
      "Column: education \n",
      "Adult/Census/Census_v2 F1 Score: 0.488/0.000/0.326 \n",
      "Adult/Census/Census_v2 Acc Score: 0.714/0.938/0.773\n",
      "Column: marital-status \n",
      "Adult/Census/Census_v2 F1 Score: 0.585/0.000/0.199 \n",
      "Adult/Census/Census_v2 Acc Score: 0.713/0.938/0.490\n",
      "Column: occupation \n",
      "Adult/Census/Census_v2 F1 Score: 0.489/0.123/0.331 \n",
      "Adult/Census/Census_v2 Acc Score: 0.667/0.893/0.758\n",
      "Column: sex \n",
      "Adult/Census/Census_v2 F1 Score: 0.443/0.180/0.231 \n",
      "Adult/Census/Census_v2 Acc Score: 0.497/0.555/0.574\n",
      "Column: race \n",
      "Adult/Census/Census_v2 F1 Score: 0.397/0.126/0.159 \n",
      "Adult/Census/Census_v2 Acc Score: 0.323/0.213/0.192\n",
      "Column: native-country \n",
      "Adult/Census/Census_v2 F1 Score: 0.390/0.121/0.157 \n",
      "Adult/Census/Census_v2 Acc Score: 0.276/0.124/0.154\n"
     ]
    }
   ],
   "source": [
    "target = \"income\"\n",
    "for col in train_dset.cat_cols:\n",
    "    if col != target:\n",
    "        train = train_data[[col, target]]\n",
    "        test = test_data[[col, target]]\n",
    "        test_census=test_census_data[[col, target]]\n",
    "        test_census_v2=test_census_v2_data[[col, target]]\n",
    "\n",
    "        transformer.fit(train, discrete_columns=[col, target])\n",
    "        f1_adult = efficacy_test(fakedata=train, realdata=test, target_name=\"income\", transformer=transformer)\n",
    "        acc_adult = efficacy_test(fakedata=train, realdata=test, target_name=\"income\", transformer=transformer, scorer=accuracy_score)\n",
    "\n",
    "        f1_census = efficacy_test(fakedata=train, realdata=test_census, target_name=\"income\", transformer=transformer)\n",
    "        acc_census = efficacy_test(fakedata=train, realdata=test_census, target_name=\"income\", transformer=transformer, scorer=accuracy_score)\n",
    "        \n",
    "        f1_census_v2 = efficacy_test(fakedata=train, realdata=test_census_v2, target_name=\"income\", transformer=transformer)\n",
    "        acc_census_v2 = efficacy_test(fakedata=train, realdata=test_census_v2, target_name=\"income\", transformer=transformer, scorer=accuracy_score)\n",
    "\n",
    "\n",
    "\n",
    "\n",
    "        print(f\"Column: {col} \\nAdult/Census/Census_v2 F1 Score: {f1_adult:.3f}/{f1_census:.3f}/{f1_census_v2:.3f} \\nAdult/Census/Census_v2 Acc Score: {acc_adult:.3f}/{acc_census:.3f}/{acc_census_v2:.3f}\")\n"
   ]
  },
  {
   "cell_type": "markdown",
   "id": "deadly-dominican",
   "metadata": {},
   "source": [
    "### Which numerical column is most predictive"
   ]
  },
  {
   "cell_type": "code",
   "execution_count": 35,
   "id": "billion-genealogy",
   "metadata": {
    "scrolled": false
   },
   "outputs": [
    {
     "name": "stdout",
     "output_type": "stream",
     "text": [
      "Column: age \n",
      "Adult/Census/Census_v2 F1 Score: 0.440/0.121/0.187 \n",
      "Adult/Census/Census_v2 Acc Score: 0.635/0.124/0.532\n",
      "Column: capital-gain \n",
      "Adult/Census/Census_v2 F1 Score: 0.316/0.121/0.241 \n",
      "Adult/Census/Census_v2 Acc Score: 0.784/0.124/0.902\n",
      "Column: capital-loss \n",
      "Adult/Census/Census_v2 F1 Score: 0.161/0.121/0.142 \n",
      "Adult/Census/Census_v2 Acc Score: 0.762/0.124/0.909\n"
     ]
    }
   ],
   "source": [
    "target = \"income\"\n",
    "for col in train_dset.num_cols:\n",
    "    train = train_data[[col, target]]\n",
    "    test = test_data[[col, target]]\n",
    "    test_census=test_census_data[[col, target]]\n",
    "    test_census_v2=test_census_v2_data[[col, target]]\n",
    "\n",
    "    transformer.fit(train, discrete_columns=[target])\n",
    "    f1_adult = efficacy_test(fakedata=train, realdata=test, target_name=\"income\", transformer=transformer)\n",
    "    acc_adult = efficacy_test(fakedata=train, realdata=test, target_name=\"income\", transformer=transformer, scorer=accuracy_score)\n",
    "\n",
    "    f1_census_v2 = efficacy_test(fakedata=train, realdata=test_census_v2, target_name=\"income\", transformer=transformer)\n",
    "    acc_census_v2 = efficacy_test(fakedata=train, realdata=test_census_v2, target_name=\"income\", transformer=transformer, scorer=accuracy_score)\n",
    "\n",
    "\n",
    "\n",
    "\n",
    "    print(f\"Column: {col} \\nAdult/Census/Census_v2 F1 Score: {f1_adult:.3f}/{f1_census:.3f}/{f1_census_v2:.3f} \\nAdult/Census/Census_v2 Acc Score: {acc_adult:.3f}/{acc_census:.3f}/{acc_census_v2:.3f}\")\n"
   ]
  }
 ],
 "metadata": {
  "kernelspec": {
   "display_name": "Python 3",
   "language": "python",
   "name": "python3"
  },
  "language_info": {
   "codemirror_mode": {
    "name": "ipython",
    "version": 3
   },
   "file_extension": ".py",
   "mimetype": "text/x-python",
   "name": "python",
   "nbconvert_exporter": "python",
   "pygments_lexer": "ipython3",
   "version": "3.8.5"
  }
 },
 "nbformat": 4,
 "nbformat_minor": 5
}
