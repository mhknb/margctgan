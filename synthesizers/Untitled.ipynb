{
 "cells": [
  {
   "cell_type": "code",
   "execution_count": 7,
   "id": "4978430e",
   "metadata": {},
   "outputs": [
    {
     "name": "stdout",
     "output_type": "stream",
     "text": [
      "Untitled.ipynb\tctgan  margctgan  tablegan  tvae\n"
     ]
    }
   ],
   "source": [
    "!ls"
   ]
  },
  {
   "cell_type": "code",
   "execution_count": 13,
   "id": "622c001f",
   "metadata": {},
   "outputs": [
    {
     "name": "stdout",
     "output_type": "stream",
     "text": [
      "__pycache__  model.py  results\ttablegan.py  trainer.py\n"
     ]
    }
   ],
   "source": [
    "import os\n",
    "os.chdir(\"/home/hknb/project1/cpgan_hb/\")\n",
    "os.chdir(\"synthesizers/tablegan\")\n",
    "!ls\n"
   ]
  },
  {
   "cell_type": "code",
   "execution_count": 16,
   "id": "34fc448b-695d-4795-87a1-9c14a02a3b53",
   "metadata": {},
   "outputs": [
    {
     "name": "stdout",
     "output_type": "stream",
     "text": [
      "exp_name:exp1\n",
      "dataset:census\n",
      "subset_size:16281\n",
      "random_state:123\n",
      "eval_iter:100\n",
      "save_after:100\n",
      "train:True\n",
      "evaluate:True\n",
      "sample:True\n",
      "resume:False\n",
      "if_validate:True\n",
      "batch_size:500\n",
      "epochs:10\n",
      "test_size:5000\n",
      "sample_size:1000\n",
      "eval_retries:2\n",
      "use_sampler:False\n",
      "numerical_preprocess:none\n",
      "discrete_preprocess:label\n",
      "max_clusters:10\n",
      "covariance_type:full\n",
      "random_dim:100\n",
      "num_channels:64\n",
      "lr:1e-05\n",
      "class_target:income\n",
      "Traceback (most recent call last):\n",
      "  File \"/home/hknb/project1/cpgan_hb/synthesizers/tablegan/tablegan.py\", line 282, in <module>\n",
      "    main()\n",
      "  File \"/home/hknb/project1/cpgan_hb/synthesizers/tablegan/tablegan.py\", line 29, in main\n",
      "    dset = Dataset(\n",
      "           ^^^^^^^^\n",
      "  File \"/home/hknb/project1/cpgan_hb/synthesizers/tablegan/../../utils/dataset.py\", line 75, in __init__\n",
      "    ) = self._load_data(\n",
      "        ^^^^^^^^^^^^^^^^\n",
      "  File \"/home/hknb/project1/cpgan_hb/synthesizers/tablegan/../../utils/dataset.py\", line 168, in _load_data\n",
      "    data, target_name, cat_cols, num_cols, metadata = func(\n",
      "                                                      ^^^^^\n",
      "  File \"/home/hknb/project1/cpgan_hb/synthesizers/tablegan/../../utils/dataset.py\", line 463, in load_census\n",
      "    df = pd.read_csv(dset_path, sep=\",\", index_col=None, **kws)\n",
      "         ^^^^^^^^^^^^^^^^^^^^^^^^^^^^^^^^^^^^^^^^^^^^^^^^^^^^^^\n",
      "  File \"/home/hknb/miniconda3/envs/env_cpganhb/lib/python3.11/site-packages/pandas/io/parsers/readers.py\", line 1026, in read_csv\n",
      "    return _read(filepath_or_buffer, kwds)\n",
      "           ^^^^^^^^^^^^^^^^^^^^^^^^^^^^^^^\n",
      "  File \"/home/hknb/miniconda3/envs/env_cpganhb/lib/python3.11/site-packages/pandas/io/parsers/readers.py\", line 620, in _read\n",
      "    parser = TextFileReader(filepath_or_buffer, **kwds)\n",
      "             ^^^^^^^^^^^^^^^^^^^^^^^^^^^^^^^^^^^^^^^^^^\n",
      "  File \"/home/hknb/miniconda3/envs/env_cpganhb/lib/python3.11/site-packages/pandas/io/parsers/readers.py\", line 1620, in __init__\n",
      "    self._engine = self._make_engine(f, self.engine)\n",
      "                   ^^^^^^^^^^^^^^^^^^^^^^^^^^^^^^^^^\n",
      "  File \"/home/hknb/miniconda3/envs/env_cpganhb/lib/python3.11/site-packages/pandas/io/parsers/readers.py\", line 1880, in _make_engine\n",
      "    self.handles = get_handle(\n",
      "                   ^^^^^^^^^^^\n",
      "  File \"/home/hknb/miniconda3/envs/env_cpganhb/lib/python3.11/site-packages/pandas/io/common.py\", line 873, in get_handle\n",
      "    handle = open(\n",
      "             ^^^^^\n",
      "FileNotFoundError: [Errno 2] No such file or directory: '../../data/census/train.csv'\n"
     ]
    }
   ],
   "source": [
    "!python tablegan.py \\\n",
    "    -name exp1 \\\n",
    "    -data census \\\n",
    "    -ep 10 \\\n",
    "    -s 123 \\\n",
    "    --train \"True\" \\\n",
    "    --evaluate \"True\" \\\n",
    "    --sample \"True\" \\\n",
    "    --subset_size 16281 \\\n",
    "    --sample_size 1000 \\\n",
    "    --eval_retries 2"
   ]
  },
  {
   "cell_type": "code",
   "execution_count": null,
   "id": "611f9c79",
   "metadata": {},
   "outputs": [],
   "source": []
  }
 ],
 "metadata": {
  "kernelspec": {
   "display_name": "Python 3 (ipykernel)",
   "language": "python",
   "name": "python3"
  },
  "language_info": {
   "codemirror_mode": {
    "name": "ipython",
    "version": 3
   },
   "file_extension": ".py",
   "mimetype": "text/x-python",
   "name": "python",
   "nbconvert_exporter": "python",
   "pygments_lexer": "ipython3",
   "version": "3.11.8"
  }
 },
 "nbformat": 4,
 "nbformat_minor": 5
}
